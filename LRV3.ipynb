{
 "cells": [
  {
   "cell_type": "markdown",
   "metadata": {
    "slideshow": {
     "slide_type": "slide"
    }
   },
   "source": [
    "### 18th Winter school on Mathematical Finance\n",
    "<p>\n",
    "\n",
    "### Lunteren, January 21-23, 2019\n",
    "\n",
    "<p>\n",
    "<p>\n",
    "\n",
    "### Rough volatility\n",
    "\n",
    "<p>\n",
    "#### Lecture 3: Forecasting\n",
    "\n",
    "\n",
    "\n",
    "\n",
    "\n",
    "Jim Gatheral   \n",
    "Department of Mathematics     \n",
    "\n",
    "<h3><img src=\"http://mfe.baruch.cuny.edu/wp-content/uploads/2014/07/BaruchLogo2.png\" align = \"left\" width=160></h3> \n",
    "\n",
    "\n",
    "$$\n",
    "\\newcommand{\\beas}{\\begin{eqnarray*}}\n",
    "\\newcommand{\\eeas}{\\end{eqnarray*}}\n",
    "\\newcommand{\\bea}{\\begin{eqnarray}}\n",
    "\\newcommand{\\eea}{\\end{eqnarray}}\n",
    "\\newcommand{\\ben}{\\begin{enumerate}}\n",
    "\\newcommand{\\een}{\\end{enumerate}}\n",
    "\\newcommand{\\bi}{\\begin{itemize}}\n",
    "\\newcommand{\\ei}{\\end{itemize}}\n",
    "\\newcommand{\\beq}{\\begin{equation}}\n",
    "\\newcommand{\\eeq}{\\end{equation}}\n",
    "\\newcommand{\\bv}{\\begin{verbatim}}\n",
    "\\newcommand{\\ev}{\\end{verbatim}}\n",
    "\\newcommand{\\E}{\\mathbb{E}}\n",
    "\\newcommand{\\R}{\\mathbb{R}}\n",
    "\\newcommand{\\mP}{\\mathbb{P}}\n",
    "\\newcommand{\\mQ}{\\mathbb{Q}}\n",
    "\\newcommand{\\sigl}{\\sigma_L}\n",
    "\\newcommand{\\BS}{\\rm BS}\n",
    "\\newcommand{\\vix}{\\text{VIX}}\n",
    "\\newcommand{\\p}{\\partial}\n",
    "\\newcommand{\\var}{{\\rm var}}\n",
    "\\newcommand{\\cov}{{\\rm cov}}\n",
    "\\newcommand{\\mt}{\\mathbf{t}}\n",
    "\\newcommand{\\mS}{\\mathbf{S}}\n",
    "\\newcommand{\\tC}{\\widetilde{C}}\n",
    "\\newcommand{\\hC}{\\widehat{C}}\n",
    "\\newcommand{\\cE}{\\mathcal{E}}\n",
    "\\newcommand{\\tH}{\\widetilde{H}}\n",
    "\\newcommand{\\cD}{\\mathcal{D}}\n",
    "\\newcommand{\\cM}{\\mathcal{M}}\n",
    "\\newcommand{\\cS}{\\mathcal{S}}\n",
    "\\newcommand{\\cR}{\\mathcal{R}}\n",
    "\\newcommand{\\cF}{\\mathcal{F}}\n",
    "\\newcommand{\\cV}{\\mathcal{V}}\n",
    "\\newcommand{\\cG}{\\mathcal{G}}\n",
    "\\newcommand{\\cv}{\\mathcal{v}}\n",
    "\\newcommand{\\cg}{\\mathcal{g}}\n",
    "\\newcommand{\\cL}{\\mathcal{L}}\n",
    "\\newcommand{\\cO}{\\mathcal{O}}\n",
    "\\newcommand{\\dt}{\\Delta t}\n",
    "\\newcommand{\\tr}{{\\rm tr}}\n",
    "\\newcommand{\\sgn}{\\mathrm{sign}}\n",
    "\\newcommand{\\ee}[1]{{\\mathbb{E}\\left[{#1}\\right]}}\n",
    "\\newcommand{\\eef}[1]{{\\mathbb{E}\\left[\\left.{#1}\\right|\\cF_t\\right]}}\n",
    "\\newcommand{\\eefm}[2]{{\\mathbb{E}^{#2}\\left[\\left.{#1}\\right|\\cF_t\\right]}}\n",
    "\\newcommand{\\angl}[1]{{\\langle{#1}\\rangle}}\n",
    "$$\n",
    "\n"
   ]
  },
  {
   "cell_type": "markdown",
   "metadata": {
    "slideshow": {
     "slide_type": "slide"
    }
   },
   "source": [
    "### Outline of Lecture 3\n",
    "\n",
    "\n",
    "- Forecasting realized variance\n",
    "\n",
    "\n",
    "- Predicting the forward variance curve\n",
    "\n",
    "\n",
    "- The fair value of VIX futures\n",
    "\n",
    "\n"
   ]
  },
  {
   "cell_type": "markdown",
   "metadata": {
    "slideshow": {
     "slide_type": "slide"
    }
   },
   "source": [
    "### Rough volatility and forecasting\n",
    "\n",
    "- What is are rough volatility models good for?\n",
    "\n",
    "    - One obvious application is to volatility forecasting.\n",
    "\n",
    "\n",
    "- If follows that we can estimate the fair value of the variance swap curve.\n",
    "\n",
    "   - With high frequency data as input, rough volatility models generate option fair value estimates."
   ]
  },
  {
   "cell_type": "markdown",
   "metadata": {
    "slideshow": {
     "slide_type": "slide"
    }
   },
   "source": [
    "### Forcasting fBm\n",
    "\n",
    " \n",
    "- In the RFSV model [(1)](#eq:dataDriven), $\\log \\sigma_t \\approx \\nu\\,W^H_t+C$ for some constant $C$.\n",
    "\n",
    "\n",
    "-  <span>[Nuzman and Poor]<sup id=\"cite_ref-NuzmanPoor\" class=\"reference\"><a href=\"#cite_note-NuzmanPoor\"><span>[6]</span></a></sup> show that $W^H_{t+\\Delta}$ is conditionally Gaussian with conditional expectation\n",
    "<p>\n",
    "$$\\E[W^H_{t+\\Delta}|\\cF_t]=\\frac{\\cos(H\\pi)}{\\pi} \\Delta^{H+1/2} \\int_{-\\infty}^t \\frac{W^H_s}{(t-s+\\Delta)(t-s)^{H+1/2}} ds\n",
    "$$  \n",
    "and conditional variance\n",
    "<p>\n",
    "$$\n",
    "\\text{Var}[W^H_{t+\\Delta}|\\cF_t]=\\tilde c\\,\\Delta^{2H}.\n",
    "$$\n",
    "where $$\n",
    "\\tilde c = \\frac{\\Gamma(3/2-H)}{\\Gamma(H+1/2)\\,\\Gamma(2-2H)}.\n",
    "$$\n",
    "\n",
    " "
   ]
  },
  {
   "cell_type": "markdown",
   "metadata": {
    "slideshow": {
     "slide_type": "slide"
    }
   },
   "source": [
    "### A heuristic explanation of the formula\n",
    "\n",
    "\n",
    "- The forecast formula comes from regressing $W^H_{t+\\Delta}$ against the $W^H_s$ with $s<t$.\n",
    "\n",
    "\n",
    "- Let \n",
    "$$\n",
    "\\beta(u,\\Delta) = \\frac{\\cos(H\\pi)}{\\pi} \\Delta^{H+1/2}\\frac{1} {(u+\\Delta)\\,u^{H+1/2}} .\n",
    "$$\n",
    "Then, for $t,\\Delta>0$ and $0<H< \\frac12$,\n",
    "$$\n",
    "\\int_0^\\infty\\,\\beta(u,\\Delta)\\,|t-u|^{2 H} \\,du = (t+\\Delta)^{2 H}.\n",
    "$$\n",
    "    - In particular, \n",
    "$$\n",
    "\\int_0^\\infty\\,\\beta(u,\\Delta)\\,du=1.\n",
    "$$\n",
    "\n"
   ]
  },
  {
   "cell_type": "markdown",
   "metadata": {
    "slideshow": {
     "slide_type": "subslide"
    }
   },
   "source": [
    "\n",
    "- With $\\beta(u,\\Delta) $ thus defined and for $s<t$,\n",
    "<p>\n",
    "$$\n",
    "\\ee{ W^H_s\\,\\left( W^H_{t+\\Delta} - \\int_{-\\infty}^t\\,\\beta(t-u,\\Delta)\\,W^H_u\\,du  \\right)  } = 0.\n",
    "$$\n",
    "<p>\n",
    "    - In other words, the $\\beta(t-u,\\Delta)$ are the normal regression coefficients."
   ]
  },
  {
   "cell_type": "markdown",
   "metadata": {
    "slideshow": {
     "slide_type": "slide"
    }
   },
   "source": [
    "### The forecast formula\n",
    " \n",
    "Using that $W^H$ is a Gaussian random variable, we get that\n",
    "\n",
    "<blockquote><div style=\"background-color:#add8e6; color:#FFFFFF; font-style: normal;  \" ><h4>\n",
    "Variance forecast formula</h4>\n",
    "</div>\n",
    "<div style=\"background-color:#E8E8E8; color:#000000; font-style: normal; \">\n",
    "<br>\n",
    "\n",
    "<a name=\"eq:vForecast\"></a>(3)\n",
    "$$\n",
    "\\eefm{v_{t+\\Delta}}{\\mP}=\\exp\\left\\{\\eefm{\\log(v_{t+\\Delta})}{\\mP}+2\\, \\tilde c\\,\\nu^2\\Delta^{2\\,H}\\right\\}\n",
    "%\\label{eq:vForecast}\n",
    "$$\n",
    "\n",
    "<br>\n",
    "\n",
    "</div>\n",
    "\n",
    "</blockquote>\n",
    "\n",
    "where \n",
    "\n",
    "$$\n",
    "\\beas\n",
    "&&\\eefm{\\log v_{t+\\Delta}}{\\mP}\\\\\n",
    "&&= \\frac{\\cos(H\\pi)}{\\pi} \\Delta^{H+1/2} \\int_{-\\infty}^t \\frac{\\log v_s}{(t-s+\\Delta)(t-s)^{H+1/2}} ds.\n",
    "\\eeas\n",
    "$$"
   ]
  },
  {
   "cell_type": "markdown",
   "metadata": {
    "slideshow": {
     "slide_type": "slide"
    }
   },
   "source": [
    "### Discretization of the forecast formula\n",
    "\n",
    "In <span>[Gatheral, Jaisson, Rosenbaum]<sup id=\"cite_ref-GJR\" class=\"reference\"><a href=\"#cite_note-GJR\"><span>[4]</span></a></sup>, we discretize the integral by taking mid-points as in \n",
    "\n",
    "$$\n",
    "\\eefm{\\log v_{t+\\Delta}}{\\mP}\n",
    "\\approx  \\frac 1A\\, \\sum_{j=0}^L\\,\\frac{\\log v_{t-j}}{\\left(j+\\frac12+ \\Delta\\right)\\,(j+\\frac 12)^{H+1/2}}.\n",
    "$$\n",
    "\n",
    "where $L$ is the maximum number of lags and the normalizing constant $A$ is given by\n",
    "\n",
    "$$\n",
    "A = \\sum_{j=0}^\\infty\\,\\frac{1}{\\left(j+\\frac12+ \\Delta\\right)\\,(j+\\frac 12)^{H+1/2}}.\n",
    "$$"
   ]
  },
  {
   "cell_type": "markdown",
   "metadata": {
    "slideshow": {
     "slide_type": "subslide"
    }
   },
   "source": [
    "Inspired by <span>[Bennedsen, Lunde and Pakkanen]<sup id=\"cite_ref-BLPdecoupling\" class=\"reference\"><a href=\"#cite_note-BLPdecoupling\"><span>[2]</span></a></sup>, we approximate the first term in the sum more accurately as follows.\n",
    "\n",
    "$$\n",
    "\\eefm{\\log v_{t+\\Delta}}{\\mP}\n",
    "\\approx  \\frac 1A\\, \\left\\{ \\frac{\\log v_t}{(s^\\star+ \\Delta)\\,(s^\\star)^{H+1/2}} + \n",
    "\\sum_{j=1}^L\\,\\frac{\\log v_{t-j}}{(j+\\frac12+ \\Delta)\\,(j+\\frac 12)^{H+1/2}}\\right\\}\n",
    "$$\n",
    "\n",
    "where $s^\\star$ is chosen such that\n",
    "\n",
    "$$\n",
    "\\frac{1}{\\gamma} = \\int_0^1\\,\\frac{ds}{s^{H+\\frac12}} = \\frac{1}{{s^\\star}^{H+\\frac12}} = \\frac{1}{{s^\\star}^{1-\\gamma}} \n",
    "$$\n",
    "\n",
    "where $\\gamma = \\frac12-H$.  Thus\n",
    "\n",
    "$$\n",
    "s^\\star = \\gamma^{\\frac{1}{1-\\gamma}}.\n",
    "$$"
   ]
  },
  {
   "cell_type": "markdown",
   "metadata": {
    "slideshow": {
     "slide_type": "slide"
    }
   },
   "source": [
    "### Load some useful libraries"
   ]
  },
  {
   "cell_type": "code",
   "execution_count": 1,
   "metadata": {
    "slideshow": {
     "slide_type": "fragment"
    }
   },
   "outputs": [
    {
     "name": "stderr",
     "output_type": "stream",
     "text": [
      "Loading required package: xts\n",
      "Loading required package: zoo\n",
      "\n",
      "Attaching package: ‘zoo’\n",
      "\n",
      "The following objects are masked from ‘package:base’:\n",
      "\n",
      "    as.Date, as.Date.numeric\n",
      "\n",
      "Loading required package: TTR\n",
      "Version 0.4-0 included new data defaults. See ?getSymbols.\n"
     ]
    }
   ],
   "source": [
    "library(quantmod)\n",
    "library(repr)\n",
    "library(stinepack)"
   ]
  },
  {
   "cell_type": "code",
   "execution_count": 2,
   "metadata": {
    "slideshow": {
     "slide_type": "fragment"
    }
   },
   "outputs": [],
   "source": [
    "options(repr.plot.width=10,repr.plot.height=7)"
   ]
  },
  {
   "cell_type": "markdown",
   "metadata": {
    "slideshow": {
     "slide_type": "slide"
    }
   },
   "source": [
    "### Load realized kernel estimates from Lecture 1"
   ]
  },
  {
   "cell_type": "code",
   "execution_count": 3,
   "metadata": {
    "slideshow": {
     "slide_type": "fragment"
    }
   },
   "outputs": [
    {
     "ename": "ERROR",
     "evalue": "Error in setwd(\"./LRV\"): cannot change working directory\n",
     "output_type": "error",
     "traceback": [
      "Error in setwd(\"./LRV\"): cannot change working directory\nTraceback:\n",
      "1. setwd(\"./LRV\")"
     ]
    }
   ],
   "source": [
    "setwd(\"./LRV\")\n",
    "\n",
    "load(\"OxfordRV.rData\")"
   ]
  },
  {
   "cell_type": "code",
   "execution_count": null,
   "metadata": {
    "slideshow": {
     "slide_type": "fragment"
    }
   },
   "outputs": [],
   "source": [
    "h.spx.regression <- 0.15\n",
    "nu.spx.regression <- 0.30\n"
   ]
  },
  {
   "cell_type": "code",
   "execution_count": null,
   "metadata": {
    "slideshow": {
     "slide_type": "fragment"
    }
   },
   "outputs": [],
   "source": [
    "tail(spx.rk)"
   ]
  },
  {
   "cell_type": "markdown",
   "metadata": {
    "slideshow": {
     "slide_type": "slide"
    }
   },
   "source": [
    "### Implement variance forecast in R"
   ]
  },
  {
   "cell_type": "code",
   "execution_count": null,
   "metadata": {
    "slideshow": {
     "slide_type": "fragment"
    }
   },
   "outputs": [],
   "source": [
    "# Find all of the dates\n",
    "dateIndex <- substr(as.character(index(spx.rk)),1,10) # Create index of dates\n",
    "\n",
    "cTilde <- function(h){gamma(3/2-h)/(gamma(h+1/2)*gamma(2-2*h))} # Factor because we are computing conditional on \\cF_t\n",
    "\n",
    "# XTS compatible version of forecast\n",
    "rv.forecast.XTS <- function(rvdata,h,date,nLags,delta,nu){\n",
    "    gam <- 1/2-h\n",
    "    j <- (1:nLags)-1\n",
    "    cf <- 1/((j+1/2)^(h+1/2)*(j+1/2+delta)) # Lowest number should apply to latest date\n",
    "    s.star <- gam^(1/(1-gam))\n",
    "    cf[1] <- 1/(s.star^(h+1/2)*(s.star+delta))\n",
    "    datepos <- which(dateIndex==date)\n",
    "    ldata <- log(as.numeric(rvdata[datepos-j])) # Note that this object is ordered from earlier to later\n",
    "    pick <- which(!is.na(ldata))\n",
    "    norm <- sum(cf[pick])\n",
    "    fcst <- cf[pick]%*%ldata[rev(pick)]/norm # Most recent dates get the highest weight\n",
    "    return(exp(fcst+2*nu^2*cTilde(h)*delta^(2*h)))\n",
    "\n",
    "    }"
   ]
  },
  {
   "cell_type": "markdown",
   "metadata": {
    "slideshow": {
     "slide_type": "slide"
    }
   },
   "source": [
    "### SPX actual vs forecast variance"
   ]
  },
  {
   "cell_type": "markdown",
   "metadata": {
    "slideshow": {
     "slide_type": "fragment"
    }
   },
   "source": [
    "- In order to forecast using (3), we need estimates of $H$ and $\\nu$.\n",
    "\n",
    "    - We use our estimates of $H$ and $\\nu$ from the regressions rather than from the ACF estimator.\n",
    "    - The choice does not seem to make much difference.\n",
    "    \n",
    "    \n"
   ]
  },
  {
   "cell_type": "code",
   "execution_count": null,
   "metadata": {
    "slideshow": {
     "slide_type": "fragment"
    }
   },
   "outputs": [],
   "source": [
    "var.forecast.spx <- function(h,nu)function(del){\n",
    "    n <- length(spx.rk)\n",
    "    nLags <- 200\n",
    "    \n",
    "    range <- nLags:(n-del)\n",
    "    rv.predict <- sapply(dateIndex[range],function(d){rv.forecast.XTS(rvdata=spx.rk,h,d,nLags=nLags,delta=del,nu)})\n",
    "    rv.actual <- spx.rk[range+del]\n",
    "    return(list(rv.predict=rv.predict,rv.actual=rv.actual))\n",
    "    }"
   ]
  },
  {
   "cell_type": "markdown",
   "metadata": {
    "slideshow": {
     "slide_type": "fragment"
    }
   },
   "source": [
    "- From experiment, we found that around 200 lags works best.\n"
   ]
  },
  {
   "cell_type": "markdown",
   "metadata": {
    "slideshow": {
     "slide_type": "slide"
    }
   },
   "source": [
    "### Scatter plot of delta days ahead predictions"
   ]
  },
  {
   "cell_type": "code",
   "execution_count": null,
   "metadata": {
    "slideshow": {
     "slide_type": "fragment"
    }
   },
   "outputs": [],
   "source": [
    "del <- 1\n",
    "vf <- var.forecast.spx(h=h.spx.regression,nu=nu.spx.regression)(del)\n",
    "rv.predict <- vf$rv.predict\n",
    "rv.actual <- vf$rv.actual\n",
    "vol.predict <- sqrt(as.numeric(rv.predict))\n",
    "vol.actual <- sqrt(as.numeric(rv.actual))\n",
    "vol.actual <-  sqrt(as.numeric(rv.actual))                  "
   ]
  },
  {
   "cell_type": "code",
   "execution_count": null,
   "metadata": {
    "slideshow": {
     "slide_type": "fragment"
    }
   },
   "outputs": [],
   "source": [
    "c(mean(vol.actual-vol.predict),sd(vol.actual-vol.predict))"
   ]
  },
  {
   "cell_type": "code",
   "execution_count": null,
   "metadata": {
    "slideshow": {
     "slide_type": "subslide"
    }
   },
   "outputs": [],
   "source": [
    "plot(vol.predict,vol.actual,col=\"blue\",pch=20,cex=.7, ylab=\"Actual vol.\", xlab=\"Predicted vol.\")\n",
    "abline(coef=c(0,1),col=\"red\")"
   ]
  },
  {
   "cell_type": "markdown",
   "metadata": {
    "slideshow": {
     "slide_type": "fragment"
    }
   },
   "source": [
    "Figure 1: Actual vols vs predicted vols."
   ]
  },
  {
   "cell_type": "markdown",
   "metadata": {
    "slideshow": {
     "slide_type": "subslide"
    }
   },
   "source": [
    "Which point is the outlier?"
   ]
  },
  {
   "cell_type": "code",
   "execution_count": null,
   "metadata": {
    "slideshow": {
     "slide_type": "fragment"
    }
   },
   "outputs": [],
   "source": [
    "rv.actual[which(as.numeric(vol.actual)>.09)]"
   ]
  },
  {
   "cell_type": "code",
   "execution_count": null,
   "metadata": {
    "slideshow": {
     "slide_type": "fragment"
    }
   },
   "outputs": [],
   "source": [
    "rv.predict[which(as.numeric(vol.predict)>.06)]"
   ]
  },
  {
   "cell_type": "markdown",
   "metadata": {
    "slideshow": {
     "slide_type": "slide"
    }
   },
   "source": [
    "### Superimpose actual and predicted vols"
   ]
  },
  {
   "cell_type": "code",
   "execution_count": null,
   "metadata": {
    "slideshow": {
     "slide_type": "fragment"
    }
   },
   "outputs": [],
   "source": [
    "plot(vol.actual, col=\"blue\",type=\"l\")\n",
    "lines(vol.predict, col=\"red\",type=\"l\")"
   ]
  },
  {
   "cell_type": "markdown",
   "metadata": {
    "slideshow": {
     "slide_type": "fragment"
    }
   },
   "source": [
    "Figure 2: Actual volatilities in blue; predicted vols in red.  Note that volatilities are in daily terms."
   ]
  },
  {
   "cell_type": "markdown",
   "metadata": {
    "slideshow": {
     "slide_type": "slide"
    }
   },
   "source": [
    "### VolX\n",
    "\n",
    "- The commercial company VolX (http://volx.us) has developed a number of RealVol Instruments and RealVol Indices based on realized volatility as defined by the RealVol Formulas.\n",
    "    - Their business model is to license these indices to exchanges and information providers.\n",
    "\n",
    "\n",
    "- They publish daily forecasts of RV using HARK (which is HAR-RV with Kalman filtering, and RVOL, an implementation of the Rough Volatility forecast.\n",
    "\n",
    "\n",
    "- You can compare forecast versus actual volatility for the two estimators here: http://www.volx.us/volatilitycharts.shtml?2&SPY&PRED."
   ]
  },
  {
   "cell_type": "markdown",
   "metadata": {
    "slideshow": {
     "slide_type": "slide"
    }
   },
   "source": [
    "### VolX screenshots\n",
    "\n",
    "<h2><img src=\"http://mfe.baruch.cuny.edu/wp-content/uploads/2018/11/RVOL.png\" align = \"center\" width=900></h2>"
   ]
  },
  {
   "cell_type": "markdown",
   "metadata": {
    "slideshow": {
     "slide_type": "slide"
    }
   },
   "source": [
    "<h2><img src=\"http://mfe.baruch.cuny.edu/wp-content/uploads/2018/11/RVOLdist.png\" align = \"center\" width=900></h2>\n",
    "<h2><img src=\"http://mfe.baruch.cuny.edu/wp-content/uploads/2018/11/HVOLdist.png\" align = \"center\" width=900></h2>"
   ]
  },
  {
   "cell_type": "markdown",
   "metadata": {
    "slideshow": {
     "slide_type": "slide"
    }
   },
   "source": [
    "### Conditional and unconditional variances\n",
    "\n",
    "- The HAR and rough volatility forecasts are both impressive.\n",
    "    - Much superior to alternatives such as GARCH.\n",
    "    \n",
    "    \n",
    "- However, HAR is a regression and rough volatility is a proper model.\n",
    "\n",
    "\n",
    "- One practical consequence is that we can put error bars on our volatility forecasts."
   ]
  },
  {
   "cell_type": "markdown",
   "metadata": {
    "slideshow": {
     "slide_type": "slide"
    }
   },
   "source": [
    "### So how good is the forecast?\n",
    "\n",
    "Specifically, by how much is the variance of the future variance reduced by taking into account the whole history  of the fBm?\n",
    "- In practice of course, we only consider some finite history, 200 points say.\n",
    "\n",
    "- We know this again from <span>[Nuzman and Poor]<sup id=\"cite_ref-NuzmanPoor\" class=\"reference\"><a href=\"#cite_note-NuzmanPoor\"><span>[</span>10<span>]</span></a></sup> who showed that the ratio of the conditional to the unconditional variance of the $\\log v_t$ is\n",
    "\n",
    "$$\n",
    "\\tilde c = \\frac{\\Gamma(3/2-H)}{\\Gamma(H+1/2)\\,\\Gamma(2-2H)}.\n",
    "$$\n",
    "\n",
    "\n",
    "- We can compute this ratio empirically and compare with the model prediction."
   ]
  },
  {
   "cell_type": "markdown",
   "metadata": {
    "slideshow": {
     "slide_type": "slide"
    }
   },
   "source": [
    "### Unconditional and conditional variance vs lag $\\Delta$\n",
    "\n",
    "First we compute the time series of prediction errors."
   ]
  },
  {
   "cell_type": "code",
   "execution_count": null,
   "metadata": {
    "slideshow": {
     "slide_type": "fragment"
    }
   },
   "outputs": [],
   "source": [
    "log.vol.err <- function(del){\n",
    "    vf <- var.forecast.spx(h=h.spx.regression,nu=nu.spx.regression)(del)\n",
    "    rv.predict <- vf$rv.predict\n",
    "    rv.actual <- vf$rv.actual\n",
    "    vol.predict <- sqrt(as.numeric(rv.predict))\n",
    "    vol.actual <-  sqrt(as.numeric(rv.actual)) \n",
    "    err <- log(vol.actual)-log(vol.predict)\n",
    "    return(err)\n",
    "    }"
   ]
  },
  {
   "cell_type": "code",
   "execution_count": null,
   "metadata": {
    "slideshow": {
     "slide_type": "fragment"
    }
   },
   "outputs": [],
   "source": [
    "var.log.err <- function(del){\n",
    "    var(log.vol.err(del))\n",
    "}"
   ]
  },
  {
   "cell_type": "code",
   "execution_count": null,
   "metadata": {
    "slideshow": {
     "slide_type": "fragment"
    }
   },
   "outputs": [],
   "source": [
    "var.log.err(10)"
   ]
  },
  {
   "cell_type": "markdown",
   "metadata": {
    "slideshow": {
     "slide_type": "subslide"
    }
   },
   "source": [
    "The following code takes too long to run.  You can run it by uncommenting the code."
   ]
  },
  {
   "cell_type": "code",
   "execution_count": null,
   "metadata": {
    "slideshow": {
     "slide_type": "fragment"
    }
   },
   "outputs": [],
   "source": [
    "del <- 1:100\n",
    "#var.log.err.del <- sapply(del,var.log.err)"
   ]
  },
  {
   "cell_type": "code",
   "execution_count": null,
   "metadata": {
    "slideshow": {
     "slide_type": "fragment"
    }
   },
   "outputs": [],
   "source": [
    "#save(var.log.err.del ,file=\"./LRV/varerr201811.rData\")\n",
    "load(file=\"varerr201811.rData\")"
   ]
  },
  {
   "cell_type": "markdown",
   "metadata": {
    "slideshow": {
     "slide_type": "slide"
    }
   },
   "source": [
    "### Plot of conditional and unconditional variance\n",
    "\n",
    "- The unconditional variance of differences in log-vol is given by\n",
    "\n",
    "$$\n",
    "m(2,\\Delta)=\\angl{\\left(\\log \\sigma_{t+\\Delta} -\\log \\sigma_{t} \\right)^2}.\n",
    "$$\n",
    "\n",
    "- The conditional variance is given by `var.log.err`$(\\Delta)$.\n",
    "\n",
    "\n"
   ]
  },
  {
   "cell_type": "code",
   "execution_count": null,
   "metadata": {},
   "outputs": [],
   "source": [
    "sig <- sqrt(as.numeric(spx.rk))\n",
    "\n",
    "mq.del.Raw <- function(q,lag){mean(abs(diff(log(sig),lag=lag))^q)}\n",
    "mq.del <- function(x,q){sapply(x,function(x){mq.del.Raw(q,x)})}\n"
   ]
  },
  {
   "cell_type": "code",
   "execution_count": null,
   "metadata": {
    "slideshow": {
     "slide_type": "subslide"
    }
   },
   "outputs": [],
   "source": [
    "plot(del,mq.del(del,2),pch=20,cex=1,ylab=expression(Variance), \n",
    "     xlab=expression(Delta),col=\"blue\",ylim=c(0,.35),\n",
    "     main= \"Unconditional and conditional variance\")\n",
    "curve(nu.spx.regression^2*x^(2*h.spx.regression),from=0,to=100,add=T,col=\"red\",lwd=2,n=1000)\n",
    "points(del,var.log.err.del,col=\"green4\",pch=20)\n",
    "curve(cTilde(h.spx.regression)* nu.spx.regression^2*x^(2*h.spx.regression),from=0,to=100,\n",
    "      add=T,col=\"orange\",lwd=2,n=1000)"
   ]
  },
  {
   "cell_type": "markdown",
   "metadata": {
    "slideshow": {
     "slide_type": "fragment"
    }
   },
   "source": [
    "Figure 3: Actual unconditional variance in blue, rough volatility prediction in red; Actual conditional variance in green, rough volatility prediction in orange."
   ]
  },
  {
   "cell_type": "markdown",
   "metadata": {
    "slideshow": {
     "slide_type": "subslide"
    }
   },
   "source": [
    "### Amazing agreement between data and model\n",
    "\n",
    "- We observe that the ratio of conditional to unconditional variance is more or less *exactly* as predicted by the model!"
   ]
  },
  {
   "cell_type": "markdown",
   "metadata": {
    "slideshow": {
     "slide_type": "slide"
    }
   },
   "source": [
    "### Forecasting the variance swap curve\n",
    "\n",
    "Finally, we forecast the whole variance swap curve using the variance forecasting formula [(3)](#eq:vForecast).\n"
   ]
  },
  {
   "cell_type": "code",
   "execution_count": null,
   "metadata": {
    "slideshow": {
     "slide_type": "fragment"
    }
   },
   "outputs": [],
   "source": [
    "xi.raw <- function(date,nu,h,delta){ # delta is in days\n",
    "    xi <- rv.forecast.XTS(rvdata=spx.rk,h=h,date=date,nLags=200,delta=delta,nu=nu)\n",
    "    return(xi)\n",
    "}\n",
    "\n",
    "# Forward variance curve (again the array tt should be in units of years)\n",
    "xi.forecast <- Vectorize(xi.raw, vectorize.args = \"delta\")"
   ]
  },
  {
   "cell_type": "code",
   "execution_count": null,
   "metadata": {
    "slideshow": {
     "slide_type": "fragment"
    }
   },
   "outputs": [],
   "source": [
    "xi.forecast(date=\"2010-05-10\",nu=nu.spx.regression,h=h.spx.regression,delta=c(9,10))"
   ]
  },
  {
   "cell_type": "code",
   "execution_count": null,
   "metadata": {
    "slideshow": {
     "slide_type": "subslide"
    }
   },
   "outputs": [],
   "source": [
    "varSwapBDays <- function(date,nDays,nu,h,onFactor){\n",
    "\n",
    "  tvec <- 1:nDays\n",
    "  xicurve <- xi.forecast(date,nu,h,tvec)\n",
    "  int.xicurve <- cumsum(xicurve)\n",
    "  varcurve <- cumsum(xicurve)/tvec * onFactor\n",
    "  res <- data.frame(tvec,varcurve)\n",
    "  names(res) <- c(\"BDays\",\"varswap\")\n",
    "  return(res)\n",
    "}"
   ]
  },
  {
   "cell_type": "markdown",
   "metadata": {
    "slideshow": {
     "slide_type": "slide"
    }
   },
   "source": [
    "### Plot of variance swap forecasts by day"
   ]
  },
  {
   "cell_type": "code",
   "execution_count": null,
   "metadata": {
    "slideshow": {
     "slide_type": "fragment"
    }
   },
   "outputs": [],
   "source": [
    "plot(varSwapBDays(\"2016-01-04\",3*252,nu=nu.spx.regression,h=h.spx.regression,onFactor=1.4),\n",
    "    pch=20,col=\"blue\",xlab=\"Trading days\", ylab=\"Variance swap rate forecast\")"
   ]
  },
  {
   "cell_type": "markdown",
   "metadata": {
    "slideshow": {
     "slide_type": "fragment"
    }
   },
   "source": [
    "Figure 4: Forecast forward variance curve as of January 4, 2016."
   ]
  },
  {
   "cell_type": "markdown",
   "metadata": {
    "slideshow": {
     "slide_type": "slide"
    }
   },
   "source": [
    "### A function to draw a continuous curve"
   ]
  },
  {
   "cell_type": "code",
   "execution_count": null,
   "metadata": {
    "slideshow": {
     "slide_type": "fragment"
    }
   },
   "outputs": [],
   "source": [
    "varSwapForecast <- function (date, tau, nu, h, onFactor) \n",
    "{\n",
    "    vsc <- varSwapBDays(date, 252 * 3, nu = nu, h = h, onFactor)\n",
    "    x <- vsc$BDays/252\n",
    "    y <- sqrt(vsc$varswap * 252)\n",
    "    res <- stinterp(x, y, tau)$y\n",
    "    return(res)\n",
    "}"
   ]
  },
  {
   "cell_type": "code",
   "execution_count": null,
   "metadata": {
    "slideshow": {
     "slide_type": "subslide"
    }
   },
   "outputs": [],
   "source": [
    "curve(varSwapForecast(\"2016-01-04\",x,nu=nu.spx.regression,h=h.spx.regression,onFactor=2.5),\n",
    "    from=0,to=3,col=\"red\",xlab=\"Maturity (years)\", ylab=\"Forecast variance swap quote\",n=1000)"
   ]
  },
  {
   "cell_type": "markdown",
   "metadata": {
    "slideshow": {
     "slide_type": "fragment"
    }
   },
   "source": [
    "Figure 5: Forecast of annualized variance swap quotes as of January 4, 2016."
   ]
  },
  {
   "cell_type": "markdown",
   "metadata": {
    "slideshow": {
     "slide_type": "slide"
    }
   },
   "source": [
    "### Constructing a time series of variance swap curves\n",
    "\n",
    "For each of 2,658 days from Jan 27, 2003 to August 31, 2013:\n",
    " \n",
    "  - We computed proxy variance swaps from closing prices of SPX options sourced from OptionMetrics (www.optionmetrics.com) via WRDS.\n",
    "  \n",
    "  \n",
    "  - We form the forecasts $\\eefm{v_u}{\\mP}$ using [(3)](#eq:vForecast) with 200 lags of SPX RV data sourced from The Oxford-Man Institute of Quantitative Finance (http://realized.oxford-man.ox.ac.uk).\n",
    " \n",
    " "
   ]
  },
  {
   "cell_type": "markdown",
   "metadata": {
    "slideshow": {
     "slide_type": "subslide"
    }
   },
   "source": [
    "   - We note that the actual variance swap curve is a factor (of roughly 1.4) higher than the forecast, which we may attribute to a combination of overnight movements of the index and the price of volatility risk.\n",
    " \n",
    " \n",
    " - Forecasts must therefore be rescaled to obtain close-to-close realized variance forecasts."
   ]
  },
  {
   "cell_type": "markdown",
   "metadata": {
    "slideshow": {
     "slide_type": "slide"
    }
   },
   "source": [
    "### 3-month forecast vs actual variance swaps\n",
    "\n",
    "<h3><img src=\"http://mfe.baruch.cuny.edu/wp-content/uploads/2015/02/vsfa3m.png\" align = \"left\" width=900></h3> "
   ]
  },
  {
   "cell_type": "markdown",
   "metadata": {
    "slideshow": {
     "slide_type": "fragment"
    }
   },
   "source": [
    "Figure 18: Actual (proxy) 3-month variance swap quotes in blue vs forecast in red (with no scaling factor)."
   ]
  },
  {
   "cell_type": "markdown",
   "metadata": {
    "slideshow": {
     "slide_type": "slide"
    }
   },
   "source": [
    "### Ratio of actual to forecast\n",
    "\n",
    "<h3><img src=\"http://mfe.baruch.cuny.edu/wp-content/uploads/2015/02/3mratio.png\" align = \"left\" width=900></h3>"
   ]
  },
  {
   "cell_type": "markdown",
   "metadata": {
    "slideshow": {
     "slide_type": "fragment"
    }
   },
   "source": [
    "Figure 19: The ratio between 3-month actual variance swap quotes and 3-month forecasts."
   ]
  },
  {
   "cell_type": "markdown",
   "metadata": {
    "slideshow": {
     "slide_type": "slide"
    }
   },
   "source": [
    "### The Lehman weekend\n",
    "\n",
    " \n",
    "  -  Empirically, it seems that the variance curve is a simple scaling factor times the forecast, but that this scaling factor is time-varying.\n",
    "  \n",
    "      - We can think of this factor as having two multiplicative components: the overnight factor, and the price of volatility risk.\n",
    "\n",
    "\n",
    "\n",
    "  - Recall that as of the close on Friday September 12, 2008, it was widely believed that Lehman Brothers would be rescued over the weekend. By Monday morning, we knew that Lehman had failed. "
   ]
  },
  {
   "cell_type": "markdown",
   "metadata": {
    "slideshow": {
     "slide_type": "subslide"
    }
   },
   "source": [
    "- In Figure 19, we see that variance swap curves just before and just after the collapse of Lehman are just rescaled versions of the RFSV forecast curves.\n",
    "\n",
    "\n",
    "- It appears that most of the evolution of the variance swap curve may be explained by a single extra data point - intraday realized variance from the open to the close of trading on Monday September 15, 2008.\n",
    "\n"
   ]
  },
  {
   "cell_type": "markdown",
   "metadata": {
    "slideshow": {
     "slide_type": "subslide"
    }
   },
   "source": [
    "<h3><img src=\"http://mfe.baruch.cuny.edu/wp-content/uploads/2018/12/Lehman.png\" align = \"left\" width=900></h3>"
   ]
  },
  {
   "cell_type": "markdown",
   "metadata": {
    "slideshow": {
     "slide_type": "fragment"
    }
   },
   "source": [
    "Figure 5: SPX variance swap curves as of September 12, 2008 (red) and\n",
    "  September 15, 2008 (blue). The dashed curves are RFSV model forecasts\n",
    "  rescaled by the 3-month ratio ($1.29$) as of the Friday close. Time measured\n",
    "in years.\n"
   ]
  },
  {
   "cell_type": "markdown",
   "metadata": {
    "slideshow": {
     "slide_type": "slide"
    }
   },
   "source": [
    "### Remarks\n",
    "\n",
    "We note that\n",
    " \n",
    "  - The actual variance swaps curves are very close to the forecast curves, up to a scaling factor.\n",
    "  \n",
    "  \n",
    "  - We are able to explain the change in the variance swap curve with only one extra observation: daily variance over the trading day on Monday 15-Sep-2008. \n",
    " \n",
    " \n",
    " - The SPX options market appears to be backward-looking in a very sophisticated way."
   ]
  },
  {
   "cell_type": "markdown",
   "metadata": {
    "slideshow": {
     "slide_type": "slide"
    }
   },
   "source": [
    "### Compare forecast with actual variance swap curves\n",
    "\n",
    "- We focus on January 4, 2016\n",
    "    - A day with an interesting term structure of VIX futures from <span>[Jacquier, Martini and Muguruza]<sup id=\"cite_ref-JMM\" class=\"reference\"><a href=\"#cite_note-JMM\"><span>[5]</span></a></sup>.\n",
    "   \n",
    "   \n"
   ]
  },
  {
   "cell_type": "code",
   "execution_count": null,
   "metadata": {
    "slideshow": {
     "slide_type": "fragment"
    }
   },
   "outputs": [],
   "source": [
    "source(\"plotIvols.R\")\n",
    "source(\"fwdVarCurve.R\")\n",
    "source(\"roughBergomiVixFutures.R\")"
   ]
  },
  {
   "cell_type": "markdown",
   "metadata": {
    "slideshow": {
     "slide_type": "slide"
    }
   },
   "source": [
    "### ATM volatilities on January 4, 2016"
   ]
  },
  {
   "cell_type": "code",
   "execution_count": null,
   "metadata": {
    "slideshow": {
     "slide_type": "fragment"
    }
   },
   "outputs": [],
   "source": [
    "ivolData <- read.csv(\"spxVols20160104.csv\")\n",
    "res <- plotIvols(ivolData,plot=F)\n",
    "plot(res$expiries,res$atmVol,col=\"green4\",pch=20,type=\"b\",xlab=\"Expiry (years)\", ylab=\"Implied volatility\")"
   ]
  },
  {
   "cell_type": "markdown",
   "metadata": {
    "slideshow": {
     "slide_type": "fragment"
    }
   },
   "source": [
    "Figure 6: Term structure of SPX ATM volatility as of January 4, 2016\n"
   ]
  },
  {
   "cell_type": "markdown",
   "metadata": {
    "slideshow": {
     "slide_type": "slide"
    }
   },
   "source": [
    "### Variance swap estimates from eSSVI fits\n",
    "\n",
    "- <span>[Jacquier, Martini and Muguruza]<sup id=\"cite_ref-JMM\" class=\"reference\"><a href=\"#cite_note-JMM\"><span>[5]</span></a></sup> explain in detail how to fit eSSVI to the volatility surface."
   ]
  },
  {
   "cell_type": "code",
   "execution_count": null,
   "metadata": {
    "slideshow": {
     "slide_type": "fragment"
    }
   },
   "outputs": [],
   "source": [
    "vsData.20160104 <- read.csv(\"varianceSwaps20160104.csv\")"
   ]
  },
  {
   "cell_type": "code",
   "execution_count": null,
   "metadata": {
    "slideshow": {
     "slide_type": "subslide"
    }
   },
   "outputs": [],
   "source": [
    "plot(vsData.20160104$texp,sqrt(vsData.20160104$vs),pch=20,col=\"blue\",ylab=\"Variance rate\",xlab=\"Expiry\")\n",
    "curve(varSwapForecast(\"2016-01-04\",x,nu=nu.spx.regression,h=h.spx.regression,onFactor=3.),\n",
    "     from=0,to=3,col=\"red\",xlab=\"Maturity (years)\", ylab=\"Forecast variance swap quote\",n=1000000,add=T)"
   ]
  },
  {
   "cell_type": "markdown",
   "metadata": {
    "slideshow": {
     "slide_type": "fragment"
    }
   },
   "source": [
    "Figure 7: SPX variance swap rates estimates (in blue) as of Jan 4, 2016 with variance curve forecast superimposed in red.\n"
   ]
  },
  {
   "cell_type": "markdown",
   "metadata": {
    "slideshow": {
     "slide_type": "slide"
    }
   },
   "source": [
    "### Remarks\n",
    "\n",
    "- The forecast doesn't look that great, although the characteristic shape is there.\n",
    "\n",
    "\n",
    "- We can ask a different question: Is there any choice of the parameters $H$ and $\\nu$ and the overnight factor that would make the forecast close to the actual?\n",
    "\n",
    "\n",
    "- In Figure 8, we see the answer is affirmative.\n",
    "    - Moreover the parameters make sense."
   ]
  },
  {
   "cell_type": "markdown",
   "metadata": {
    "slideshow": {
     "slide_type": "subslide"
    }
   },
   "source": [
    "### Optimized forecast vs actual variance swap curve as of January 4, 2016"
   ]
  },
  {
   "cell_type": "code",
   "execution_count": null,
   "metadata": {
    "slideshow": {
     "slide_type": "fragment"
    }
   },
   "outputs": [],
   "source": [
    "plot(vsData.20160104$texp,sqrt(vsData.20160104$vs),pch=20,col=\"blue\",ylab=\"Variance rate\",xlab=\"Expiry\")\n",
    "curve(varSwapForecast(\"2016-01-04\",x,nu=.391,h=.135,onFactor=2.37),\n",
    "    from=0,to=3,col=\"red\",xlab=\"Maturity (years)\", ylab=\"Forecast variance swap quote\",n=1000000,add=T)"
   ]
  },
  {
   "cell_type": "markdown",
   "metadata": {
    "slideshow": {
     "slide_type": "fragment"
    }
   },
   "source": [
    "Figure 8: SPX variance swap rates estimates (in blue) as of Jan 4, 2016 with variance curve forecast superimposed in red.\n"
   ]
  },
  {
   "cell_type": "markdown",
   "metadata": {
    "slideshow": {
     "slide_type": "slide"
    }
   },
   "source": [
    "### Sensitivity of variance swaps to extrapolation\n",
    "\n",
    "- In general, the value of a variance swap is very sensitive to how the smile is extrapolated.\n",
    "    - Two curves that appear to fit traded strikes very well can be very different in the wings.\n",
    "    \n",
    "\n",
    "- The key point here is that rough volatility models are consistent with the shape of the forward variance cuve.\n"
   ]
  },
  {
   "cell_type": "markdown",
   "metadata": {
    "slideshow": {
     "slide_type": "slide"
    }
   },
   "source": [
    "### VIX futures\n",
    "\n",
    "- If we can forecast the variance swap curve, we can also forecast the forward variance curve.\n",
    "\n",
    "\n",
    "- The VIX payoff is the square-root of the forward variance swap.\n",
    "    - A convexity adjustment relates $\\E[VIX]$ to $\\sqrt{\\E[VIX^2]}$.\n",
    "\n",
    "\n",
    "- In principle, we can therefore forecast VIX futures\n",
    "\n",
    "\n",
    "- <span>[Jacquier, Martini and Muguruza]<sup id=\"cite_ref-JMM\" class=\"reference\"><a href=\"#cite_note-JMM\"><span>[5]</span></a></sup> did the reverse:\n",
    "    - Given the estimated forward variance curve and the observed VIX futures prices, what are $H$ and $\\nu$?\n",
    "\n"
   ]
  },
  {
   "cell_type": "markdown",
   "metadata": {
    "slideshow": {
     "slide_type": "slide"
    }
   },
   "source": [
    "### The distribution of VIX future payoffs\n",
    "\n",
    "\n",
    "- Denote the terminal value of the VIX futures by $\\sqrt{\\zeta(T)}$.  Then, by definition (see Chapter 11 of <span>[The Volatility Surface]<sup id=\"cite_ref-TVS\" class=\"reference\"><a href=\"#cite_note-TVS\">[3]</a></sup> for more details),\n",
    "<p>\n",
    "$$\n",
    "\\zeta(T)= \\frac{1}{\\Delta}\\,\\int_T^{T+\\Delta}\\,\\E[v_u|\\cF_T]\\,du.\n",
    "$$\n",
    "<p>\n",
    "where $\\Delta$ is one month.\n",
    "\n",
    "\n",
    "\n",
    "- In the rough Bergomi model,\n",
    "<p>\n",
    "$$\n",
    "v_u = \\xi_t(u)\\,\\cE\\left(\\eta\\,\\sqrt{2\\,H}\\,\\int_t^u\\frac{dW_s}{(u-s)^\\gamma}\\right)\n",
    "$$\n",
    "<p>\n",
    "with $\\gamma=1/2-H$ so $v_u$ is lognormal."
   ]
  },
  {
   "cell_type": "markdown",
   "metadata": {
    "slideshow": {
     "slide_type": "slide"
    }
   },
   "source": [
    "### The lognormal approximation under rough Bergomi\n",
    "\n",
    "\n",
    "- Under rough Bergomi, the VIX payoff and its square $\\zeta(T)$ should be approximately lognormally distributed.\n",
    "    -  The quality of this approximation was confirmed by <span>[Jacquier, Martini and Muguruza]<sup id=\"cite_ref-JMM\" class=\"reference\"><a href=\"#cite_note-JMM\"><span>[</span>5<span>]</span></a></sup>.\n",
    "    - In that case, the terminal distribution of $\\zeta(T)$ is completely determined by $\\eef{\\zeta(T)}$ and $\\var[\\log \\zeta(T)|\\cF_t]$."
   ]
  },
  {
   "cell_type": "markdown",
   "metadata": {
    "slideshow": {
     "slide_type": "subslide"
    }
   },
   "source": [
    "- Obviously\n",
    "<p>\n",
    "$$\n",
    "\\eef{\\zeta(T)} = \\frac{1}{\\Delta}\\,\\int_T^{T+\\Delta}\\,\\xi_t(u)\\,du.\n",
    "$$\n",
    "<p>\n",
    "    - Recall that forward variances $\\xi_t(u)$ may be estimated from variance swaps which can themselves be proxied by the log-strip (see Chapter 11 of <span>[The Volatility Surface]<sup id=\"cite_ref-TVS\" class=\"reference\"><a href=\"#cite_note-TVS\"><span>[</span>8<span>]</span></a></sup> again).\n",
    "    \n",
    "    - Alternatively they may be estimated from linear strips of VIX options."
   ]
  },
  {
   "cell_type": "markdown",
   "metadata": {
    "slideshow": {
     "slide_type": "subslide"
    }
   },
   "source": [
    "### Approximating the conditional variance of $\\zeta(T)$ under rough Bergomi\n",
    "\n",
    "\n",
    "- To estimate the conditional variance of $\\zeta(T)$, we approximate the arithmetic mean by the geometric mean as follows:\n",
    "<p>\n",
    "$$\n",
    "\\zeta(T) \\approx \\exp\\left\\{\\frac{1}{\\Delta}\\,\\int_T^{T+\\Delta}\\,\\E[\\log v_u|\\cF_T]\\,du\\right\\}.\n",
    "$$\n",
    "<p>"
   ]
  },
  {
   "cell_type": "markdown",
   "metadata": {
    "slideshow": {
     "slide_type": "subslide"
    }
   },
   "source": [
    "Let $y_u = \\log v_u$ and recall that $\\gamma = \\frac12 - H$.  Apart from $\\mathcal{F}_t$ measurable terms (abbreviated as ``drift''), we have\n",
    "\n",
    "$$\n",
    "\\beas\n",
    "  \\int_T^{T+\\Delta} E[y_u|\\mathcal{F}_T]\\, du &=& \\eta \\sqrt{2H} \\int_t^T\n",
    "  \\frac{dW_s}{(u-s)^\\gamma} du + \\text{drift}\\\\\n",
    "  &=& \\eta \\sqrt{2H} \\int_t^T\n",
    "  \\int_T^{T+\\Delta}  \\frac{du}{(u-s)^\\gamma} dW_s + \\text{drift} \\\\\n",
    "  &=& \\eta \\frac{\\sqrt{2H}}{1-\\gamma} \\int_t^T \\left[ (T+\\Delta-s)^{1-\\gamma} - (T-s)^{1-\\gamma}\n",
    "  \\right] dW_s + \\text{drift}.\n",
    "\\eeas\n",
    "$$"
   ]
  },
  {
   "cell_type": "markdown",
   "metadata": {
    "slideshow": {
     "slide_type": "subslide"
    }
   },
   "source": [
    "This gives\n",
    "\n",
    "$$\n",
    "\\beas\n",
    "  \\var[\\log \\zeta(T) | \\mathcal{F}_t] &\\approx& \\frac{\\eta^2\n",
    "    }{\\Delta^2} \\,\\frac{2 H}{(H+1/2)^2}\\,\\int_t^T \\left[(T+\\Delta-s)^{1/2+H} - (T-s)^{1/2+H}\n",
    "  \\right]^2 ds\\\\\n",
    "  &=& \\eta^2\\,(T-t)^{2\\,H}\\,f^H\\left(\\frac{\\Delta}{T-t}\\right)\n",
    "\\eeas\n",
    "$$\n",
    "\n",
    "where\n",
    "\n",
    "$$\n",
    "f^H(\\theta) = \\frac{2 H}{(H+1/2)^2}\\,\\frac{1}{\\theta^2}\\, \\int_0^1\\,\\left[(1+\\theta-x)^{1/2+H} - (1-x)^{1/2+H}\n",
    "  \\right]^2 dx.\n",
    "$$\n",
    "<p>"
   ]
  },
  {
   "cell_type": "markdown",
   "metadata": {
    "slideshow": {
     "slide_type": "slide"
    }
   },
   "source": [
    "### Calibration of $H$ from VIX futures\n",
    "\n",
    "- Both [Bayer, Friz and Gatheral]<sup id=\"cite_ref-BFG\" class=\"reference\"><a href=\"#cite_note-BFG\"><span>[</span>1<span>]</span></a></sup> and  <span>[Jacquier, Martini and Muguruza]<sup id=\"cite_ref-JMM\" class=\"reference\"><a href=\"#cite_note-JMM\"><span>[</span>5<span>]</span></a></sup> find that the volatility of volatility parameter $\\eta$ estimated by calibration to the SPX is roughly 20% greater than the estimate from VIX futures and options.\n",
    "    - Arbitrage or model mis-specification?\n",
    "    \n",
    "    \n",
    "- However, calibration to VIX futures could be a very quick and practical way of fixing $H$.\n",
    "\n",
    "\n",
    "- If $H$ is fixed, calibration using the Hybrid BSS scheme becomes fast and efficient.\n",
    "    - The expensive part is the simulation of $W^H$ which is fixed if $H$ is fixed.\n",
    "\n",
    "\n"
   ]
  },
  {
   "cell_type": "markdown",
   "metadata": {
    "slideshow": {
     "slide_type": "slide"
    }
   },
   "source": [
    "### R implementation\n",
    "\n",
    "Here is a function that takes a total variance curve as input and outputs VIX future prices for various maturities, given $H$ and $\\nu$."
   ]
  },
  {
   "cell_type": "code",
   "execution_count": null,
   "metadata": {
    "slideshow": {
     "slide_type": "fragment"
    }
   },
   "outputs": [],
   "source": [
    "f.vix"
   ]
  },
  {
   "cell_type": "markdown",
   "metadata": {},
   "source": [
    "### VIX futures on January 4,  2016\n",
    "\n",
    "<h3><img src=\"http://mfe.baruch.cuny.edu/wp-content/uploads/2018/12/vix-futures-20160104.png\" align = \"left\" width=1200></h3>"
   ]
  },
  {
   "cell_type": "markdown",
   "metadata": {
    "slideshow": {
     "slide_type": "slide"
    }
   },
   "source": [
    "### Load VIX futures data"
   ]
  },
  {
   "cell_type": "code",
   "execution_count": null,
   "metadata": {
    "slideshow": {
     "slide_type": "fragment"
    }
   },
   "outputs": [],
   "source": [
    "load(\"VIX-futures.rData\")"
   ]
  },
  {
   "cell_type": "code",
   "execution_count": null,
   "metadata": {
    "slideshow": {
     "slide_type": "subslide"
    }
   },
   "outputs": [],
   "source": [
    "vix.fut.20160104"
   ]
  },
  {
   "cell_type": "markdown",
   "metadata": {
    "slideshow": {
     "slide_type": "slide"
    }
   },
   "source": [
    "### Compute VIX futures as of January 4, 2016 given $H$ and $\\nu$"
   ]
  },
  {
   "cell_type": "code",
   "execution_count": null,
   "metadata": {
    "slideshow": {
     "slide_type": "fragment"
    }
   },
   "outputs": [],
   "source": [
    "(vix.t <- vix.fut.20160104$Cdays/365.25)"
   ]
  },
  {
   "cell_type": "markdown",
   "metadata": {
    "slideshow": {
     "slide_type": "subslide"
    }
   },
   "source": [
    "Now compute VIX futures to these dates:"
   ]
  },
  {
   "cell_type": "code",
   "execution_count": null,
   "metadata": {
    "slideshow": {
     "slide_type": "fragment"
    }
   },
   "outputs": [],
   "source": [
    "f.vix(vsData.20160104$texp,vsData.20160104$vs*vsData.20160104$texp,\n",
    "      vixMaturities=vix.t)(H=0.01,nu=3)"
   ]
  },
  {
   "cell_type": "markdown",
   "metadata": {
    "slideshow": {
     "slide_type": "slide"
    }
   },
   "source": [
    "### Find optimal $H$ and $\\nu$"
   ]
  },
  {
   "cell_type": "code",
   "execution_count": null,
   "metadata": {
    "slideshow": {
     "slide_type": "fragment"
    }
   },
   "outputs": [],
   "source": [
    "fVIX <- function(paramvec){\n",
    "    \n",
    "    H <- paramvec[1]\n",
    "    nu <- paramvec[2]\n",
    "    return(f.vix(vsData.20160104$texp,vsData.20160104$vs*vsData.20160104$texp,\n",
    "      vixMaturities=vix.t)(H,nu))\n",
    "}"
   ]
  },
  {
   "cell_type": "code",
   "execution_count": null,
   "metadata": {
    "slideshow": {
     "slide_type": "fragment"
    }
   },
   "outputs": [],
   "source": [
    "fVIX(c(.01,3))"
   ]
  },
  {
   "cell_type": "code",
   "execution_count": null,
   "metadata": {
    "slideshow": {
     "slide_type": "subslide"
    }
   },
   "outputs": [],
   "source": [
    "obj <- function(paramvec){\n",
    "    \n",
    "    fVIX.model <- fVIX(paramvec)\n",
    "    fVIX.actual <- vix.fut.20160104$Price\n",
    "    return(sum((fVIX.model-fVIX.actual)^2)*1e6)\n",
    "}"
   ]
  },
  {
   "cell_type": "code",
   "execution_count": null,
   "metadata": {
    "slideshow": {
     "slide_type": "fragment"
    }
   },
   "outputs": [],
   "source": [
    "obj(c(.0509,1.2937))"
   ]
  },
  {
   "cell_type": "code",
   "execution_count": null,
   "metadata": {
    "slideshow": {
     "slide_type": "subslide"
    }
   },
   "outputs": [],
   "source": [
    "(res.optim <- optim(c(.05,3),obj,\n",
    "                method=\"L-BFGS-B\",lower=c(0.0001,0.01),upper=c(.49,10)))"
   ]
  },
  {
   "cell_type": "markdown",
   "metadata": {
    "slideshow": {
     "slide_type": "slide"
    }
   },
   "source": [
    "### Compare model with market\n",
    "\n",
    "- Our optimization gives $H=0.0110$, $\\nu = 2.941$.\n",
    "\n",
    "\n",
    "- <span>[Jacquier, Martini and Muguruza]<sup id=\"cite_ref-JMM\" class=\"reference\"><a href=\"#cite_note-JMM\"><span>[5]</span></a></sup> find $H=0.0509$, $\\nu = 1.2937$.\n",
    "\n",
    "\n",
    "- Only the produce $\\tilde \\nu =\\nu \\sqrt{2\\,H}$ is really relevant.\n",
    "    - Our fit gives $\\tilde \\nu= 0.31$, theirs gives $\\tilde \\nu = 0.29$.\n"
   ]
  },
  {
   "cell_type": "code",
   "execution_count": null,
   "metadata": {
    "slideshow": {
     "slide_type": "subslide"
    }
   },
   "outputs": [],
   "source": [
    "(fVIX.fit <- fVIX(res.optim$par))"
   ]
  },
  {
   "cell_type": "code",
   "execution_count": null,
   "metadata": {
    "slideshow": {
     "slide_type": "subslide"
    }
   },
   "outputs": [],
   "source": [
    "plot(vix.t,vix.fut.20160104$Price,col=\"blue\",cex=2,pch=20,ylim=c(19,21),ylab=\"VIX\",xlab=\"Maturity\")\n",
    "points(vix.t,fVIX.fit,col=\"red\",pch=20,type=\"b\")\n",
    "legend(\"topleft\", c(\"VIX Futures (Rough Bergomi)\",\"VIX Futures (Market)\"), pch = 20,\n",
    "       col=c(\"red\",\"blue\") ,inset = .02)"
   ]
  },
  {
   "cell_type": "markdown",
   "metadata": {
    "slideshow": {
     "slide_type": "fragment"
    }
   },
   "source": [
    "Figure 9: VIX futures as of January 4, 2016.  Rough Bergomi fit in red vs market prices in blue.\n"
   ]
  },
  {
   "cell_type": "markdown",
   "metadata": {
    "slideshow": {
     "slide_type": "slide"
    }
   },
   "source": [
    "### Remarks\n",
    "\n",
    "- We don't reproduce the nice futures curve in <span>[Jacquier, Martini and Muguruza]<sup id=\"cite_ref-JMM\" class=\"reference\"><a href=\"#cite_note-JMM\"><span>[5]</span></a></sup>.\n",
    "\n",
    "\n",
    "- However, we do more or less agree with their fitted parameters.\n",
    "\n",
    "\n",
    "- It seems that they really did find a nice way to fix $H$ from the VIX futures market."
   ]
  },
  {
   "cell_type": "markdown",
   "metadata": {
    "slideshow": {
     "slide_type": "slide"
    }
   },
   "source": [
    "### Summary\n",
    "\n",
    " \n",
    "  - The rough volatility forecast is both simpler than and superior to other available volatility forecasts.\n",
    "  \n",
    "  \n",
    "  - In the context of the rough Bergomi model, we can use this forecast of future variance under $\\mP$ to forecast the forward variance curve.\n",
    "  \n",
    "  \n",
    "  - In particular, we can forecast the term structure of VIX futures.\n",
    "   \n",
    " "
   ]
  },
  {
   "cell_type": "markdown",
   "metadata": {
    "slideshow": {
     "slide_type": "slide"
    }
   },
   "source": [
    "### References  \n",
    "\n",
    "<br />\n",
    "\n",
    "<div class=\"reflist\" style=\"list-style-type: decimal;\">\n",
    "\n",
    "<ol>\n",
    "\n",
    "<li id=\"cite_note-BFG\"><span class=\"mw-cite-backlink\"><b><a href=\"#cite_ref-BFG\">^</a></b></span> \n",
    "Christian Bayer, Peter Friz and Jim Gatheral, Pricing under rough volatility, *Quantitative Finance* **16**(6) 887-904 (2016).\n",
    "</li>\n",
    "\n",
    "<li id=\"cite_note-BLPdecoupling\"><span class=\"mw-cite-backlink\"><b><a href=\"#cite_ref-BLPdecoupling\">^</a></b></span>\n",
    "Mikkel Bennedsen, Asger Lunde, and Mikko S. Pakkanen, Decoupling the short-and long-term behavior of stochastic volatility,  (2016).</li>\n",
    "\n",
    "\n",
    "  <li id=\"cite_note-TVS\"><span class=\"mw-cite-backlink\"><b><a href=\"#cite_ref-TVS\">^</a></b></span>Jim Gatheral, <span>*The Volatility Surface: A Practitioner’s\n",
    "Guide*</span>, John Wiley and Sons, Hoboken, NJ (2006).</li>\n",
    "\n",
    "<li id=\"cite_note-GJR\"><span class=\"mw-cite-backlink\"><b><a href=\"#cite_ref-GJR\">^</a></b></span> Jim Gatheral, Thibault Jaisson and Mathieu Rosenbaum, Volatility is rough, *Quantitative Finance* **18**(6) 933-949 (2018).</li>\n",
    "\n",
    "\n",
    "<li id=\"cite_note-JMM\"><span class=\"mw-cite-backlink\"><b><a href=\"#cite_ref-JMM\">^</a></b></span> Antoine Jacquier, Claude Martini, and Aitor Muguruza, On VIX Futures in the rough Bergomi model, *Quantitative Finance* **18**(1) 45-61 (2018).</li>\n",
    "\n",
    "\n",
    "<li id=\"cite_note-NuzmanPoor\"><span class=\"mw-cite-backlink\"><b><a href=\"#cite_ref-NuzmanPoor\">^</a></b></span> Carl J. Nuzman and H. Vincent Poor, Linear estimation of self-similar processes via Lamperti’s transformation, *Journal of Applied Probability* **37**(2) 429-452 (2000).</li>\n",
    " \n",
    " \n",
    "\n",
    "</ol>\n",
    "  \n",
    "\n",
    "\n",
    " "
   ]
  },
  {
   "cell_type": "code",
   "execution_count": null,
   "metadata": {},
   "outputs": [],
   "source": []
  }
 ],
 "metadata": {
  "celltoolbar": "Slideshow",
  "kernelspec": {
   "display_name": "R",
   "language": "R",
   "name": "ir"
  },
  "language_info": {
   "codemirror_mode": "r",
   "file_extension": ".r",
   "mimetype": "text/x-r-source",
   "name": "R",
   "pygments_lexer": "r",
   "version": "3.5.1"
  },
  "toc": {
   "base_numbering": 1,
   "nav_menu": {},
   "number_sections": true,
   "sideBar": true,
   "skip_h1_title": false,
   "title_cell": "Table of Contents",
   "title_sidebar": "Contents",
   "toc_cell": false,
   "toc_position": {},
   "toc_section_display": true,
   "toc_window_display": false
  }
 },
 "nbformat": 4,
 "nbformat_minor": 1
}
