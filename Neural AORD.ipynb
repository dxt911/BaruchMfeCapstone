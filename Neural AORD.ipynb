{
 "cells": [
  {
   "cell_type": "code",
   "execution_count": 1,
   "metadata": {},
   "outputs": [],
   "source": [
    "from IPython.core.display import display, HTML\n",
    "display(HTML(\"<style>.container { width:100% !important; }</style>\"))"
   ]
  },
  {
   "cell_type": "code",
   "execution_count": 2,
   "metadata": {},
   "outputs": [],
   "source": [
    "from utils.neural_net import NeuralNetVol, ResNeuralNetVol, ResNeuralNetVolSd\n",
    "import pandas as pd\n",
    "import numpy as np\n",
    "import matplotlib.pyplot as plt\n",
    "from tqdm import tqdm_notebook as tqdm\n",
    "from utils.rough_vol import RoughVol"
   ]
  },
  {
   "cell_type": "code",
   "execution_count": 3,
   "metadata": {},
   "outputs": [],
   "source": [
    "data = pd.read_csv('oxfordmanrealizedvolatilityindices.csv')"
   ]
  },
  {
   "cell_type": "code",
   "execution_count": 4,
   "metadata": {},
   "outputs": [
    {
     "data": {
      "text/html": [
       "<div>\n",
       "<style scoped>\n",
       "    .dataframe tbody tr th:only-of-type {\n",
       "        vertical-align: middle;\n",
       "    }\n",
       "\n",
       "    .dataframe tbody tr th {\n",
       "        vertical-align: top;\n",
       "    }\n",
       "\n",
       "    .dataframe thead th {\n",
       "        text-align: right;\n",
       "    }\n",
       "</style>\n",
       "<table border=\"1\" class=\"dataframe\">\n",
       "  <thead>\n",
       "    <tr style=\"text-align: right;\">\n",
       "      <th></th>\n",
       "      <th>Unnamed: 0</th>\n",
       "      <th>Symbol</th>\n",
       "      <th>open_price</th>\n",
       "      <th>rk_twoscale</th>\n",
       "      <th>close_price</th>\n",
       "      <th>open_to_close</th>\n",
       "      <th>rv10_ss</th>\n",
       "      <th>rk_parzen</th>\n",
       "      <th>medrv</th>\n",
       "      <th>open_time</th>\n",
       "      <th>rv5</th>\n",
       "      <th>nobs</th>\n",
       "      <th>rv5_ss</th>\n",
       "      <th>rsv</th>\n",
       "      <th>rv10</th>\n",
       "      <th>bv</th>\n",
       "      <th>rk_th2</th>\n",
       "      <th>close_time</th>\n",
       "      <th>bv_ss</th>\n",
       "      <th>rsv_ss</th>\n",
       "    </tr>\n",
       "  </thead>\n",
       "  <tbody>\n",
       "    <tr>\n",
       "      <th>0</th>\n",
       "      <td>2000-01-03 00:00:00+00:00</td>\n",
       "      <td>.AEX</td>\n",
       "      <td>675.67</td>\n",
       "      <td>0.000103</td>\n",
       "      <td>675.44</td>\n",
       "      <td>-0.000340</td>\n",
       "      <td>0.000178</td>\n",
       "      <td>0.000179</td>\n",
       "      <td>0.000050</td>\n",
       "      <td>90101.0</td>\n",
       "      <td>0.000130</td>\n",
       "      <td>1795.0</td>\n",
       "      <td>0.000130</td>\n",
       "      <td>0.000046</td>\n",
       "      <td>0.000178</td>\n",
       "      <td>0.000100</td>\n",
       "      <td>0.000102</td>\n",
       "      <td>163015.0</td>\n",
       "      <td>0.000100</td>\n",
       "      <td>0.000046</td>\n",
       "    </tr>\n",
       "    <tr>\n",
       "      <th>1</th>\n",
       "      <td>2000-01-04 00:00:00+00:00</td>\n",
       "      <td>.AEX</td>\n",
       "      <td>664.20</td>\n",
       "      <td>0.000199</td>\n",
       "      <td>642.25</td>\n",
       "      <td>-0.033606</td>\n",
       "      <td>0.000261</td>\n",
       "      <td>0.000423</td>\n",
       "      <td>0.000075</td>\n",
       "      <td>90416.0</td>\n",
       "      <td>0.000201</td>\n",
       "      <td>1785.0</td>\n",
       "      <td>0.000201</td>\n",
       "      <td>0.000147</td>\n",
       "      <td>0.000261</td>\n",
       "      <td>0.000207</td>\n",
       "      <td>0.000201</td>\n",
       "      <td>163016.0</td>\n",
       "      <td>0.000207</td>\n",
       "      <td>0.000147</td>\n",
       "    </tr>\n",
       "    <tr>\n",
       "      <th>2</th>\n",
       "      <td>2000-01-05 00:00:00+00:00</td>\n",
       "      <td>.AEX</td>\n",
       "      <td>633.37</td>\n",
       "      <td>0.000325</td>\n",
       "      <td>632.31</td>\n",
       "      <td>-0.001675</td>\n",
       "      <td>0.000714</td>\n",
       "      <td>0.000324</td>\n",
       "      <td>0.000166</td>\n",
       "      <td>90016.0</td>\n",
       "      <td>0.000491</td>\n",
       "      <td>1801.0</td>\n",
       "      <td>0.000491</td>\n",
       "      <td>0.000328</td>\n",
       "      <td>0.000714</td>\n",
       "      <td>0.000361</td>\n",
       "      <td>0.000345</td>\n",
       "      <td>163016.0</td>\n",
       "      <td>0.000361</td>\n",
       "      <td>0.000328</td>\n",
       "    </tr>\n",
       "    <tr>\n",
       "      <th>3</th>\n",
       "      <td>2000-01-06 00:00:00+00:00</td>\n",
       "      <td>.AEX</td>\n",
       "      <td>632.46</td>\n",
       "      <td>0.000218</td>\n",
       "      <td>624.21</td>\n",
       "      <td>-0.013130</td>\n",
       "      <td>0.000182</td>\n",
       "      <td>0.000219</td>\n",
       "      <td>0.000152</td>\n",
       "      <td>90016.0</td>\n",
       "      <td>0.000225</td>\n",
       "      <td>1799.0</td>\n",
       "      <td>0.000225</td>\n",
       "      <td>0.000116</td>\n",
       "      <td>0.000182</td>\n",
       "      <td>0.000258</td>\n",
       "      <td>0.000221</td>\n",
       "      <td>163002.0</td>\n",
       "      <td>0.000258</td>\n",
       "      <td>0.000116</td>\n",
       "    </tr>\n",
       "    <tr>\n",
       "      <th>4</th>\n",
       "      <td>2000-01-07 00:00:00+00:00</td>\n",
       "      <td>.AEX</td>\n",
       "      <td>628.93</td>\n",
       "      <td>0.000126</td>\n",
       "      <td>644.86</td>\n",
       "      <td>0.025013</td>\n",
       "      <td>0.000157</td>\n",
       "      <td>0.000155</td>\n",
       "      <td>0.000039</td>\n",
       "      <td>90046.0</td>\n",
       "      <td>0.000138</td>\n",
       "      <td>1798.0</td>\n",
       "      <td>0.000138</td>\n",
       "      <td>0.000048</td>\n",
       "      <td>0.000157</td>\n",
       "      <td>0.000130</td>\n",
       "      <td>0.000123</td>\n",
       "      <td>163016.0</td>\n",
       "      <td>0.000130</td>\n",
       "      <td>0.000048</td>\n",
       "    </tr>\n",
       "  </tbody>\n",
       "</table>\n",
       "</div>"
      ],
      "text/plain": [
       "                  Unnamed: 0 Symbol  open_price  rk_twoscale  close_price  \\\n",
       "0  2000-01-03 00:00:00+00:00   .AEX      675.67     0.000103       675.44   \n",
       "1  2000-01-04 00:00:00+00:00   .AEX      664.20     0.000199       642.25   \n",
       "2  2000-01-05 00:00:00+00:00   .AEX      633.37     0.000325       632.31   \n",
       "3  2000-01-06 00:00:00+00:00   .AEX      632.46     0.000218       624.21   \n",
       "4  2000-01-07 00:00:00+00:00   .AEX      628.93     0.000126       644.86   \n",
       "\n",
       "   open_to_close   rv10_ss  rk_parzen     medrv  open_time       rv5    nobs  \\\n",
       "0      -0.000340  0.000178   0.000179  0.000050    90101.0  0.000130  1795.0   \n",
       "1      -0.033606  0.000261   0.000423  0.000075    90416.0  0.000201  1785.0   \n",
       "2      -0.001675  0.000714   0.000324  0.000166    90016.0  0.000491  1801.0   \n",
       "3      -0.013130  0.000182   0.000219  0.000152    90016.0  0.000225  1799.0   \n",
       "4       0.025013  0.000157   0.000155  0.000039    90046.0  0.000138  1798.0   \n",
       "\n",
       "     rv5_ss       rsv      rv10        bv    rk_th2  close_time     bv_ss  \\\n",
       "0  0.000130  0.000046  0.000178  0.000100  0.000102    163015.0  0.000100   \n",
       "1  0.000201  0.000147  0.000261  0.000207  0.000201    163016.0  0.000207   \n",
       "2  0.000491  0.000328  0.000714  0.000361  0.000345    163016.0  0.000361   \n",
       "3  0.000225  0.000116  0.000182  0.000258  0.000221    163002.0  0.000258   \n",
       "4  0.000138  0.000048  0.000157  0.000130  0.000123    163016.0  0.000130   \n",
       "\n",
       "     rsv_ss  \n",
       "0  0.000046  \n",
       "1  0.000147  \n",
       "2  0.000328  \n",
       "3  0.000116  \n",
       "4  0.000048  "
      ]
     },
     "execution_count": 4,
     "metadata": {},
     "output_type": "execute_result"
    }
   ],
   "source": [
    "data.head()"
   ]
  },
  {
   "cell_type": "code",
   "execution_count": 5,
   "metadata": {},
   "outputs": [],
   "source": [
    "spx_rkth2 = np.sqrt(data.query('Symbol==\".AORD\"').rk_th2.values)"
   ]
  },
  {
   "cell_type": "code",
   "execution_count": 6,
   "metadata": {},
   "outputs": [],
   "source": [
    "nnet_model = ResNeuralNetVol(hiddenlayer=[])\n",
    "roughvol_model = RoughVol(fit_period=200)"
   ]
  },
  {
   "cell_type": "code",
   "execution_count": 7,
   "metadata": {},
   "outputs": [
    {
     "data": {
      "text/plain": [
       "4993"
      ]
     },
     "execution_count": 7,
     "metadata": {},
     "output_type": "execute_result"
    }
   ],
   "source": [
    "spx_rkth2.__len__()"
   ]
  },
  {
   "cell_type": "code",
   "execution_count": 8,
   "metadata": {},
   "outputs": [
    {
     "data": {
      "application/vnd.jupyter.widget-view+json": {
       "model_id": "14bb47752bf34af3a1615be08f12f70b",
       "version_major": 2,
       "version_minor": 0
      },
      "text/plain": [
       "HBox(children=(IntProgress(value=0, max=30000), HTML(value='')))"
      ]
     },
     "metadata": {},
     "output_type": "display_data"
    },
    {
     "name": "stdout",
     "output_type": "stream",
     "text": [
      "\n"
     ]
    },
    {
     "data": {
      "image/png": "[encoded data removed]",
      "text/plain": [
       "<Figure size 576x576 with 1 Axes>"
      ]
     },
     "metadata": {},
     "output_type": "display_data"
    },
    {
     "data": {
      "text/plain": [
       "51.30311584472656"
      ]
     },
     "execution_count": 8,
     "metadata": {},
     "output_type": "execute_result"
    }
   ],
   "source": [
    "nnet_model.fit(spx_rkth2[:3000], draw_loss=True,steps=30000, lrs=[1e-3])"
   ]
  },
  {
   "cell_type": "code",
   "execution_count": 9,
   "metadata": {},
   "outputs": [
    {
     "data": {
      "text/plain": [
       "0.08531361240615172"
      ]
     },
     "execution_count": 9,
     "metadata": {},
     "output_type": "execute_result"
    }
   ],
   "source": [
    "roughvol_model.fit(spx_rkth2[:3000])"
   ]
  },
  {
   "cell_type": "code",
   "execution_count": 10,
   "metadata": {},
   "outputs": [
    {
     "data": {
      "text/plain": [
       "array([[0.00511462, 0.00553585, 0.00541006, ..., 0.00444202, 0.0052649 ,\n",
       "        0.00451993],\n",
       "       [0.0055017 , 0.00538037, 0.0054866 , ..., 0.00525936, 0.0045054 ,\n",
       "        0.00441926],\n",
       "       [0.00485876, 0.00499705, 0.00460348, ..., 0.00434201, 0.00423794,\n",
       "        0.00449106],\n",
       "       ...,\n",
       "       [0.00658852, 0.0062045 , 0.00616514, ..., 0.00594955, 0.00726547,\n",
       "        0.0068357 ],\n",
       "       [0.00659277, 0.00650137, 0.0069005 , ..., 0.00743282, 0.00698454,\n",
       "        0.00700189],\n",
       "       [0.00679817, 0.00722052, 0.00656013, ..., 0.00710796, 0.00710804,\n",
       "        0.00618106]])"
      ]
     },
     "execution_count": 10,
     "metadata": {},
     "output_type": "execute_result"
    }
   ],
   "source": [
    "nnet_model.predict(spx_rkth2[3000:4000])"
   ]
  },
  {
   "cell_type": "code",
   "execution_count": 11,
   "metadata": {},
   "outputs": [
    {
     "data": {
      "application/vnd.jupyter.widget-view+json": {
       "model_id": "df2fc0be8177440d90bcf8ae0c2e5146",
       "version_major": 2,
       "version_minor": 0
      },
      "text/plain": [
       "HBox(children=(IntProgress(value=0), HTML(value='')))"
      ]
     },
     "metadata": {},
     "output_type": "display_data"
    },
    {
     "name": "stdout",
     "output_type": "stream",
     "text": [
      "\n"
     ]
    }
   ],
   "source": [
    "result=[]\n",
    "for i in tqdm(range(100)):\n",
    "    forward = i+1\n",
    "    roughvol_model.forward = forward\n",
    "    result.append(roughvol_model.predict(spx_rkth2[3000:4000]))\n",
    "roughvol_result = np.array(result).T"
   ]
  },
  {
   "cell_type": "code",
   "execution_count": 12,
   "metadata": {},
   "outputs": [],
   "source": [
    "nnet_result=nnet_model.predict(spx_rkth2[3000:4000])"
   ]
  },
  {
   "cell_type": "code",
   "execution_count": 13,
   "metadata": {},
   "outputs": [
    {
     "data": {
      "text/plain": [
       "array([0.00497949, 0.00369796, 0.00427632, 0.00384846, 0.00573879,\n",
       "       0.00320332, 0.00341316, 0.00367696, 0.00379485, 0.0034411 ,\n",
       "       0.00365467, 0.00306469, 0.00316099, 0.00403103, 0.00320585,\n",
       "       0.00418746, 0.00329531, 0.00285087, 0.00326905, 0.00347555,\n",
       "       0.00236504, 0.00320398, 0.002841  , 0.00416961, 0.00238646,\n",
       "       0.00310406, 0.00413374, 0.00504297, 0.00574964, 0.00395751,\n",
       "       0.00486295, 0.00318418, 0.00541672, 0.00232201, 0.00424214,\n",
       "       0.00353893, 0.00455296, 0.00408597, 0.0059492 , 0.00376588,\n",
       "       0.00430148, 0.00298971, 0.00483563, 0.00676434, 0.00615069,\n",
       "       0.00415623, 0.00425402, 0.00397209, 0.00531167, 0.00320557,\n",
       "       0.00355825, 0.00426017, 0.00304454, 0.00480365, 0.00262874,\n",
       "       0.00254113, 0.00333967, 0.00271842, 0.0021726 , 0.00353517,\n",
       "       0.00305035, 0.00309874, 0.00313386, 0.00362518, 0.00351472,\n",
       "       0.00297947, 0.00265021, 0.0035524 , 0.00267782, 0.00320592,\n",
       "       0.00301757, 0.003802  , 0.00335496, 0.00286052, 0.00477568,\n",
       "       0.0026497 , 0.00229033, 0.00275156, 0.00255019, 0.00403119,\n",
       "       0.00371669, 0.00310903, 0.00378442, 0.00320593, 0.00339715,\n",
       "       0.00313652, 0.00335878, 0.00318437, 0.00254077, 0.00267773,\n",
       "       0.00358754, 0.00383312, 0.00311433, 0.00431043, 0.00245099,\n",
       "       0.00286345, 0.00286097, 0.00419425, 0.00291385, 0.00329117,\n",
       "       0.00329012, 0.00419714, 0.00439257, 0.00404567, 0.00359482,\n",
       "       0.0033923 , 0.00257248, 0.00339373, 0.00414713, 0.00330865,\n",
       "       0.00279523, 0.00387321, 0.00368981, 0.00331765, 0.00497031,\n",
       "       0.0065612 , 0.00439053, 0.00718922, 0.00395484, 0.00563628,\n",
       "       0.00473396, 0.0056639 , 0.00667305, 0.00537266, 0.00503984,\n",
       "       0.00427375, 0.00354461, 0.00429383, 0.00507268, 0.00667251,\n",
       "       0.00537918, 0.00819765, 0.00697701, 0.00748865, 0.00719418,\n",
       "       0.00563165, 0.00581624, 0.00458333, 0.00451515, 0.00469255,\n",
       "       0.00615355, 0.00691868, 0.00684006, 0.00516252, 0.00503917,\n",
       "       0.00550116, 0.00511089, 0.00521569, 0.00363383, 0.00659484,\n",
       "       0.00725747, 0.00508218, 0.00555915, 0.00573279, 0.00406813,\n",
       "       0.00704928, 0.00604604, 0.00510129, 0.00389056, 0.0057126 ,\n",
       "       0.00378098, 0.00474265, 0.0063335 , 0.00595386, 0.00658296,\n",
       "       0.00496815, 0.00433315, 0.0045804 , 0.00399552, 0.00339175,\n",
       "       0.00661885, 0.00521244, 0.00443847, 0.00530896, 0.0047948 ,\n",
       "       0.00466354, 0.00643224, 0.00868995, 0.00688969, 0.00573767,\n",
       "       0.00538587, 0.00783159, 0.00560136, 0.00630297, 0.00698605,\n",
       "       0.00773104, 0.00764287, 0.00742171, 0.00549092, 0.00639003,\n",
       "       0.00709836, 0.00747051, 0.00641028, 0.00655418, 0.00574227,\n",
       "       0.00971788, 0.00956002, 0.00875417, 0.00831047, 0.00795699,\n",
       "       0.00732142, 0.00633374, 0.00935971, 0.01111483, 0.0092711 ,\n",
       "       0.00772523, 0.00701139, 0.00713276, 0.00734153, 0.0072712 ,\n",
       "       0.00755108, 0.00592709, 0.00589905, 0.00465097, 0.0040963 ,\n",
       "       0.00451606, 0.00516782, 0.00671042, 0.00365424, 0.00536347,\n",
       "       0.00373188, 0.00498611, 0.00434055, 0.00448739, 0.00555981,\n",
       "       0.00756243, 0.00564359, 0.0028637 , 0.00434142, 0.00573194,\n",
       "       0.00597612, 0.006398  , 0.00460314, 0.00412041, 0.00457054,\n",
       "       0.00418806, 0.00586975, 0.00467436, 0.00646024, 0.00390652,\n",
       "       0.00845148, 0.00561626, 0.00415258, 0.00458256, 0.00652399,\n",
       "       0.00459609, 0.00520883, 0.00632505, 0.00392363, 0.00476349,\n",
       "       0.00556323, 0.00462384, 0.00410942, 0.00382038, 0.00349304,\n",
       "       0.00310356, 0.00343491, 0.00473754, 0.00323077, 0.00318827,\n",
       "       0.00595554, 0.00302968, 0.00550393, 0.00336646, 0.00350591,\n",
       "       0.00371355, 0.002472  , 0.0058655 , 0.00585086, 0.00369096,\n",
       "       0.00408351, 0.00474413, 0.00502623, 0.00464992, 0.00430956,\n",
       "       0.00483903, 0.00656497, 0.00428699, 0.00583263, 0.00493556,\n",
       "       0.00384716, 0.00328685, 0.00408835, 0.00271123, 0.00357816,\n",
       "       0.00306555, 0.00304583, 0.00437963, 0.00303366, 0.00428468,\n",
       "       0.00518353, 0.00426489, 0.00362199, 0.00399803, 0.00417734,\n",
       "       0.00342116, 0.0045587 , 0.00468302, 0.00452844, 0.00513115,\n",
       "       0.00467932, 0.0046486 , 0.00574767, 0.00458728, 0.00471513,\n",
       "       0.00486103, 0.00534826, 0.00462752, 0.00406407, 0.00356614,\n",
       "       0.00345323, 0.00395423, 0.00562873, 0.00372103, 0.0053518 ,\n",
       "       0.00446821, 0.00551074, 0.00576443, 0.00531523, 0.00470519,\n",
       "       0.00801177, 0.00589732, 0.00681894, 0.00568253, 0.00348662,\n",
       "       0.00611043, 0.00481722, 0.00456574, 0.00447704, 0.00491991,\n",
       "       0.00370455, 0.0035314 , 0.00419359, 0.0042063 , 0.00429445,\n",
       "       0.00379737, 0.00502517, 0.00401069, 0.00384535, 0.00364298,\n",
       "       0.00536832, 0.00455079, 0.00412674, 0.00484642, 0.00463881,\n",
       "       0.00386245, 0.00506487, 0.00632103, 0.00553331, 0.00823005,\n",
       "       0.004887  , 0.00711538, 0.0046783 , 0.00506307, 0.00793703,\n",
       "       0.00530955, 0.0049256 , 0.00517426, 0.00433977, 0.0045076 ,\n",
       "       0.00467295, 0.00420969, 0.00426221, 0.00363676, 0.00320343,\n",
       "       0.00368805, 0.00594548, 0.00441376, 0.00400259, 0.00509385,\n",
       "       0.00373483, 0.00334562, 0.00474276, 0.00586639, 0.00409721,\n",
       "       0.00428421, 0.00409579, 0.00232939, 0.00458561, 0.00381317,\n",
       "       0.00543557, 0.00428821, 0.00764511, 0.00369257, 0.00418153,\n",
       "       0.00302683, 0.00409197, 0.00336753, 0.00521465, 0.00438078,\n",
       "       0.00409604, 0.00544509, 0.00319476, 0.00343455, 0.00525216,\n",
       "       0.00405963, 0.00280895, 0.00227365, 0.00323336, 0.00231016,\n",
       "       0.00382063, 0.00466266, 0.00541544, 0.00357399, 0.00398259,\n",
       "       0.00345742, 0.00383643, 0.0027862 , 0.00339439, 0.00321033,\n",
       "       0.00309014, 0.00462603, 0.00534843, 0.00445641, 0.00350561,\n",
       "       0.00430441, 0.00435636, 0.0046211 , 0.00509797, 0.00461833,\n",
       "       0.00474166, 0.00511988, 0.00472887, 0.00427807, 0.00385792,\n",
       "       0.00429524, 0.0053591 , 0.00523348, 0.00563752, 0.00390149,\n",
       "       0.00308496, 0.00315269, 0.0029957 , 0.00359957, 0.00356363,\n",
       "       0.00345538, 0.00421884, 0.00461737, 0.0045403 , 0.00346336,\n",
       "       0.00379481, 0.00345909, 0.00365429, 0.00488882, 0.0032668 ,\n",
       "       0.00372187, 0.00383783, 0.00568617, 0.00362905, 0.00477316,\n",
       "       0.0033799 , 0.00470833, 0.00376247, 0.00392958, 0.00360967,\n",
       "       0.00562572, 0.00578696, 0.00373771, 0.00365338, 0.00247981,\n",
       "       0.00331909, 0.00444616, 0.00405613, 0.00486504, 0.0034936 ,\n",
       "       0.00400485, 0.004094  , 0.0041242 , 0.00515524, 0.00299906,\n",
       "       0.00283009, 0.00376907, 0.00327135, 0.00229132, 0.00347863,\n",
       "       0.00340923, 0.0031839 , 0.00284079, 0.00653538, 0.0038994 ,\n",
       "       0.00386232, 0.00358081, 0.00412759, 0.00637397, 0.00414926,\n",
       "       0.0043212 , 0.0041799 , 0.00360348, 0.00425422, 0.00284709,\n",
       "       0.00456503, 0.00460759, 0.00492824, 0.00335412, 0.00269346,\n",
       "       0.00268491, 0.00236319, 0.00313337, 0.00301118, 0.00394152,\n",
       "       0.00321046, 0.00354674, 0.00308561, 0.00340685, 0.00306954,\n",
       "       0.00278872, 0.00438984, 0.00406224, 0.00377126, 0.0049121 ,\n",
       "       0.00370475, 0.00457757, 0.00559268, 0.00425658, 0.00521946,\n",
       "       0.00500499, 0.00566941, 0.00536833, 0.00607861, 0.00584458,\n",
       "       0.00440484, 0.00663911, 0.00651788, 0.00503131, 0.00400362,\n",
       "       0.00731223, 0.0078505 , 0.00615708, 0.01071281, 0.00667343,\n",
       "       0.00554481, 0.00534729, 0.00958942, 0.00615688, 0.00726186,\n",
       "       0.00384009, 0.0058286 , 0.0047578 , 0.00525355, 0.00436147,\n",
       "       0.00336214, 0.00410664, 0.00410532, 0.00441979, 0.00358456,\n",
       "       0.00406534, 0.00374172, 0.00488902, 0.00435825, 0.00407859,\n",
       "       0.00341364, 0.00343109, 0.00351955, 0.00396374, 0.003961  ,\n",
       "       0.00447537, 0.00312892, 0.00456028, 0.00495834, 0.00580877,\n",
       "       0.00539203, 0.00494621, 0.0037752 , 0.00618523, 0.00573036,\n",
       "       0.00646027, 0.0063587 , 0.00513485, 0.00619226, 0.00555528,\n",
       "       0.00693594, 0.00848835, 0.00851941, 0.00524145, 0.00756786,\n",
       "       0.00598378, 0.00485515, 0.0078862 , 0.00868355, 0.00688958,\n",
       "       0.00451411, 0.00504824, 0.00589087, 0.00562899, 0.00378269,\n",
       "       0.00539521, 0.0054594 , 0.00825232, 0.00692328, 0.00520104,\n",
       "       0.0059703 , 0.00572157, 0.00612355, 0.00549374, 0.00576019,\n",
       "       0.00762854, 0.0078568 , 0.00556041, 0.00549821, 0.00525961,\n",
       "       0.00543553, 0.00540851, 0.00459398, 0.00584329, 0.00501463,\n",
       "       0.00499119, 0.00831797, 0.00922849, 0.00452775, 0.00522847,\n",
       "       0.00501004, 0.00535832, 0.00584109, 0.00540091, 0.00740835,\n",
       "       0.0053776 , 0.00561312, 0.00579343, 0.00511246, 0.00344004,\n",
       "       0.00448797, 0.00538095, 0.00450187, 0.00440302, 0.00552671,\n",
       "       0.0044565 , 0.00871705, 0.00486144, 0.0045381 , 0.00494694,\n",
       "       0.00607989, 0.00484723, 0.00732822, 0.00557137, 0.00497688,\n",
       "       0.00548516, 0.00541506, 0.00589312, 0.00664742, 0.00465704,\n",
       "       0.00533224, 0.00410612, 0.00369382, 0.00668583, 0.00483305,\n",
       "       0.00663754, 0.00585513, 0.00604624, 0.00410134, 0.00834984,\n",
       "       0.00522205, 0.00389653, 0.0034267 , 0.00401169, 0.00389338,\n",
       "       0.00566965, 0.00545332, 0.00501574, 0.00627537, 0.00514999,\n",
       "       0.00596544, 0.00449191, 0.00595081, 0.00490399, 0.00427786,\n",
       "       0.00641314, 0.00963071, 0.00556174, 0.00583212, 0.01323441,\n",
       "       0.00862553, 0.00984752, 0.00552488, 0.00833513, 0.00705157,\n",
       "       0.00481941, 0.00520981, 0.00621381, 0.00551209, 0.0072675 ,\n",
       "       0.00701201, 0.00449923, 0.00429961, 0.00504067, 0.00476825,\n",
       "       0.00526992, 0.00532224, 0.00622576, 0.00574249, 0.00825335,\n",
       "       0.00716277, 0.00852452, 0.00723384, 0.0062558 , 0.00635283,\n",
       "       0.00611526, 0.00452812, 0.00564274, 0.00498079, 0.0050396 ,\n",
       "       0.00650002, 0.00651766, 0.00447542, 0.00708222, 0.00405379,\n",
       "       0.00484125, 0.007771  , 0.01120097, 0.00750792, 0.00752521,\n",
       "       0.00648346, 0.00751903, 0.01007655, 0.00842585, 0.00856675,\n",
       "       0.00940676, 0.00673945, 0.00693813, 0.00907925, 0.00468159,\n",
       "       0.00664817, 0.00476226, 0.00422155, 0.00489045, 0.00606254,\n",
       "       0.00504968, 0.00625101, 0.00569492, 0.00755706, 0.0063818 ,\n",
       "       0.00554422, 0.00372145, 0.00349677, 0.00605116, 0.0060787 ,\n",
       "       0.00596801, 0.0096481 , 0.00556785, 0.00712943, 0.00834093,\n",
       "       0.00636478, 0.0043428 , 0.00637975, 0.00719425, 0.00714755,\n",
       "       0.00791699, 0.01087895, 0.01529916, 0.02147012, 0.01874136,\n",
       "       0.01192934, 0.00982471, 0.01011763, 0.01031458, 0.0122853 ,\n",
       "       0.0144585 , 0.0118558 , 0.01022461, 0.00898912, 0.00929737,\n",
       "       0.01164018, 0.007159  , 0.01132511, 0.00759693, 0.00821913,\n",
       "       0.00902485, 0.00978518, 0.01054989, 0.00769222, 0.00941831,\n",
       "       0.00734547, 0.0085506 , 0.00629453, 0.01115447, 0.01081063,\n",
       "       0.00721094, 0.00990241, 0.00749013, 0.00778506, 0.00767689,\n",
       "       0.00658108, 0.0073652 , 0.00452674, 0.00686597, 0.00501227,\n",
       "       0.0059896 , 0.0057804 , 0.00630312, 0.00565646, 0.00651283,\n",
       "       0.00590674, 0.00919638, 0.00502077, 0.00334106, 0.0051015 ,\n",
       "       0.00635137, 0.00777274, 0.00733354, 0.00829836, 0.00793021])"
      ]
     },
     "execution_count": 13,
     "metadata": {},
     "output_type": "execute_result"
    }
   ],
   "source": [
    "spx_rkth2[3200:4000]"
   ]
  },
  {
   "cell_type": "code",
   "execution_count": 14,
   "metadata": {},
   "outputs": [
    {
     "data": {
      "text/plain": [
       "((801, 100), (801, 100))"
      ]
     },
     "execution_count": 14,
     "metadata": {},
     "output_type": "execute_result"
    }
   ],
   "source": [
    "roughvol_result.shape,  nnet_result.shape"
   ]
  },
  {
   "cell_type": "code",
   "execution_count": 15,
   "metadata": {},
   "outputs": [],
   "source": [
    "true_result = np.array([spx_rkth2[ele:ele+101] for ele in range(3199,4000)])"
   ]
  },
  {
   "cell_type": "code",
   "execution_count": 16,
   "metadata": {},
   "outputs": [
    {
     "data": {
      "text/plain": [
       "(801, 101)"
      ]
     },
     "execution_count": 16,
     "metadata": {},
     "output_type": "execute_result"
    }
   ],
   "source": [
    "true_result.shape"
   ]
  },
  {
   "cell_type": "code",
   "execution_count": 17,
   "metadata": {},
   "outputs": [],
   "source": [
    "unconditional_var = np.mean((np.log(true_result[:,1:])-np.log(true_result[:,0][:,np.newaxis]))**2,axis=0)"
   ]
  },
  {
   "cell_type": "code",
   "execution_count": 21,
   "metadata": {},
   "outputs": [
    {
     "data": {
      "text/plain": [
       "<matplotlib.legend.Legend at 0x1a1c018a20>"
      ]
     },
     "execution_count": 21,
     "metadata": {},
     "output_type": "execute_result"
    },
    {
     "data": {
      "image/png": "[encoded data removed]",
      "text/plain": [
       "<Figure size 720x720 with 1 Axes>"
      ]
     },
     "metadata": {},
     "output_type": "display_data"
    }
   ],
   "source": [
    "plt.figure(figsize=(10,10))\n",
    "plt.scatter(np.arange(1,101),unconditional_var)\n",
    "plt.scatter(np.arange(1,101),np.mean((np.log(true_result[:,1:]) - np.log(roughvol_result))**2,axis=0))\n",
    "plt.scatter(np.arange(1,101),np.mean((np.log(true_result[:,1:]) - np.log(nnet_result))**2,axis=0))\n",
    "plt.title(\"AORD\")\n",
    "plt.legend(['unconditional_var', 'roughvol','nnet'])"
   ]
  },
  {
   "cell_type": "code",
   "execution_count": 19,
   "metadata": {},
   "outputs": [
    {
     "data": {
      "text/plain": [
       "array([0.05585951, 0.06003606, 0.06598666, 0.06812179, 0.07117699,\n",
       "       0.07095505, 0.07495236, 0.07748745, 0.0800105 , 0.08237227,\n",
       "       0.08394386, 0.08800867, 0.08982839, 0.09120762, 0.09243397,\n",
       "       0.09393335, 0.09443838, 0.09418715, 0.09337821, 0.09354833,\n",
       "       0.0943056 , 0.09578023, 0.09782336, 0.09807392, 0.09856481,\n",
       "       0.09750635, 0.09733035, 0.09748688, 0.09728918, 0.09838426,\n",
       "       0.09800659, 0.09855293, 0.09890812, 0.09866932, 0.09834061,\n",
       "       0.09879961, 0.0997912 , 0.09965533, 0.10008713, 0.09905311,\n",
       "       0.10049813, 0.10066801, 0.10115075, 0.10244214, 0.10361552,\n",
       "       0.10470521, 0.10511528, 0.10676506, 0.10770619, 0.10956023,\n",
       "       0.10983444, 0.11018818, 0.11045251, 0.11141163, 0.11265845,\n",
       "       0.11379204, 0.11390478, 0.11375487, 0.11375101, 0.11310669,\n",
       "       0.11444164, 0.11434927, 0.11533084, 0.11609181, 0.11625652,\n",
       "       0.11710185, 0.11730067, 0.11801921, 0.11845082, 0.11882619,\n",
       "       0.11926408, 0.12021256, 0.11950564, 0.12065053, 0.12121598,\n",
       "       0.12183148, 0.1220069 , 0.12222495, 0.12191949, 0.12243834,\n",
       "       0.12370417, 0.12498459, 0.12544691, 0.12649782, 0.12666967,\n",
       "       0.12699861, 0.12681828, 0.12662238, 0.1266505 , 0.12746396,\n",
       "       0.12737907, 0.1276899 , 0.1287563 , 0.12779895, 0.128928  ,\n",
       "       0.12863056, 0.12901061, 0.12906589, 0.12960461, 0.12855636])"
      ]
     },
     "execution_count": 19,
     "metadata": {},
     "output_type": "execute_result"
    }
   ],
   "source": [
    "np.mean((np.log(true_result[:,1:]) - np.log(roughvol_result))**2,axis=0)"
   ]
  },
  {
   "cell_type": "code",
   "execution_count": 20,
   "metadata": {},
   "outputs": [
    {
     "data": {
      "text/plain": [
       "array([0.05544856, 0.06147414, 0.06644751, 0.06927463, 0.07186586,\n",
       "       0.07340976, 0.07656962, 0.07969599, 0.08221857, 0.08434276,\n",
       "       0.08623342, 0.08961169, 0.09098193, 0.09245885, 0.09374012,\n",
       "       0.0948552 , 0.09557822, 0.09553562, 0.09535249, 0.09611239,\n",
       "       0.09742764, 0.09868292, 0.09982811, 0.1001737 , 0.10055375,\n",
       "       0.09976405, 0.09988589, 0.10008454, 0.10041411, 0.10072836,\n",
       "       0.10058146, 0.10093049, 0.10100816, 0.10092054, 0.10038633,\n",
       "       0.10037307, 0.10061602, 0.10047201, 0.10054125, 0.10035584,\n",
       "       0.10079707, 0.1011776 , 0.10181648, 0.10280863, 0.10383512,\n",
       "       0.10453569, 0.10507341, 0.1067088 , 0.10706087, 0.10830694,\n",
       "       0.10854049, 0.10875442, 0.10953912, 0.1106295 , 0.11118796,\n",
       "       0.11183239, 0.11134162, 0.11162057, 0.11154699, 0.11106749,\n",
       "       0.11180468, 0.11184976, 0.11242325, 0.11269883, 0.11282018,\n",
       "       0.11351298, 0.11357123, 0.11378008, 0.11411313, 0.11436555,\n",
       "       0.11447111, 0.11490393, 0.11426519, 0.11516021, 0.11521282,\n",
       "       0.11542789, 0.11547829, 0.11537988, 0.1152821 , 0.1156901 ,\n",
       "       0.11658669, 0.11720817, 0.11740687, 0.11775365, 0.11792237,\n",
       "       0.1181859 , 0.11859108, 0.11872911, 0.11904073, 0.11971732,\n",
       "       0.12020806, 0.12021896, 0.12053805, 0.12020478, 0.11994284,\n",
       "       0.11961141, 0.11981121, 0.11995208, 0.11993383, 0.11978022])"
      ]
     },
     "execution_count": 20,
     "metadata": {},
     "output_type": "execute_result"
    }
   ],
   "source": [
    "np.mean((np.log(true_result[:,1:]) - np.log(nnet_result))**2,axis=0)"
   ]
  },
  {
   "cell_type": "code",
   "execution_count": null,
   "metadata": {},
   "outputs": [],
   "source": []
  },
  {
   "cell_type": "code",
   "execution_count": null,
   "metadata": {},
   "outputs": [],
   "source": []
  }
 ],
 "metadata": {
  "kernelspec": {
   "display_name": "Python 3",
   "language": "python",
   "name": "python3"
  },
  "language_info": {
   "codemirror_mode": {
    "name": "ipython",
    "version": 3
   },
   "file_extension": ".py",
   "mimetype": "text/x-python",
   "name": "python",
   "nbconvert_exporter": "python",
   "pygments_lexer": "ipython3",
   "version": "3.6.7"
  },
  "toc": {
   "base_numbering": 1,
   "nav_menu": {},
   "number_sections": true,
   "sideBar": true,
   "skip_h1_title": false,
   "title_cell": "Table of Contents",
   "title_sidebar": "Contents",
   "toc_cell": false,
   "toc_position": {},
   "toc_section_display": true,
   "toc_window_display": false
  }
 },
 "nbformat": 4,
 "nbformat_minor": 2
}
