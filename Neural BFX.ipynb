{
 "cells": [
  {
   "cell_type": "code",
   "execution_count": 1,
   "metadata": {},
   "outputs": [],
   "source": [
    "from IPython.core.display import display, HTML\n",
    "display(HTML(\"<style>.container { width:100% !important; }</style>\"))"
   ]
  },
  {
   "cell_type": "code",
   "execution_count": 2,
   "metadata": {},
   "outputs": [],
   "source": [
    "from utils.neural_net import NeuralNetVol, ResNeuralNetVol, ResNeuralNetVolSd\n",
    "import pandas as pd\n",
    "import numpy as np\n",
    "import matplotlib.pyplot as plt\n",
    "from tqdm import tqdm_notebook as tqdm\n",
    "from utils.rough_vol import RoughVol"
   ]
  },
  {
   "cell_type": "code",
   "execution_count": 3,
   "metadata": {},
   "outputs": [],
   "source": [
    "data = pd.read_csv('oxfordmanrealizedvolatilityindices.csv')"
   ]
  },
  {
   "cell_type": "code",
   "execution_count": 4,
   "metadata": {},
   "outputs": [
    {
     "data": {
      "text/html": [
       "<div>\n",
       "<style scoped>\n",
       "    .dataframe tbody tr th:only-of-type {\n",
       "        vertical-align: middle;\n",
       "    }\n",
       "\n",
       "    .dataframe tbody tr th {\n",
       "        vertical-align: top;\n",
       "    }\n",
       "\n",
       "    .dataframe thead th {\n",
       "        text-align: right;\n",
       "    }\n",
       "</style>\n",
       "<table border=\"1\" class=\"dataframe\">\n",
       "  <thead>\n",
       "    <tr style=\"text-align: right;\">\n",
       "      <th></th>\n",
       "      <th>Unnamed: 0</th>\n",
       "      <th>Symbol</th>\n",
       "      <th>open_price</th>\n",
       "      <th>rk_twoscale</th>\n",
       "      <th>close_price</th>\n",
       "      <th>open_to_close</th>\n",
       "      <th>rv10_ss</th>\n",
       "      <th>rk_parzen</th>\n",
       "      <th>medrv</th>\n",
       "      <th>open_time</th>\n",
       "      <th>rv5</th>\n",
       "      <th>nobs</th>\n",
       "      <th>rv5_ss</th>\n",
       "      <th>rsv</th>\n",
       "      <th>rv10</th>\n",
       "      <th>bv</th>\n",
       "      <th>rk_th2</th>\n",
       "      <th>close_time</th>\n",
       "      <th>bv_ss</th>\n",
       "      <th>rsv_ss</th>\n",
       "    </tr>\n",
       "  </thead>\n",
       "  <tbody>\n",
       "    <tr>\n",
       "      <th>0</th>\n",
       "      <td>2000-01-03 00:00:00+00:00</td>\n",
       "      <td>.AEX</td>\n",
       "      <td>675.67</td>\n",
       "      <td>0.000103</td>\n",
       "      <td>675.44</td>\n",
       "      <td>-0.000340</td>\n",
       "      <td>0.000178</td>\n",
       "      <td>0.000179</td>\n",
       "      <td>0.000050</td>\n",
       "      <td>90101.0</td>\n",
       "      <td>0.000130</td>\n",
       "      <td>1795.0</td>\n",
       "      <td>0.000130</td>\n",
       "      <td>0.000046</td>\n",
       "      <td>0.000178</td>\n",
       "      <td>0.000100</td>\n",
       "      <td>0.000102</td>\n",
       "      <td>163015.0</td>\n",
       "      <td>0.000100</td>\n",
       "      <td>0.000046</td>\n",
       "    </tr>\n",
       "    <tr>\n",
       "      <th>1</th>\n",
       "      <td>2000-01-04 00:00:00+00:00</td>\n",
       "      <td>.AEX</td>\n",
       "      <td>664.20</td>\n",
       "      <td>0.000199</td>\n",
       "      <td>642.25</td>\n",
       "      <td>-0.033606</td>\n",
       "      <td>0.000261</td>\n",
       "      <td>0.000423</td>\n",
       "      <td>0.000075</td>\n",
       "      <td>90416.0</td>\n",
       "      <td>0.000201</td>\n",
       "      <td>1785.0</td>\n",
       "      <td>0.000201</td>\n",
       "      <td>0.000147</td>\n",
       "      <td>0.000261</td>\n",
       "      <td>0.000207</td>\n",
       "      <td>0.000201</td>\n",
       "      <td>163016.0</td>\n",
       "      <td>0.000207</td>\n",
       "      <td>0.000147</td>\n",
       "    </tr>\n",
       "    <tr>\n",
       "      <th>2</th>\n",
       "      <td>2000-01-05 00:00:00+00:00</td>\n",
       "      <td>.AEX</td>\n",
       "      <td>633.37</td>\n",
       "      <td>0.000325</td>\n",
       "      <td>632.31</td>\n",
       "      <td>-0.001675</td>\n",
       "      <td>0.000714</td>\n",
       "      <td>0.000324</td>\n",
       "      <td>0.000166</td>\n",
       "      <td>90016.0</td>\n",
       "      <td>0.000491</td>\n",
       "      <td>1801.0</td>\n",
       "      <td>0.000491</td>\n",
       "      <td>0.000328</td>\n",
       "      <td>0.000714</td>\n",
       "      <td>0.000361</td>\n",
       "      <td>0.000345</td>\n",
       "      <td>163016.0</td>\n",
       "      <td>0.000361</td>\n",
       "      <td>0.000328</td>\n",
       "    </tr>\n",
       "    <tr>\n",
       "      <th>3</th>\n",
       "      <td>2000-01-06 00:00:00+00:00</td>\n",
       "      <td>.AEX</td>\n",
       "      <td>632.46</td>\n",
       "      <td>0.000218</td>\n",
       "      <td>624.21</td>\n",
       "      <td>-0.013130</td>\n",
       "      <td>0.000182</td>\n",
       "      <td>0.000219</td>\n",
       "      <td>0.000152</td>\n",
       "      <td>90016.0</td>\n",
       "      <td>0.000225</td>\n",
       "      <td>1799.0</td>\n",
       "      <td>0.000225</td>\n",
       "      <td>0.000116</td>\n",
       "      <td>0.000182</td>\n",
       "      <td>0.000258</td>\n",
       "      <td>0.000221</td>\n",
       "      <td>163002.0</td>\n",
       "      <td>0.000258</td>\n",
       "      <td>0.000116</td>\n",
       "    </tr>\n",
       "    <tr>\n",
       "      <th>4</th>\n",
       "      <td>2000-01-07 00:00:00+00:00</td>\n",
       "      <td>.AEX</td>\n",
       "      <td>628.93</td>\n",
       "      <td>0.000126</td>\n",
       "      <td>644.86</td>\n",
       "      <td>0.025013</td>\n",
       "      <td>0.000157</td>\n",
       "      <td>0.000155</td>\n",
       "      <td>0.000039</td>\n",
       "      <td>90046.0</td>\n",
       "      <td>0.000138</td>\n",
       "      <td>1798.0</td>\n",
       "      <td>0.000138</td>\n",
       "      <td>0.000048</td>\n",
       "      <td>0.000157</td>\n",
       "      <td>0.000130</td>\n",
       "      <td>0.000123</td>\n",
       "      <td>163016.0</td>\n",
       "      <td>0.000130</td>\n",
       "      <td>0.000048</td>\n",
       "    </tr>\n",
       "  </tbody>\n",
       "</table>\n",
       "</div>"
      ],
      "text/plain": [
       "                  Unnamed: 0 Symbol  open_price  rk_twoscale  close_price  \\\n",
       "0  2000-01-03 00:00:00+00:00   .AEX      675.67     0.000103       675.44   \n",
       "1  2000-01-04 00:00:00+00:00   .AEX      664.20     0.000199       642.25   \n",
       "2  2000-01-05 00:00:00+00:00   .AEX      633.37     0.000325       632.31   \n",
       "3  2000-01-06 00:00:00+00:00   .AEX      632.46     0.000218       624.21   \n",
       "4  2000-01-07 00:00:00+00:00   .AEX      628.93     0.000126       644.86   \n",
       "\n",
       "   open_to_close   rv10_ss  rk_parzen     medrv  open_time       rv5    nobs  \\\n",
       "0      -0.000340  0.000178   0.000179  0.000050    90101.0  0.000130  1795.0   \n",
       "1      -0.033606  0.000261   0.000423  0.000075    90416.0  0.000201  1785.0   \n",
       "2      -0.001675  0.000714   0.000324  0.000166    90016.0  0.000491  1801.0   \n",
       "3      -0.013130  0.000182   0.000219  0.000152    90016.0  0.000225  1799.0   \n",
       "4       0.025013  0.000157   0.000155  0.000039    90046.0  0.000138  1798.0   \n",
       "\n",
       "     rv5_ss       rsv      rv10        bv    rk_th2  close_time     bv_ss  \\\n",
       "0  0.000130  0.000046  0.000178  0.000100  0.000102    163015.0  0.000100   \n",
       "1  0.000201  0.000147  0.000261  0.000207  0.000201    163016.0  0.000207   \n",
       "2  0.000491  0.000328  0.000714  0.000361  0.000345    163016.0  0.000361   \n",
       "3  0.000225  0.000116  0.000182  0.000258  0.000221    163002.0  0.000258   \n",
       "4  0.000138  0.000048  0.000157  0.000130  0.000123    163016.0  0.000130   \n",
       "\n",
       "     rsv_ss  \n",
       "0  0.000046  \n",
       "1  0.000147  \n",
       "2  0.000328  \n",
       "3  0.000116  \n",
       "4  0.000048  "
      ]
     },
     "execution_count": 4,
     "metadata": {},
     "output_type": "execute_result"
    }
   ],
   "source": [
    "data.head()"
   ]
  },
  {
   "cell_type": "code",
   "execution_count": 5,
   "metadata": {},
   "outputs": [],
   "source": [
    "spx_rkth2 = np.sqrt(data.query('Symbol==\".BFX\"').rk_th2.values)"
   ]
  },
  {
   "cell_type": "code",
   "execution_count": 6,
   "metadata": {},
   "outputs": [],
   "source": [
    "nnet_model = ResNeuralNetVol(hiddenlayer=[])\n",
    "roughvol_model = RoughVol(fit_period=200)"
   ]
  },
  {
   "cell_type": "code",
   "execution_count": 7,
   "metadata": {},
   "outputs": [
    {
     "data": {
      "text/plain": [
       "5040"
      ]
     },
     "execution_count": 7,
     "metadata": {},
     "output_type": "execute_result"
    }
   ],
   "source": [
    "spx_rkth2.__len__()"
   ]
  },
  {
   "cell_type": "code",
   "execution_count": 8,
   "metadata": {},
   "outputs": [
    {
     "data": {
      "application/vnd.jupyter.widget-view+json": {
       "model_id": "a032e77d37ff440c875a0e33da37f879",
       "version_major": 2,
       "version_minor": 0
      },
      "text/plain": [
       "HBox(children=(IntProgress(value=0, max=30000), HTML(value='')))"
      ]
     },
     "metadata": {},
     "output_type": "display_data"
    },
    {
     "name": "stdout",
     "output_type": "stream",
     "text": [
      "\n"
     ]
    },
    {
     "data": {
      "image/png": "[encoded data removed]",
      "text/plain": [
       "<Figure size 576x576 with 1 Axes>"
      ]
     },
     "metadata": {},
     "output_type": "display_data"
    },
    {
     "data": {
      "text/plain": [
       "52.44875717163086"
      ]
     },
     "execution_count": 8,
     "metadata": {},
     "output_type": "execute_result"
    }
   ],
   "source": [
    "nnet_model.fit(spx_rkth2[:3000], draw_loss=True,steps=30000, lrs=[1e-3])"
   ]
  },
  {
   "cell_type": "code",
   "execution_count": 9,
   "metadata": {},
   "outputs": [
    {
     "data": {
      "text/plain": [
       "0.1438050006463602"
      ]
     },
     "execution_count": 9,
     "metadata": {},
     "output_type": "execute_result"
    }
   ],
   "source": [
    "roughvol_model.fit(spx_rkth2[:3000])"
   ]
  },
  {
   "cell_type": "code",
   "execution_count": 10,
   "metadata": {},
   "outputs": [
    {
     "data": {
      "text/plain": [
       "array([[0.00943305, 0.00840297, 0.00779692, ..., 0.00924314, 0.00844312,\n",
       "        0.00850231],\n",
       "       [0.00930303, 0.00857041, 0.00867642, ..., 0.00860537, 0.00859168,\n",
       "        0.00786405],\n",
       "       [0.00924909, 0.00934888, 0.00906489, ..., 0.00872823, 0.00796713,\n",
       "        0.00857796],\n",
       "       ...,\n",
       "       [0.00892564, 0.00958092, 0.00909181, ..., 0.00829726, 0.00774076,\n",
       "        0.00919373],\n",
       "       [0.00954197, 0.00931217, 0.00919624, ..., 0.00768329, 0.00900535,\n",
       "        0.00932362],\n",
       "       [0.00935238, 0.0092889 , 0.00871801, ..., 0.0089892 , 0.00925021,\n",
       "        0.00875202]])"
      ]
     },
     "execution_count": 10,
     "metadata": {},
     "output_type": "execute_result"
    }
   ],
   "source": [
    "nnet_model.predict(spx_rkth2[3000:4000])"
   ]
  },
  {
   "cell_type": "code",
   "execution_count": 11,
   "metadata": {},
   "outputs": [
    {
     "data": {
      "application/vnd.jupyter.widget-view+json": {
       "model_id": "47f86dfa367f4fd1ab5ad94dc1cde619",
       "version_major": 2,
       "version_minor": 0
      },
      "text/plain": [
       "HBox(children=(IntProgress(value=0), HTML(value='')))"
      ]
     },
     "metadata": {},
     "output_type": "display_data"
    },
    {
     "name": "stdout",
     "output_type": "stream",
     "text": [
      "\n"
     ]
    }
   ],
   "source": [
    "result=[]\n",
    "for i in tqdm(range(100)):\n",
    "    forward = i+1\n",
    "    roughvol_model.forward = forward\n",
    "    result.append(roughvol_model.predict(spx_rkth2[3000:4000]))\n",
    "roughvol_result = np.array(result).T"
   ]
  },
  {
   "cell_type": "code",
   "execution_count": 12,
   "metadata": {},
   "outputs": [],
   "source": [
    "nnet_result=nnet_model.predict(spx_rkth2[3000:4000])"
   ]
  },
  {
   "cell_type": "code",
   "execution_count": 13,
   "metadata": {},
   "outputs": [
    {
     "data": {
      "text/plain": [
       "array([0.01205725, 0.01127794, 0.00813977, 0.00967284, 0.0092205 ,\n",
       "       0.01644455, 0.00957262, 0.00642937, 0.00882372, 0.00683999,\n",
       "       0.0073604 , 0.00645389, 0.00693529, 0.00709518, 0.00529332,\n",
       "       0.00444508, 0.00509397, 0.00637973, 0.00536881, 0.00709367,\n",
       "       0.00695161, 0.00756873, 0.00597583, 0.00734908, 0.0063463 ,\n",
       "       0.00590037, 0.00929083, 0.00637754, 0.0069824 , 0.0086599 ,\n",
       "       0.00890418, 0.00859794, 0.00582095, 0.00600119, 0.00787681,\n",
       "       0.00536519, 0.00670354, 0.00500209, 0.00700637, 0.0061335 ,\n",
       "       0.0073201 , 0.00612486, 0.00495705, 0.00617628, 0.00622298,\n",
       "       0.00657306, 0.00736205, 0.00804954, 0.00690276, 0.00707811,\n",
       "       0.00774199, 0.00586969, 0.00537156, 0.00661178, 0.00508563,\n",
       "       0.0059296 , 0.0064818 , 0.00645752, 0.00657698, 0.00524392,\n",
       "       0.00538648, 0.00544528, 0.00559633, 0.00638267, 0.0074239 ,\n",
       "       0.00660291, 0.00759839, 0.00536311, 0.00473525, 0.00618553,\n",
       "       0.00545881, 0.00619941, 0.00532753, 0.00412157, 0.00714925,\n",
       "       0.00701698, 0.00716917, 0.00562001, 0.00686754, 0.00615308,\n",
       "       0.00581387, 0.00662326, 0.00474971, 0.00569381, 0.00512415,\n",
       "       0.00345176, 0.00390487, 0.00425636, 0.00528604, 0.00560726,\n",
       "       0.00444937, 0.00441188, 0.0054667 , 0.00460279, 0.00481272,\n",
       "       0.00590633, 0.00643387, 0.00443043, 0.0042789 , 0.00417499,\n",
       "       0.00515592, 0.00444761, 0.00447967, 0.00412372, 0.00425358,\n",
       "       0.00351021, 0.00537274, 0.00268804, 0.00454909, 0.00490128,\n",
       "       0.00401725, 0.00565727, 0.0044702 , 0.00531753, 0.00405022,\n",
       "       0.00488924, 0.00394558, 0.00514023, 0.00508344, 0.00513921,\n",
       "       0.00571721, 0.00461666, 0.00546311, 0.00519045, 0.0033086 ,\n",
       "       0.00621899, 0.00475501, 0.00510692, 0.00639185, 0.00520468,\n",
       "       0.00435549, 0.00450358, 0.00915707, 0.00656314, 0.00629059,\n",
       "       0.00678765, 0.0074308 , 0.00773409, 0.00571724, 0.00635276,\n",
       "       0.00615455, 0.00544078, 0.00682188, 0.00533938, 0.00504073,\n",
       "       0.00601855, 0.0061042 , 0.00906509, 0.00764533, 0.01109187,\n",
       "       0.01050412, 0.00932949, 0.00718139, 0.00922704, 0.00693658,\n",
       "       0.00652518, 0.00562751, 0.00633597, 0.00511378, 0.00426932,\n",
       "       0.00501243, 0.00521931, 0.00410337, 0.00481959, 0.00746527,\n",
       "       0.0077365 , 0.00761045, 0.00772361, 0.00720937, 0.00755909,\n",
       "       0.00825381, 0.00851543, 0.00742894, 0.00722369, 0.00736095,\n",
       "       0.00983394, 0.01020783, 0.0072993 , 0.0073107 , 0.0069182 ,\n",
       "       0.00672939, 0.00803963, 0.00793198, 0.00842027, 0.01160615,\n",
       "       0.00929935, 0.00938475, 0.00869356, 0.00864793, 0.007359  ,\n",
       "       0.0073302 , 0.00718741, 0.00634991, 0.00701667, 0.0097855 ,\n",
       "       0.00679058, 0.00397089, 0.00549782, 0.00565691, 0.00549987,\n",
       "       0.0071161 , 0.00654971, 0.0057118 , 0.00563282, 0.00603879,\n",
       "       0.00669638, 0.00469958, 0.0070226 , 0.0068876 , 0.00874233,\n",
       "       0.00847378, 0.00446911, 0.00565601, 0.0075071 , 0.0058029 ,\n",
       "       0.00814003, 0.00849212, 0.00681671, 0.00727758, 0.0069448 ,\n",
       "       0.0085126 , 0.00642584, 0.00701089, 0.00713553, 0.00785619,\n",
       "       0.00632767, 0.00641831, 0.0071256 , 0.00840973, 0.01016264,\n",
       "       0.00916946, 0.01095059, 0.00962454, 0.00952305, 0.00710349,\n",
       "       0.0085411 , 0.00989873, 0.00775398, 0.00950538, 0.00905001,\n",
       "       0.01080105, 0.00711231, 0.00686697, 0.00664013, 0.00689211,\n",
       "       0.00684916, 0.00591614, 0.00631651, 0.00750026, 0.00505774,\n",
       "       0.00529523, 0.00562423, 0.00480984, 0.00604249, 0.00697066,\n",
       "       0.00712316, 0.00596341, 0.00534132, 0.00656458, 0.00544957,\n",
       "       0.0053371 , 0.00448359, 0.00570224, 0.00712147, 0.00626668,\n",
       "       0.00489952, 0.00528569, 0.00512224, 0.00490489, 0.00610535,\n",
       "       0.00641178, 0.00650416, 0.00744118, 0.00732788, 0.00595691,\n",
       "       0.00639058, 0.00502798, 0.00922598, 0.00813499, 0.00704768,\n",
       "       0.00859823, 0.00598498, 0.01037279, 0.00715453, 0.00786603,\n",
       "       0.00971785, 0.00663565, 0.00497762, 0.00566823, 0.00521763,\n",
       "       0.00426544, 0.00434823, 0.00421508, 0.00405226, 0.00479647,\n",
       "       0.00542654, 0.00473165, 0.00489663, 0.00543374, 0.00516282,\n",
       "       0.00553393, 0.0061499 , 0.00640935, 0.00649348, 0.00558593,\n",
       "       0.00564592, 0.0056542 , 0.00575025, 0.00676178, 0.00595808,\n",
       "       0.00522275, 0.00491189, 0.00482099, 0.00497181, 0.00538268,\n",
       "       0.0044713 , 0.00458351, 0.00481976, 0.00482346, 0.00477658,\n",
       "       0.00582235, 0.00497747, 0.00495778, 0.00525488, 0.0067247 ,\n",
       "       0.00591541, 0.00462105, 0.00536982, 0.00461535, 0.01000216,\n",
       "       0.00787012, 0.00431202, 0.00539251, 0.00610157, 0.00575911,\n",
       "       0.00486621, 0.00584314, 0.00565232, 0.00574693, 0.00496837,\n",
       "       0.00508416, 0.00383747, 0.00417045, 0.00460915, 0.00354747,\n",
       "       0.00339583, 0.00475937, 0.00563691, 0.00700829, 0.00658364,\n",
       "       0.00715665, 0.00586583, 0.00614838, 0.00565408, 0.0066616 ,\n",
       "       0.00576366, 0.00549966, 0.00539672, 0.00577202, 0.00523898,\n",
       "       0.00544521, 0.0037897 , 0.00232578, 0.00386518, 0.00488955,\n",
       "       0.0024114 , 0.00810103, 0.00553924, 0.00547945, 0.00440606,\n",
       "       0.00389175, 0.00581532, 0.00581227, 0.00447458, 0.00522605,\n",
       "       0.00375938, 0.00458856, 0.00560688, 0.00371488, 0.00571294,\n",
       "       0.00493893, 0.00565526, 0.00787257, 0.00753908, 0.00647129,\n",
       "       0.01070157, 0.00808981, 0.00950716, 0.0094818 , 0.00875747,\n",
       "       0.00774252, 0.0084655 , 0.0074599 , 0.00520215, 0.00515955,\n",
       "       0.00440514, 0.00695189, 0.00512075, 0.00372603, 0.00546395,\n",
       "       0.00552017, 0.00637316, 0.00463017, 0.00481916, 0.00488914,\n",
       "       0.00603314, 0.00678596, 0.0054226 , 0.00703078, 0.0070396 ,\n",
       "       0.00541487, 0.00623605, 0.0084352 , 0.00693193, 0.00572187,\n",
       "       0.00676336, 0.00795667, 0.00930142, 0.00673715, 0.00757534,\n",
       "       0.00604091, 0.00691823, 0.00564748, 0.00667476, 0.00665526,\n",
       "       0.00557375, 0.005774  , 0.00435508, 0.00559483, 0.00471209,\n",
       "       0.00424468, 0.00527302, 0.00490205, 0.00554871, 0.00632154,\n",
       "       0.00520911, 0.00639393, 0.00601019, 0.00609564, 0.00779811,\n",
       "       0.00591059, 0.00583788, 0.00494121, 0.00505309, 0.00624748,\n",
       "       0.00620172, 0.00609111, 0.00576129, 0.00561582, 0.00520529,\n",
       "       0.00623133, 0.00496461, 0.00643652, 0.00708913, 0.00497762,\n",
       "       0.00408122, 0.00438112, 0.00365988, 0.0058729 , 0.00578607,\n",
       "       0.00604916, 0.00493429, 0.00539605, 0.00481559, 0.00385789,\n",
       "       0.00390595, 0.00373389, 0.00383865, 0.00362587, 0.00355967,\n",
       "       0.00385396, 0.00350029, 0.00426972, 0.00714178, 0.00455244,\n",
       "       0.00280214, 0.00355659, 0.00468804, 0.00350531, 0.0049397 ,\n",
       "       0.00485989, 0.00472824, 0.00388466, 0.00340983, 0.00428597,\n",
       "       0.00601249, 0.00417393, 0.00493088, 0.00547786, 0.00467792,\n",
       "       0.0050025 , 0.00472918, 0.0043253 , 0.00542423, 0.0031395 ,\n",
       "       0.00498187, 0.00518525, 0.00465559, 0.00754044, 0.00578119,\n",
       "       0.00476654, 0.0066428 , 0.00509765, 0.00624727, 0.0058089 ,\n",
       "       0.00603652, 0.00514644, 0.00540338, 0.00547328, 0.00560264,\n",
       "       0.00654695, 0.00878194, 0.00769236, 0.00815078, 0.00957112,\n",
       "       0.00646827, 0.00679044, 0.00790945, 0.00739647, 0.008202  ,\n",
       "       0.0057558 , 0.00620121, 0.00485696, 0.00590451, 0.00832924,\n",
       "       0.00491315, 0.00450121, 0.00504863, 0.00505622, 0.00686551,\n",
       "       0.00453841, 0.00417816, 0.00403206, 0.0053748 , 0.0049618 ,\n",
       "       0.00494211, 0.00492024, 0.00576307, 0.00793907, 0.00545756,\n",
       "       0.00450184, 0.00434757, 0.00503302, 0.00543612, 0.00377452,\n",
       "       0.00455394, 0.00428119, 0.00370246, 0.00428041, 0.0041143 ,\n",
       "       0.00396997, 0.00536202, 0.00451928, 0.00585406, 0.0061651 ,\n",
       "       0.00604138, 0.00561891, 0.00549642, 0.00874918, 0.00575252,\n",
       "       0.00555894, 0.00696969, 0.00729143, 0.00913952, 0.00907098,\n",
       "       0.00724981, 0.00928094, 0.01312123, 0.02217593, 0.01296667,\n",
       "       0.01366276, 0.01075902, 0.00780805, 0.01120019, 0.00841824,\n",
       "       0.01039074, 0.00632588, 0.00692688, 0.01147957, 0.00702592,\n",
       "       0.00797527, 0.00890729, 0.00614435, 0.01147852, 0.00835965,\n",
       "       0.0066943 , 0.0045138 , 0.00641015, 0.00744845, 0.007407  ,\n",
       "       0.00708666, 0.00581342, 0.00491538, 0.0064983 , 0.00574248,\n",
       "       0.00513444, 0.00532585, 0.00536409, 0.00293294, 0.00538989,\n",
       "       0.00656687, 0.00598419, 0.00533438, 0.01113482, 0.00551106,\n",
       "       0.0047232 , 0.00746695, 0.00761105, 0.00814212, 0.0088413 ,\n",
       "       0.01074688, 0.01742538, 0.01192634, 0.00790766, 0.00961771,\n",
       "       0.00595536, 0.00532101, 0.00273026, 0.00934658, 0.0052883 ,\n",
       "       0.00328978, 0.00885172, 0.01013633, 0.01013327, 0.00898314,\n",
       "       0.00703324, 0.01124631, 0.01090741, 0.00803588, 0.01164425,\n",
       "       0.02034516, 0.00894887, 0.0068768 , 0.00669817, 0.01060986,\n",
       "       0.01331794, 0.00888188, 0.00794862, 0.00922417, 0.00845986,\n",
       "       0.00848488, 0.00981793, 0.00861202, 0.00704011, 0.00692254,\n",
       "       0.00776332, 0.00631998, 0.00796855, 0.00826797, 0.00560328,\n",
       "       0.00699942, 0.0059949 , 0.00515972, 0.00716271, 0.00502324,\n",
       "       0.00748596, 0.00679865, 0.00518797, 0.00473407, 0.00426103,\n",
       "       0.00600992, 0.00547489, 0.00491947, 0.00514849, 0.00678739,\n",
       "       0.00623954, 0.00510313, 0.00511174, 0.00648576, 0.00522912,\n",
       "       0.00494424, 0.00447695, 0.00472539, 0.00672882, 0.00666252,\n",
       "       0.00595969, 0.00592764, 0.00545994, 0.00523087, 0.00525839,\n",
       "       0.00894935, 0.00776036, 0.00535116, 0.00717484, 0.00680405,\n",
       "       0.00423725, 0.00538339, 0.00500046, 0.00442643, 0.00412163,\n",
       "       0.00405666, 0.00588808, 0.00469439, 0.00636119, 0.01043874,\n",
       "       0.00572978, 0.00780483, 0.00834091, 0.00966349, 0.00771744,\n",
       "       0.00904515, 0.0073631 , 0.00943584, 0.01074249, 0.00821768,\n",
       "       0.00953021, 0.01078458, 0.01175564, 0.00769888, 0.00749344,\n",
       "       0.0095313 , 0.00854164, 0.00766197, 0.00729144, 0.00872878,\n",
       "       0.00692087, 0.00555628, 0.00500767, 0.00484824, 0.00240493,\n",
       "       0.00788147, 0.00662358, 0.00585996, 0.00839005, 0.00815935,\n",
       "       0.00942308, 0.0072924 , 0.00906091, 0.00849581, 0.00710443,\n",
       "       0.00839212, 0.00744962, 0.00748862, 0.00953479, 0.00794726,\n",
       "       0.00927168, 0.00835345, 0.00938854, 0.00861449, 0.00911618,\n",
       "       0.00626405, 0.0093799 , 0.01051303, 0.00777228, 0.01160301,\n",
       "       0.01352826, 0.01219132, 0.00721804, 0.00706529, 0.00976632,\n",
       "       0.00898749, 0.00998208, 0.00741927, 0.00694933, 0.00600014,\n",
       "       0.00439799, 0.00406789, 0.00511809, 0.00454515, 0.00424063,\n",
       "       0.00491833, 0.00513764, 0.00568983, 0.00545854, 0.00754593,\n",
       "       0.00597175, 0.00603679, 0.00638879, 0.00560658, 0.00590691,\n",
       "       0.00579201, 0.00479454, 0.00500881, 0.00499027, 0.00588968,\n",
       "       0.00598575, 0.00898852, 0.0074925 , 0.00764029, 0.00955267,\n",
       "       0.00744271, 0.00682765, 0.00851429, 0.01058169, 0.02456126,\n",
       "       0.0164924 , 0.01804901, 0.01174005, 0.01063482, 0.00925771,\n",
       "       0.01329597, 0.01328322, 0.00938603, 0.01262833, 0.00751   ,\n",
       "       0.00825138, 0.00786256, 0.01001721, 0.00908971, 0.00963923])"
      ]
     },
     "execution_count": 13,
     "metadata": {},
     "output_type": "execute_result"
    }
   ],
   "source": [
    "spx_rkth2[3200:4000]"
   ]
  },
  {
   "cell_type": "code",
   "execution_count": 14,
   "metadata": {},
   "outputs": [
    {
     "data": {
      "text/plain": [
       "((801, 100), (801, 100))"
      ]
     },
     "execution_count": 14,
     "metadata": {},
     "output_type": "execute_result"
    }
   ],
   "source": [
    "roughvol_result.shape,  nnet_result.shape"
   ]
  },
  {
   "cell_type": "code",
   "execution_count": 15,
   "metadata": {},
   "outputs": [],
   "source": [
    "true_result = np.array([spx_rkth2[ele:ele+101] for ele in range(3199,4000)])"
   ]
  },
  {
   "cell_type": "code",
   "execution_count": 16,
   "metadata": {},
   "outputs": [
    {
     "data": {
      "text/plain": [
       "(801, 101)"
      ]
     },
     "execution_count": 16,
     "metadata": {},
     "output_type": "execute_result"
    }
   ],
   "source": [
    "true_result.shape"
   ]
  },
  {
   "cell_type": "code",
   "execution_count": 17,
   "metadata": {},
   "outputs": [],
   "source": [
    "unconditional_var = np.mean((np.log(true_result[:,1:])-np.log(true_result[:,0][:,np.newaxis]))**2,axis=0)"
   ]
  },
  {
   "cell_type": "code",
   "execution_count": 22,
   "metadata": {},
   "outputs": [
    {
     "data": {
      "text/plain": [
       "<matplotlib.legend.Legend at 0x1a1a274e80>"
      ]
     },
     "execution_count": 22,
     "metadata": {},
     "output_type": "execute_result"
    },
    {
     "data": {
      "image/png": "[encoded data removed]",
      "text/plain": [
       "<Figure size 720x720 with 1 Axes>"
      ]
     },
     "metadata": {},
     "output_type": "display_data"
    }
   ],
   "source": [
    "plt.figure(figsize=(10,10))\n",
    "plt.scatter(np.arange(1,101),unconditional_var)\n",
    "plt.scatter(np.arange(1,101),np.mean((np.log(true_result[:,1:]) - np.log(roughvol_result))**2,axis=0))\n",
    "plt.scatter(np.arange(1,101),np.mean((np.log(true_result[:,1:]) - np.log(nnet_result))**2,axis=0))\n",
    "plt.title('BFX')\n",
    "plt.legend(['unconditional_var', 'roughvol','nnet'])"
   ]
  },
  {
   "cell_type": "code",
   "execution_count": 19,
   "metadata": {},
   "outputs": [
    {
     "data": {
      "text/plain": [
       "array([0.05111012, 0.0615539 , 0.06441026, 0.07361906, 0.07803816,\n",
       "       0.08564477, 0.08796835, 0.09189051, 0.09759932, 0.09909858,\n",
       "       0.10155825, 0.102361  , 0.10325778, 0.10451814, 0.10371866,\n",
       "       0.10452729, 0.10544971, 0.10579474, 0.10560811, 0.10767573,\n",
       "       0.10968097, 0.11078208, 0.11174229, 0.11209845, 0.11261888,\n",
       "       0.11252499, 0.11344305, 0.1139577 , 0.11289655, 0.11296879,\n",
       "       0.11358436, 0.11418778, 0.1126265 , 0.11139112, 0.11207104,\n",
       "       0.11297946, 0.11077948, 0.11012073, 0.10865217, 0.10902261,\n",
       "       0.10965215, 0.10998782, 0.11012693, 0.10941834, 0.10897085,\n",
       "       0.10989691, 0.10996246, 0.1105165 , 0.1100071 , 0.10898535,\n",
       "       0.10832149, 0.10794268, 0.10847166, 0.10891523, 0.11016534,\n",
       "       0.11009868, 0.110593  , 0.11203739, 0.11312906, 0.11353325,\n",
       "       0.11397663, 0.11372067, 0.11465261, 0.11397678, 0.11380475,\n",
       "       0.11504988, 0.11567812, 0.11599561, 0.11608221, 0.11526954,\n",
       "       0.11704964, 0.11750195, 0.12056777, 0.12446893, 0.12355081,\n",
       "       0.12466322, 0.1264431 , 0.12771884, 0.12828294, 0.12794204,\n",
       "       0.1295928 , 0.12940535, 0.12948551, 0.12918689, 0.12910597,\n",
       "       0.1297386 , 0.12864718, 0.12807735, 0.12710676, 0.12680617,\n",
       "       0.12696392, 0.12602123, 0.12582088, 0.1254281 , 0.12531275,\n",
       "       0.12497221, 0.12450611, 0.12502165, 0.12382145, 0.12394238])"
      ]
     },
     "execution_count": 19,
     "metadata": {},
     "output_type": "execute_result"
    }
   ],
   "source": [
    "np.mean((np.log(true_result[:,1:]) - np.log(roughvol_result))**2,axis=0)"
   ]
  },
  {
   "cell_type": "code",
   "execution_count": 20,
   "metadata": {},
   "outputs": [
    {
     "data": {
      "text/plain": [
       "array([0.05294994, 0.06363296, 0.06925236, 0.07759433, 0.08320631,\n",
       "       0.08996232, 0.09235694, 0.09612089, 0.10089653, 0.10239186,\n",
       "       0.10366348, 0.10336588, 0.10380137, 0.10452482, 0.1036622 ,\n",
       "       0.10398813, 0.10420944, 0.10408296, 0.10489325, 0.10703924,\n",
       "       0.10822863, 0.10875609, 0.10924865, 0.10958392, 0.11024504,\n",
       "       0.10969043, 0.11058686, 0.11093627, 0.11042007, 0.11075895,\n",
       "       0.11072968, 0.11087989, 0.11077132, 0.11026643, 0.11069398,\n",
       "       0.11043325, 0.10975991, 0.10941893, 0.10871801, 0.10900701,\n",
       "       0.10913347, 0.10970723, 0.10926813, 0.1090432 , 0.10954513,\n",
       "       0.11010815, 0.11058668, 0.11110553, 0.11056063, 0.11036825,\n",
       "       0.1098949 , 0.10991546, 0.11053322, 0.11106039, 0.11229538,\n",
       "       0.11261641, 0.11301705, 0.11424736, 0.11516034, 0.11570854,\n",
       "       0.11582846, 0.11575234, 0.11552624, 0.11489232, 0.11479507,\n",
       "       0.11549888, 0.11563149, 0.11583777, 0.11570356, 0.11543677,\n",
       "       0.11707323, 0.11789879, 0.12071456, 0.12348222, 0.12330163,\n",
       "       0.12407177, 0.12525512, 0.12650498, 0.12664254, 0.1264438 ,\n",
       "       0.12729047, 0.12648914, 0.12621053, 0.12564025, 0.1257306 ,\n",
       "       0.12589729, 0.12458831, 0.12378434, 0.1229965 , 0.12259581,\n",
       "       0.12249001, 0.12209033, 0.12177028, 0.12115176, 0.12045303,\n",
       "       0.11968557, 0.11917302, 0.1192022 , 0.11837498, 0.11817355])"
      ]
     },
     "execution_count": 20,
     "metadata": {},
     "output_type": "execute_result"
    }
   ],
   "source": [
    "np.mean((np.log(true_result[:,1:]) - np.log(nnet_result))**2,axis=0)"
   ]
  },
  {
   "cell_type": "code",
   "execution_count": null,
   "metadata": {},
   "outputs": [],
   "source": []
  },
  {
   "cell_type": "code",
   "execution_count": null,
   "metadata": {},
   "outputs": [],
   "source": []
  }
 ],
 "metadata": {
  "kernelspec": {
   "display_name": "Python 3",
   "language": "python",
   "name": "python3"
  },
  "language_info": {
   "codemirror_mode": {
    "name": "ipython",
    "version": 3
   },
   "file_extension": ".py",
   "mimetype": "text/x-python",
   "name": "python",
   "nbconvert_exporter": "python",
   "pygments_lexer": "ipython3",
   "version": "3.6.7"
  },
  "toc": {
   "base_numbering": 1,
   "nav_menu": {},
   "number_sections": true,
   "sideBar": true,
   "skip_h1_title": false,
   "title_cell": "Table of Contents",
   "title_sidebar": "Contents",
   "toc_cell": false,
   "toc_position": {},
   "toc_section_display": true,
   "toc_window_display": false
  }
 },
 "nbformat": 4,
 "nbformat_minor": 2
}
