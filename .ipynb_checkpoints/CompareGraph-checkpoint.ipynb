{
 "cells": [
  {
   "cell_type": "markdown",
   "metadata": {},
   "source": [
    "# from IPython.core.display import display, HTML\n",
    "display(HTML(\"<style>.container { width:100% !important; }</style>\"))\n",
    "import warnings\n",
    "warnings.filterwarnings('ignore')"
   ]
  },
  {
   "cell_type": "code",
   "execution_count": 1,
   "metadata": {},
   "outputs": [],
   "source": [
    "import pandas as pd\n",
    "import numpy as np\n",
    "from tqdm import tqdm_notebook as tqdm\n",
    "import matplotlib.pyplot as plt\n",
    "%matplotlib inline"
   ]
  },
  {
   "cell_type": "code",
   "execution_count": 2,
   "metadata": {},
   "outputs": [],
   "source": [
    "df = pd.read_csv('oxfordmanrealizedvolatilityindices.csv',index_col = 0, parse_dates = True)"
   ]
  },
  {
   "cell_type": "code",
   "execution_count": 3,
   "metadata": {},
   "outputs": [
    {
     "data": {
      "text/html": [
       "<div>\n",
       "<style scoped>\n",
       "    .dataframe tbody tr th:only-of-type {\n",
       "        vertical-align: middle;\n",
       "    }\n",
       "\n",
       "    .dataframe tbody tr th {\n",
       "        vertical-align: top;\n",
       "    }\n",
       "\n",
       "    .dataframe thead th {\n",
       "        text-align: right;\n",
       "    }\n",
       "</style>\n",
       "<table border=\"1\" class=\"dataframe\">\n",
       "  <thead>\n",
       "    <tr style=\"text-align: right;\">\n",
       "      <th></th>\n",
       "      <th>Symbol</th>\n",
       "      <th>open_price</th>\n",
       "      <th>rk_twoscale</th>\n",
       "      <th>close_price</th>\n",
       "      <th>open_to_close</th>\n",
       "      <th>rv10_ss</th>\n",
       "      <th>rk_parzen</th>\n",
       "      <th>medrv</th>\n",
       "      <th>open_time</th>\n",
       "      <th>rv5</th>\n",
       "      <th>nobs</th>\n",
       "      <th>rv5_ss</th>\n",
       "      <th>rsv</th>\n",
       "      <th>rv10</th>\n",
       "      <th>bv</th>\n",
       "      <th>rk_th2</th>\n",
       "      <th>close_time</th>\n",
       "      <th>bv_ss</th>\n",
       "      <th>rsv_ss</th>\n",
       "    </tr>\n",
       "  </thead>\n",
       "  <tbody>\n",
       "    <tr>\n",
       "      <th>2000-01-03</th>\n",
       "      <td>.AEX</td>\n",
       "      <td>675.67</td>\n",
       "      <td>0.000103</td>\n",
       "      <td>675.44</td>\n",
       "      <td>-0.000340</td>\n",
       "      <td>0.000178</td>\n",
       "      <td>0.000179</td>\n",
       "      <td>0.000050</td>\n",
       "      <td>90101.0</td>\n",
       "      <td>0.000130</td>\n",
       "      <td>1795.0</td>\n",
       "      <td>0.000130</td>\n",
       "      <td>0.000046</td>\n",
       "      <td>0.000178</td>\n",
       "      <td>0.000100</td>\n",
       "      <td>0.000102</td>\n",
       "      <td>163015.0</td>\n",
       "      <td>0.000100</td>\n",
       "      <td>0.000046</td>\n",
       "    </tr>\n",
       "    <tr>\n",
       "      <th>2000-01-04</th>\n",
       "      <td>.AEX</td>\n",
       "      <td>664.20</td>\n",
       "      <td>0.000199</td>\n",
       "      <td>642.25</td>\n",
       "      <td>-0.033606</td>\n",
       "      <td>0.000261</td>\n",
       "      <td>0.000423</td>\n",
       "      <td>0.000075</td>\n",
       "      <td>90416.0</td>\n",
       "      <td>0.000201</td>\n",
       "      <td>1785.0</td>\n",
       "      <td>0.000201</td>\n",
       "      <td>0.000147</td>\n",
       "      <td>0.000261</td>\n",
       "      <td>0.000207</td>\n",
       "      <td>0.000201</td>\n",
       "      <td>163016.0</td>\n",
       "      <td>0.000207</td>\n",
       "      <td>0.000147</td>\n",
       "    </tr>\n",
       "    <tr>\n",
       "      <th>2000-01-05</th>\n",
       "      <td>.AEX</td>\n",
       "      <td>633.37</td>\n",
       "      <td>0.000325</td>\n",
       "      <td>632.31</td>\n",
       "      <td>-0.001675</td>\n",
       "      <td>0.000714</td>\n",
       "      <td>0.000324</td>\n",
       "      <td>0.000166</td>\n",
       "      <td>90016.0</td>\n",
       "      <td>0.000491</td>\n",
       "      <td>1801.0</td>\n",
       "      <td>0.000491</td>\n",
       "      <td>0.000328</td>\n",
       "      <td>0.000714</td>\n",
       "      <td>0.000361</td>\n",
       "      <td>0.000345</td>\n",
       "      <td>163016.0</td>\n",
       "      <td>0.000361</td>\n",
       "      <td>0.000328</td>\n",
       "    </tr>\n",
       "    <tr>\n",
       "      <th>2000-01-06</th>\n",
       "      <td>.AEX</td>\n",
       "      <td>632.46</td>\n",
       "      <td>0.000218</td>\n",
       "      <td>624.21</td>\n",
       "      <td>-0.013130</td>\n",
       "      <td>0.000182</td>\n",
       "      <td>0.000219</td>\n",
       "      <td>0.000152</td>\n",
       "      <td>90016.0</td>\n",
       "      <td>0.000225</td>\n",
       "      <td>1799.0</td>\n",
       "      <td>0.000225</td>\n",
       "      <td>0.000116</td>\n",
       "      <td>0.000182</td>\n",
       "      <td>0.000258</td>\n",
       "      <td>0.000221</td>\n",
       "      <td>163002.0</td>\n",
       "      <td>0.000258</td>\n",
       "      <td>0.000116</td>\n",
       "    </tr>\n",
       "    <tr>\n",
       "      <th>2000-01-07</th>\n",
       "      <td>.AEX</td>\n",
       "      <td>628.93</td>\n",
       "      <td>0.000126</td>\n",
       "      <td>644.86</td>\n",
       "      <td>0.025013</td>\n",
       "      <td>0.000157</td>\n",
       "      <td>0.000155</td>\n",
       "      <td>0.000039</td>\n",
       "      <td>90046.0</td>\n",
       "      <td>0.000138</td>\n",
       "      <td>1798.0</td>\n",
       "      <td>0.000138</td>\n",
       "      <td>0.000048</td>\n",
       "      <td>0.000157</td>\n",
       "      <td>0.000130</td>\n",
       "      <td>0.000123</td>\n",
       "      <td>163016.0</td>\n",
       "      <td>0.000130</td>\n",
       "      <td>0.000048</td>\n",
       "    </tr>\n",
       "  </tbody>\n",
       "</table>\n",
       "</div>"
      ],
      "text/plain": [
       "           Symbol  open_price  rk_twoscale  close_price  open_to_close  \\\n",
       "2000-01-03   .AEX      675.67     0.000103       675.44      -0.000340   \n",
       "2000-01-04   .AEX      664.20     0.000199       642.25      -0.033606   \n",
       "2000-01-05   .AEX      633.37     0.000325       632.31      -0.001675   \n",
       "2000-01-06   .AEX      632.46     0.000218       624.21      -0.013130   \n",
       "2000-01-07   .AEX      628.93     0.000126       644.86       0.025013   \n",
       "\n",
       "             rv10_ss  rk_parzen     medrv  open_time       rv5    nobs  \\\n",
       "2000-01-03  0.000178   0.000179  0.000050    90101.0  0.000130  1795.0   \n",
       "2000-01-04  0.000261   0.000423  0.000075    90416.0  0.000201  1785.0   \n",
       "2000-01-05  0.000714   0.000324  0.000166    90016.0  0.000491  1801.0   \n",
       "2000-01-06  0.000182   0.000219  0.000152    90016.0  0.000225  1799.0   \n",
       "2000-01-07  0.000157   0.000155  0.000039    90046.0  0.000138  1798.0   \n",
       "\n",
       "              rv5_ss       rsv      rv10        bv    rk_th2  close_time  \\\n",
       "2000-01-03  0.000130  0.000046  0.000178  0.000100  0.000102    163015.0   \n",
       "2000-01-04  0.000201  0.000147  0.000261  0.000207  0.000201    163016.0   \n",
       "2000-01-05  0.000491  0.000328  0.000714  0.000361  0.000345    163016.0   \n",
       "2000-01-06  0.000225  0.000116  0.000182  0.000258  0.000221    163002.0   \n",
       "2000-01-07  0.000138  0.000048  0.000157  0.000130  0.000123    163016.0   \n",
       "\n",
       "               bv_ss    rsv_ss  \n",
       "2000-01-03  0.000100  0.000046  \n",
       "2000-01-04  0.000207  0.000147  \n",
       "2000-01-05  0.000361  0.000328  \n",
       "2000-01-06  0.000258  0.000116  \n",
       "2000-01-07  0.000130  0.000048  "
      ]
     },
     "execution_count": 3,
     "metadata": {},
     "output_type": "execute_result"
    }
   ],
   "source": [
    "df.head()"
   ]
  },
  {
   "cell_type": "code",
   "execution_count": 4,
   "metadata": {},
   "outputs": [],
   "source": [
    "df_rk = df[['Symbol','rk_th2']]"
   ]
  },
  {
   "cell_type": "code",
   "execution_count": 5,
   "metadata": {},
   "outputs": [
    {
     "data": {
      "text/plain": [
       "array(['.AEX', '.AORD', '.BFX', '.BSESN', '.BVLG', '.BVSP', '.DJI',\n",
       "       '.FCHI', '.FTMIB', '.FTSE', '.GDAXI', '.GSPTSE', '.HSI', '.IBEX',\n",
       "       '.IXIC', '.KS11', '.KSE', '.MXX', '.N225', '.NSEI', '.OMXC20',\n",
       "       '.OMXHPI', '.OMXSPI', '.OSEAX', '.RUT', '.SMSI', '.SPX', '.SSEC',\n",
       "       '.SSMI', '.STI', '.STOXX50E'], dtype=object)"
      ]
     },
     "execution_count": 5,
     "metadata": {},
     "output_type": "execute_result"
    }
   ],
   "source": [
    "df_rk.Symbol.unique()"
   ]
  },
  {
   "cell_type": "code",
   "execution_count": 7,
   "metadata": {},
   "outputs": [],
   "source": [
    "from sklearn.linear_model import LinearRegression\n",
    "import statsmodels.api as sm\n",
    "class HarModel:\n",
    "    def __init__(self, time_period=(1,5,22), forward = 1):\n",
    "        self.time_period=time_period\n",
    "        self.forward=forward\n",
    "    def fit(self, data: np.ndarray):\n",
    "        assert len(data) > max(self.time_period), \"the length of the data should be longer than the longest time period\"\n",
    "        input_data = np.array([np.convolve(data[max(self.time_period)-t:-self.forward],np.ones(t)/t,'valid') for t in self.time_period]).T#         input_data = np.array([[np.mean(data[ele-t:ele]) for t in self.time_period] for ele in range(max(self.time_period),len(data)-self.forward+1)])\n",
    "#         input_data=sm.add_constant(input_data)\n",
    "        output_data = data[max(self.time_period) + self.forward-1:]\n",
    "        self.model = LinearRegression(n_jobs=-1)\n",
    "        self.model.fit(input_data,output_data)\n",
    "    def predict(self, data):\n",
    "        assert len(data) >= max(self.time_period)\n",
    "        input_data = np.array([np.convolve(data[max(self.time_period)-t:],np.ones(t)/t,'valid') for t in self.time_period]).T\n",
    "#         input_data = np.array([[np.mean(data[ele-t:ele]) for t in self.time_period] for ele in range(max(self.time_period),len(data)+1)])\n",
    "#         input_data=sm.add_constant(input_data)\n",
    "        return self.model.predict(input_data)\n",
    "    def summary(self, data):\n",
    "        assert len(data) > max(self.time_period), \"the length of the data should be longer than the longest time period\"\n",
    "        input_data = np.array([np.convolve(data[max(self.time_period)-t:-self.forward],np.ones(t)/t,'valid') for t in self.time_period]).T#         input_data = np.array([[np.mean(data[ele-t:ele]) for t in self.time_period] for ele in range(max(self.time_period),len(data)-self.forward+1)])\n",
    "        input_data=sm.add_constant(input_data)\n",
    "        output_data = data[max(self.time_period+self.forward-1):]\n",
    "        model=sm.OLS(output_data, input_data).fit()\n",
    "        print(model.summary())\n",
    "        "
   ]
  },
  {
   "cell_type": "code",
   "execution_count": 8,
   "metadata": {},
   "outputs": [],
   "source": [
    "class LogHarModel:\n",
    "    def __init__(self, time_period=(1,5,22), forward = 1):\n",
    "        self.time_period=time_period\n",
    "        self.forward=forward\n",
    "    def fit(self, data: np.ndarray):\n",
    "        data=np.log(data)\n",
    "        assert len(data) > max(self.time_period), \"the length of the data should be longer than the longest time period\"\n",
    "        input_data = np.array([np.convolve(data[max(self.time_period)-t:-self.forward],np.ones(t)/t,'valid') for t in self.time_period]).T#         input_data = np.array([[np.mean(data[ele-t:ele]) for t in self.time_period] for ele in range(max(self.time_period),len(data)-self.forward+1)])\n",
    "#         input_data=sm.add_constant(input_data)\n",
    "        output_data = data[max(self.time_period) + self.forward-1:]\n",
    "        self.model = LinearRegression(n_jobs=-1)\n",
    "        self.model.fit(input_data,output_data)\n",
    "    def predict(self, data):\n",
    "        data = np.log(data)\n",
    "        assert len(data) >= max(self.time_period)\n",
    "        input_data = np.array([np.convolve(data[max(self.time_period)-t:],np.ones(t)/t,'valid') for t in self.time_period]).T\n",
    "#         input_data = np.array([[np.mean(data[ele-t:ele]) for t in self.time_period] for ele in range(max(self.time_period),len(data)+1)])\n",
    "#         input_data=sm.add_constant(input_data)\n",
    "        return np.exp(self.model.predict(input_data))\n",
    "    def summary(self, data):\n",
    "        data=np.log(data)\n",
    "        assert len(data) > max(self.time_period), \"the length of the data should be longer than the longest time period\"\n",
    "        input_data = np.array([np.convolve(data[max(self.time_period)-t:-self.forward],np.ones(t)/t,'valid') for t in self.time_period]).T#         input_data = np.array([[np.mean(data[ele-t:ele]) for t in self.time_period] for ele in range(max(self.time_period),len(data)-self.forward+1)])\n",
    "        input_data=sm.add_constant(input_data)\n",
    "        output_data = data[max(self.time_period+self.forward-1):]\n",
    "        model=sm.OLS(output_data, input_data).fit()\n",
    "        print(model.summary())\n",
    "        "
   ]
  },
  {
   "cell_type": "code",
   "execution_count": 9,
   "metadata": {},
   "outputs": [],
   "source": [
    "class forward_graph:\n",
    "    def __init__(self, model = HarModel(), fit_period = 200, lower_bound = 1, higher_bound = 100):\n",
    "        self.model = model\n",
    "        self.fit_period=fit_period\n",
    "        self.lower_bound = lower_bound\n",
    "        self.higher_bound = higher_bound\n",
    "        \n",
    "    def plot(self,data,verbose=False,log=True):\n",
    "        unconditional_var=[]\n",
    "        conditional_var=[]\n",
    "        \n",
    "        for time_forward in range(self.lower_bound, self.higher_bound+1):\n",
    "            self.model.forward=time_forward\n",
    "            pred_result=[]\n",
    "            true_result=[]\n",
    "            delta_true=[]\n",
    "            count=0\n",
    "\n",
    "            for pos in range(self.fit_period+time_forward+max(self.model.time_period),len(data)-time_forward+1):\n",
    "\n",
    "                self.model.fit(data[:pos])\n",
    "                pred_result.append(self.model.predict(data[pos-max(self.model.time_period)-1:pos])[-1])\n",
    "                true_result.append(data[pos+time_forward-1])\n",
    "                if log:\n",
    "                    delta_true.append(np.log(data[pos+time_forward-1])-np.log(data[pos-1]))\n",
    "                else:\n",
    "                    delta_true.append(data[pos+time_forward-1]-data[pos-1])\n",
    "                    \n",
    "            unconditional_var.append(np.mean(np.array(delta_true)**2))\n",
    "            if verbose:\n",
    "                print(true_result[:100])\n",
    "                print(any(np.array(pred_result)<=0))\n",
    "            if log:\n",
    "                conditional_var.append(np.mean((np.log(true_result)-np.log(pred_result))**2))\n",
    "            else:\n",
    "                conditional_var.append(np.mean((np.array(true_result)-np.array(pred_result))**2))\n",
    "            if verbose:\n",
    "                print(conditional_var)\n",
    "        plt.scatter(range(self.lower_bound,self.higher_bound+1),unconditional_var)\n",
    "        plt.scatter(range(self.lower_bound,self.higher_bound+1),conditional_var)\n",
    "        plt.legend(['unconditional_var','conditional_var'])\n",
    "        plt.ylim((0,1.05*max(max(conditional_var),max(unconditional_var))))\n",
    "        plt.ylabel('variance')\n",
    "        plt.xlabel('lag')\n",
    "#         return(conditional_var,unconditional_var)"
   ]
  },
  {
   "cell_type": "code",
   "execution_count": 10,
   "metadata": {},
   "outputs": [
    {
     "data": {
      "text/plain": [
       "31"
      ]
     },
     "execution_count": 10,
     "metadata": {},
     "output_type": "execute_result"
    }
   ],
   "source": [
    "df_rk.Symbol.nunique()"
   ]
  },
  {
   "cell_type": "code",
   "execution_count": 6,
   "metadata": {},
   "outputs": [],
   "source": [
    "from utils.forward_graph import CompareGraph\n",
    "from utils.har import LogHarModel\n",
    "from utils.rough_vol import RoughVol"
   ]
  },
  {
   "cell_type": "code",
   "execution_count": 7,
   "metadata": {},
   "outputs": [],
   "source": [
    "cgraph = CompareGraph(models=[RoughVol(),LogHarModel()])"
   ]
  },
  {
   "cell_type": "code",
   "execution_count": null,
   "metadata": {
    "scrolled": false
   },
   "outputs": [
    {
     "data": {
      "application/vnd.jupyter.widget-view+json": {
       "model_id": "5f2b81073bcc4b84b912f83313435830",
       "version_major": 2,
       "version_minor": 0
      },
      "text/plain": [
       "HBox(children=(IntProgress(value=0), HTML(value='')))"
      ]
     },
     "metadata": {},
     "output_type": "display_data"
    }
   ],
   "source": [
    "cgraph.plot(df_rk.query(\"Symbol=='.SPX'\")['rk_th2'].values,time_bar=True)"
   ]
  },
  {
   "cell_type": "code",
   "execution_count": null,
   "metadata": {
    "scrolled": false
   },
   "outputs": [],
   "source": [
    "fgraph = forward_graph(LogHarModel(),)\n",
    "plt.figure(figsize=(40,80))\n",
    "count=0\n",
    "for name in tqdm(df_rk.Symbol.unique()):\n",
    "    tempt_data=df_rk.query(\"Symbol==@name\")['rk_th2'].values\n",
    "    if np.min(tempt_data)<=0:\n",
    "        continue\n",
    "    tempt_data=np.sqrt(df_rk.query(\"Symbol==@name\")['rk_th2'].values)\n",
    "    \n",
    "    count+=1\n",
    "    plt.subplot(8,4,count)\n",
    "    try:\n",
    "        fgraph.plot(tempt_data,log=True,verbose=False)\n",
    "        plt.title(f\"{name}\")\n",
    "    except:\n",
    "        count-=1\n",
    "    \n",
    "    "
   ]
  },
  {
   "cell_type": "code",
   "execution_count": 12,
   "metadata": {},
   "outputs": [
    {
     "data": {
      "text/plain": [
       "['.AEX',\n",
       " '.AORD',\n",
       " '.BFX',\n",
       " '.BSESN',\n",
       " '.BVLG',\n",
       " '.BVSP',\n",
       " '.DJI',\n",
       " '.FCHI',\n",
       " '.FTMIB',\n",
       " '.FTSE',\n",
       " '.GDAXI',\n",
       " '.GSPTSE',\n",
       " '.HSI',\n",
       " '.IBEX',\n",
       " '.IXIC',\n",
       " '.KS11',\n",
       " '.KSE',\n",
       " '.MXX',\n",
       " '.N225',\n",
       " '.NSEI',\n",
       " '.OMXC20',\n",
       " '.OMXHPI',\n",
       " '.OMXSPI',\n",
       " '.OSEAX',\n",
       " '.RUT',\n",
       " '.SMSI',\n",
       " '.SPX',\n",
       " '.SSEC',\n",
       " '.SSMI',\n",
       " '.STI',\n",
       " '.STOXX50E']"
      ]
     },
     "execution_count": 12,
     "metadata": {},
     "output_type": "execute_result"
    }
   ],
   "source": [
    "list(df_rk.Symbol.unique())"
   ]
  },
  {
   "cell_type": "code",
   "execution_count": 13,
   "metadata": {},
   "outputs": [
    {
     "ename": "NameError",
     "evalue": "name 'result' is not defined",
     "output_type": "error",
     "traceback": [
      "\u001b[0;31m---------------------------------------------------------------------------\u001b[0m",
      "\u001b[0;31mNameError\u001b[0m                                 Traceback (most recent call last)",
      "\u001b[0;32m<ipython-input-13-7add669eef81>\u001b[0m in \u001b[0;36m<module>\u001b[0;34m()\u001b[0m\n\u001b[1;32m      1\u001b[0m \u001b[0mplt\u001b[0m\u001b[0;34m.\u001b[0m\u001b[0mfigure\u001b[0m\u001b[0;34m(\u001b[0m\u001b[0mfigsize\u001b[0m\u001b[0;34m=\u001b[0m\u001b[0;34m(\u001b[0m\u001b[0;36m10\u001b[0m\u001b[0;34m,\u001b[0m\u001b[0;36m10\u001b[0m\u001b[0;34m)\u001b[0m\u001b[0;34m)\u001b[0m\u001b[0;34m;\u001b[0m\u001b[0;34m\u001b[0m\u001b[0;34m\u001b[0m\u001b[0m\n\u001b[0;32m----> 2\u001b[0;31m \u001b[0mresult\u001b[0m\u001b[0;34m.\u001b[0m\u001b[0mplot\u001b[0m\u001b[0;34m.\u001b[0m\u001b[0mbar\u001b[0m\u001b[0;34m(\u001b[0m\u001b[0;34m)\u001b[0m\u001b[0;34m;\u001b[0m\u001b[0;34m\u001b[0m\u001b[0;34m\u001b[0m\u001b[0m\n\u001b[0m",
      "\u001b[0;31mNameError\u001b[0m: name 'result' is not defined"
     ]
    },
    {
     "data": {
      "text/plain": [
       "<Figure size 720x720 with 0 Axes>"
      ]
     },
     "metadata": {},
     "output_type": "display_data"
    }
   ],
   "source": [
    "plt.figure(figsize=(10,10));\n",
    "result.plot.bar();"
   ]
  },
  {
   "cell_type": "code",
   "execution_count": null,
   "metadata": {},
   "outputs": [],
   "source": [
    "hmodel.summary(df_rk.query(\"Symbol=='.AEX'\")['rk_th2'].values)"
   ]
  },
  {
   "cell_type": "code",
   "execution_count": null,
   "metadata": {},
   "outputs": [],
   "source": [
    "from sklearn.linear_model import LinearRegression\n",
    "import statsmodels.api as sm\n",
    "class HarModelModified:\n",
    "    def __init__(self, time_period=(1,5,22)):\n",
    "        self.time_period=time_period\n",
    "    def fit(self, data: np.ndarray):\n",
    "        assert len(data) > max(self.time_period), \"the length of the data should be longer than the longest time period\"\n",
    "        input_data = np.array([[np.sqrt(np.mean(data[ele-t:ele]**2)) for t in self.time_period] for ele in range(max(self.time_period),len(data))])\n",
    "        input_data=sm.add_constant(input_data)\n",
    "        output_data = data[max(self.time_period):]\n",
    "        self.model = LinearRegression()\n",
    "        self.model.fit(input_data,output_data)\n",
    "    def predict(self, data):\n",
    "        assert len(data) >= max(self.time_period)\n",
    "        input_data = np.array([[np.sqrt(np.mean(data[ele-t:ele]**2)) for t in self.time_period] for ele in range(max(self.time_period),len(data)+1)])\n",
    "        input_data=sm.add_constant(input_data)\n",
    "        return self.model.predict(input_data)\n",
    "    def summary(self, data):\n",
    "        assert len(data) > max(self.time_period), \"the length of the data should be longer than the longest time period\"\n",
    "        input_data = np.array([[np.sqrt(np.mean(data[ele-t:ele]**2)) for t in self.time_period] for ele in range(max(self.time_period),len(data))])\n",
    "        input_data=sm.add_constant(input_data)\n",
    "        output_data = data[max(self.time_period):]\n",
    "        model=sm.OLS(output_data, input_data).fit()\n",
    "        print(model.summary())"
   ]
  },
  {
   "cell_type": "code",
   "execution_count": null,
   "metadata": {},
   "outputs": [],
   "source": [
    "# Jan 1st 2018 ~ : test data set\n",
    "result = []\n",
    "names=[]\n",
    "for name in tqdm(sorted(df_rk.Symbol.unique())):\n",
    "    all_data = df_rk.query(\"Symbol==@name\")['rk_th2'].values\n",
    "    if len(all_data)<4900:\n",
    "        continue\n",
    "    train_data = all_data[:4543]\n",
    "    test_data = all_data[4521:-1]\n",
    "    true_value = all_data[4543:]\n",
    "    hmodel=HarModelModified()\n",
    "    hmodel.fit(train_data)\n",
    "    result.append([np.std(true_value), np.sqrt(np.mean((true_value-hmodel.predict(test_data))**2))])\n",
    "    names.append(name)\n",
    "result=pd.DataFrame(result, index=names, columns=[\"std\",'error'])"
   ]
  },
  {
   "cell_type": "code",
   "execution_count": null,
   "metadata": {},
   "outputs": [],
   "source": [
    "plt.figure(figsize=(`10,10));\n",
    "result.plot.bar();"
   ]
  },
  {
   "cell_type": "code",
   "execution_count": null,
   "metadata": {},
   "outputs": [],
   "source": [
    "hmodel.summary(df_rk.query(\"Symbol=='.AEX'\")['rk_th2'].values)"
   ]
  },
  {
   "cell_type": "code",
   "execution_count": null,
   "metadata": {},
   "outputs": [],
   "source": [
    "df_test=df[['open_to_close','rv5_ss','close_time','open_price','open_time']]"
   ]
  },
  {
   "cell_type": "code",
   "execution_count": null,
   "metadata": {},
   "outputs": [],
   "source": [
    "import scipy.cluster.hierarchy as sch\n",
    "import numpy as np\n",
    "import pandas as pd\n",
    "cov,corr=df_test.cov(),df_test.corr()\n",
    "dist=((1-corr)/2)**.5\n",
    "link=sch.linkage(dist,'single')"
   ]
  },
  {
   "cell_type": "code",
   "execution_count": null,
   "metadata": {},
   "outputs": [],
   "source": [
    "dist"
   ]
  }
 ],
 "metadata": {
  "kernelspec": {
   "display_name": "Python 3",
   "language": "python",
   "name": "python3"
  },
  "language_info": {
   "codemirror_mode": {
    "name": "ipython",
    "version": 3
   },
   "file_extension": ".py",
   "mimetype": "text/x-python",
   "name": "python",
   "nbconvert_exporter": "python",
   "pygments_lexer": "ipython3",
   "version": "3.6.7"
  },
  "toc": {
   "base_numbering": 1,
   "nav_menu": {},
   "number_sections": true,
   "sideBar": true,
   "skip_h1_title": false,
   "title_cell": "Table of Contents",
   "title_sidebar": "Contents",
   "toc_cell": false,
   "toc_position": {},
   "toc_section_display": true,
   "toc_window_display": false
  }
 },
 "nbformat": 4,
 "nbformat_minor": 2
}
