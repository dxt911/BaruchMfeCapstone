{
 "cells": [
  {
   "cell_type": "code",
   "execution_count": 1,
   "metadata": {},
   "outputs": [],
   "source": [
    "from IPython.core.display import display, HTML\n",
    "display(HTML(\"<style>.container { width:100% !important; }</style>\"))"
   ]
  },
  {
   "cell_type": "code",
   "execution_count": 2,
   "metadata": {},
   "outputs": [],
   "source": [
    "from utils.neural_net import NeuralNetVol, ResNeuralNetVol, ResNeuralNetVolSd\n",
    "import pandas as pd\n",
    "import numpy as np\n",
    "import matplotlib.pyplot as plt\n",
    "from tqdm import tqdm_notebook as tqdm\n",
    "from utils.rough_vol import RoughVol"
   ]
  },
  {
   "cell_type": "code",
   "execution_count": 3,
   "metadata": {},
   "outputs": [],
   "source": [
    "data = pd.read_csv('oxfordmanrealizedvolatilityindices.csv')"
   ]
  },
  {
   "cell_type": "code",
   "execution_count": 4,
   "metadata": {},
   "outputs": [
    {
     "data": {
      "text/html": [
       "<div>\n",
       "<style scoped>\n",
       "    .dataframe tbody tr th:only-of-type {\n",
       "        vertical-align: middle;\n",
       "    }\n",
       "\n",
       "    .dataframe tbody tr th {\n",
       "        vertical-align: top;\n",
       "    }\n",
       "\n",
       "    .dataframe thead th {\n",
       "        text-align: right;\n",
       "    }\n",
       "</style>\n",
       "<table border=\"1\" class=\"dataframe\">\n",
       "  <thead>\n",
       "    <tr style=\"text-align: right;\">\n",
       "      <th></th>\n",
       "      <th>Unnamed: 0</th>\n",
       "      <th>Symbol</th>\n",
       "      <th>open_price</th>\n",
       "      <th>rk_twoscale</th>\n",
       "      <th>close_price</th>\n",
       "      <th>open_to_close</th>\n",
       "      <th>rv10_ss</th>\n",
       "      <th>rk_parzen</th>\n",
       "      <th>medrv</th>\n",
       "      <th>open_time</th>\n",
       "      <th>rv5</th>\n",
       "      <th>nobs</th>\n",
       "      <th>rv5_ss</th>\n",
       "      <th>rsv</th>\n",
       "      <th>rv10</th>\n",
       "      <th>bv</th>\n",
       "      <th>rk_th2</th>\n",
       "      <th>close_time</th>\n",
       "      <th>bv_ss</th>\n",
       "      <th>rsv_ss</th>\n",
       "    </tr>\n",
       "  </thead>\n",
       "  <tbody>\n",
       "    <tr>\n",
       "      <th>0</th>\n",
       "      <td>2000-01-03 00:00:00+00:00</td>\n",
       "      <td>.AEX</td>\n",
       "      <td>675.67</td>\n",
       "      <td>0.000103</td>\n",
       "      <td>675.44</td>\n",
       "      <td>-0.000340</td>\n",
       "      <td>0.000178</td>\n",
       "      <td>0.000179</td>\n",
       "      <td>0.000050</td>\n",
       "      <td>90101.0</td>\n",
       "      <td>0.000130</td>\n",
       "      <td>1795.0</td>\n",
       "      <td>0.000130</td>\n",
       "      <td>0.000046</td>\n",
       "      <td>0.000178</td>\n",
       "      <td>0.000100</td>\n",
       "      <td>0.000102</td>\n",
       "      <td>163015.0</td>\n",
       "      <td>0.000100</td>\n",
       "      <td>0.000046</td>\n",
       "    </tr>\n",
       "    <tr>\n",
       "      <th>1</th>\n",
       "      <td>2000-01-04 00:00:00+00:00</td>\n",
       "      <td>.AEX</td>\n",
       "      <td>664.20</td>\n",
       "      <td>0.000199</td>\n",
       "      <td>642.25</td>\n",
       "      <td>-0.033606</td>\n",
       "      <td>0.000261</td>\n",
       "      <td>0.000423</td>\n",
       "      <td>0.000075</td>\n",
       "      <td>90416.0</td>\n",
       "      <td>0.000201</td>\n",
       "      <td>1785.0</td>\n",
       "      <td>0.000201</td>\n",
       "      <td>0.000147</td>\n",
       "      <td>0.000261</td>\n",
       "      <td>0.000207</td>\n",
       "      <td>0.000201</td>\n",
       "      <td>163016.0</td>\n",
       "      <td>0.000207</td>\n",
       "      <td>0.000147</td>\n",
       "    </tr>\n",
       "    <tr>\n",
       "      <th>2</th>\n",
       "      <td>2000-01-05 00:00:00+00:00</td>\n",
       "      <td>.AEX</td>\n",
       "      <td>633.37</td>\n",
       "      <td>0.000325</td>\n",
       "      <td>632.31</td>\n",
       "      <td>-0.001675</td>\n",
       "      <td>0.000714</td>\n",
       "      <td>0.000324</td>\n",
       "      <td>0.000166</td>\n",
       "      <td>90016.0</td>\n",
       "      <td>0.000491</td>\n",
       "      <td>1801.0</td>\n",
       "      <td>0.000491</td>\n",
       "      <td>0.000328</td>\n",
       "      <td>0.000714</td>\n",
       "      <td>0.000361</td>\n",
       "      <td>0.000345</td>\n",
       "      <td>163016.0</td>\n",
       "      <td>0.000361</td>\n",
       "      <td>0.000328</td>\n",
       "    </tr>\n",
       "    <tr>\n",
       "      <th>3</th>\n",
       "      <td>2000-01-06 00:00:00+00:00</td>\n",
       "      <td>.AEX</td>\n",
       "      <td>632.46</td>\n",
       "      <td>0.000218</td>\n",
       "      <td>624.21</td>\n",
       "      <td>-0.013130</td>\n",
       "      <td>0.000182</td>\n",
       "      <td>0.000219</td>\n",
       "      <td>0.000152</td>\n",
       "      <td>90016.0</td>\n",
       "      <td>0.000225</td>\n",
       "      <td>1799.0</td>\n",
       "      <td>0.000225</td>\n",
       "      <td>0.000116</td>\n",
       "      <td>0.000182</td>\n",
       "      <td>0.000258</td>\n",
       "      <td>0.000221</td>\n",
       "      <td>163002.0</td>\n",
       "      <td>0.000258</td>\n",
       "      <td>0.000116</td>\n",
       "    </tr>\n",
       "    <tr>\n",
       "      <th>4</th>\n",
       "      <td>2000-01-07 00:00:00+00:00</td>\n",
       "      <td>.AEX</td>\n",
       "      <td>628.93</td>\n",
       "      <td>0.000126</td>\n",
       "      <td>644.86</td>\n",
       "      <td>0.025013</td>\n",
       "      <td>0.000157</td>\n",
       "      <td>0.000155</td>\n",
       "      <td>0.000039</td>\n",
       "      <td>90046.0</td>\n",
       "      <td>0.000138</td>\n",
       "      <td>1798.0</td>\n",
       "      <td>0.000138</td>\n",
       "      <td>0.000048</td>\n",
       "      <td>0.000157</td>\n",
       "      <td>0.000130</td>\n",
       "      <td>0.000123</td>\n",
       "      <td>163016.0</td>\n",
       "      <td>0.000130</td>\n",
       "      <td>0.000048</td>\n",
       "    </tr>\n",
       "  </tbody>\n",
       "</table>\n",
       "</div>"
      ],
      "text/plain": [
       "                  Unnamed: 0 Symbol  open_price  rk_twoscale  close_price  \\\n",
       "0  2000-01-03 00:00:00+00:00   .AEX      675.67     0.000103       675.44   \n",
       "1  2000-01-04 00:00:00+00:00   .AEX      664.20     0.000199       642.25   \n",
       "2  2000-01-05 00:00:00+00:00   .AEX      633.37     0.000325       632.31   \n",
       "3  2000-01-06 00:00:00+00:00   .AEX      632.46     0.000218       624.21   \n",
       "4  2000-01-07 00:00:00+00:00   .AEX      628.93     0.000126       644.86   \n",
       "\n",
       "   open_to_close   rv10_ss  rk_parzen     medrv  open_time       rv5    nobs  \\\n",
       "0      -0.000340  0.000178   0.000179  0.000050    90101.0  0.000130  1795.0   \n",
       "1      -0.033606  0.000261   0.000423  0.000075    90416.0  0.000201  1785.0   \n",
       "2      -0.001675  0.000714   0.000324  0.000166    90016.0  0.000491  1801.0   \n",
       "3      -0.013130  0.000182   0.000219  0.000152    90016.0  0.000225  1799.0   \n",
       "4       0.025013  0.000157   0.000155  0.000039    90046.0  0.000138  1798.0   \n",
       "\n",
       "     rv5_ss       rsv      rv10        bv    rk_th2  close_time     bv_ss  \\\n",
       "0  0.000130  0.000046  0.000178  0.000100  0.000102    163015.0  0.000100   \n",
       "1  0.000201  0.000147  0.000261  0.000207  0.000201    163016.0  0.000207   \n",
       "2  0.000491  0.000328  0.000714  0.000361  0.000345    163016.0  0.000361   \n",
       "3  0.000225  0.000116  0.000182  0.000258  0.000221    163002.0  0.000258   \n",
       "4  0.000138  0.000048  0.000157  0.000130  0.000123    163016.0  0.000130   \n",
       "\n",
       "     rsv_ss  \n",
       "0  0.000046  \n",
       "1  0.000147  \n",
       "2  0.000328  \n",
       "3  0.000116  \n",
       "4  0.000048  "
      ]
     },
     "execution_count": 4,
     "metadata": {},
     "output_type": "execute_result"
    }
   ],
   "source": [
    "data.head()"
   ]
  },
  {
   "cell_type": "code",
   "execution_count": 5,
   "metadata": {},
   "outputs": [
    {
     "data": {
      "text/plain": [
       "array(['.AEX', '.AORD', '.BFX', '.BSESN', '.BVLG', '.BVSP', '.DJI',\n",
       "       '.FCHI', '.FTMIB', '.FTSE', '.GDAXI', '.GSPTSE', '.HSI', '.IBEX',\n",
       "       '.IXIC', '.KS11', '.KSE', '.MXX', '.N225', '.NSEI', '.OMXC20',\n",
       "       '.OMXHPI', '.OMXSPI', '.OSEAX', '.RUT', '.SMSI', '.SPX', '.SSEC',\n",
       "       '.SSMI', '.STI', '.STOXX50E'], dtype=object)"
      ]
     },
     "execution_count": 5,
     "metadata": {},
     "output_type": "execute_result"
    }
   ],
   "source": [
    "data.Symbol.unique()"
   ]
  },
  {
   "cell_type": "code",
   "execution_count": 6,
   "metadata": {},
   "outputs": [],
   "source": [
    "spx_rkth2 = np.sqrt(data.query('Symbol==\".SPX\"').rk_th2.values)"
   ]
  },
  {
   "cell_type": "code",
   "execution_count": 7,
   "metadata": {},
   "outputs": [],
   "source": [
    "nnet_model = ResNeuralNetVolSd(hiddenlayer=[])\n",
    "roughvol_model = RoughVol(fit_period=200)"
   ]
  },
  {
   "cell_type": "code",
   "execution_count": 8,
   "metadata": {},
   "outputs": [
    {
     "data": {
      "text/plain": [
       "4963"
      ]
     },
     "execution_count": 8,
     "metadata": {},
     "output_type": "execute_result"
    }
   ],
   "source": [
    "spx_rkth2.__len__()"
   ]
  },
  {
   "cell_type": "code",
   "execution_count": 9,
   "metadata": {},
   "outputs": [
    {
     "data": {
      "application/vnd.jupyter.widget-view+json": {
       "model_id": "036354a76b0a4f67a79d4b726d485299",
       "version_major": 2,
       "version_minor": 0
      },
      "text/plain": [
       "HBox(children=(IntProgress(value=0, max=30000), HTML(value='')))"
      ]
     },
     "metadata": {},
     "output_type": "display_data"
    },
    {
     "name": "stdout",
     "output_type": "stream",
     "text": [
      "\n"
     ]
    },
    {
     "data": {
      "image/png": "[encoded data removed]",
      "text/plain": [
       "<Figure size 576x576 with 1 Axes>"
      ]
     },
     "metadata": {},
     "output_type": "display_data"
    },
    {
     "data": {
      "text/plain": [
       "91.4631576538086"
      ]
     },
     "execution_count": 9,
     "metadata": {},
     "output_type": "execute_result"
    }
   ],
   "source": [
    "nnet_model.fit(spx_rkth2[:3000], draw_loss=True,steps=30000, lrs=[1e-3])"
   ]
  },
  {
   "cell_type": "code",
   "execution_count": 10,
   "metadata": {},
   "outputs": [
    {
     "data": {
      "text/plain": [
       "0.14648771963095852"
      ]
     },
     "execution_count": 10,
     "metadata": {},
     "output_type": "execute_result"
    }
   ],
   "source": [
    "roughvol_model.fit(spx_rkth2[:3000])"
   ]
  },
  {
   "cell_type": "code",
   "execution_count": 11,
   "metadata": {},
   "outputs": [
    {
     "data": {
      "text/plain": [
       "array([[0.00631387, 0.00578854, 0.00549044, ..., 0.00689951, 0.00652272,\n",
       "        0.00633259],\n",
       "       [0.00536663, 0.00512437, 0.00483128, ..., 0.00652546, 0.00637851,\n",
       "        0.00564936],\n",
       "       [0.00499475, 0.00466533, 0.00535818, ..., 0.00650369, 0.00553963,\n",
       "        0.00641848],\n",
       "       ...,\n",
       "       [0.00574583, 0.00608136, 0.00507444, ..., 0.00634196, 0.00621346,\n",
       "        0.00683889],\n",
       "       [0.00706024, 0.00580979, 0.0056346 , ..., 0.006515  , 0.00717839,\n",
       "        0.00708609],\n",
       "       [0.00644034, 0.00621971, 0.00693902, ..., 0.00720561, 0.00720893,\n",
       "        0.00706423]])"
      ]
     },
     "execution_count": 11,
     "metadata": {},
     "output_type": "execute_result"
    }
   ],
   "source": [
    "nnet_model.predict(spx_rkth2[3000:4000])"
   ]
  },
  {
   "cell_type": "code",
   "execution_count": 12,
   "metadata": {},
   "outputs": [
    {
     "data": {
      "application/vnd.jupyter.widget-view+json": {
       "model_id": "b572a32d134f456791fb5ac27786b597",
       "version_major": 2,
       "version_minor": 0
      },
      "text/plain": [
       "HBox(children=(IntProgress(value=0), HTML(value='')))"
      ]
     },
     "metadata": {},
     "output_type": "display_data"
    },
    {
     "name": "stdout",
     "output_type": "stream",
     "text": [
      "\n"
     ]
    }
   ],
   "source": [
    "result=[]\n",
    "for i in tqdm(range(100)):\n",
    "    forward = i+1\n",
    "    roughvol_model.forward = forward\n",
    "    result.append(roughvol_model.predict(spx_rkth2[3000:4000]))\n",
    "roughvol_result = np.array(result).T"
   ]
  },
  {
   "cell_type": "code",
   "execution_count": 13,
   "metadata": {},
   "outputs": [],
   "source": [
    "nnet_result=nnet_model.predict(spx_rkth2[3000:4000])"
   ]
  },
  {
   "cell_type": "code",
   "execution_count": 14,
   "metadata": {},
   "outputs": [
    {
     "data": {
      "text/plain": [
       "array([0.0053282 , 0.00513356, 0.00485005, 0.00566834, 0.00560973,\n",
       "       0.00632064, 0.00565387, 0.00528217, 0.0048007 , 0.00374618,\n",
       "       0.00573374, 0.00626552, 0.00677534, 0.00958057, 0.00708306,\n",
       "       0.00813837, 0.00699442, 0.00617632, 0.00495881, 0.00650566,\n",
       "       0.00526325, 0.00560806, 0.01159031, 0.00825946, 0.00935597,\n",
       "       0.00413285, 0.0084527 , 0.00812782, 0.00831681, 0.0097478 ,\n",
       "       0.00775802, 0.00675144, 0.00401554, 0.00425217, 0.00576053,\n",
       "       0.00655766, 0.00835383, 0.00771574, 0.00540959, 0.00649905,\n",
       "       0.00614067, 0.00688352, 0.00551706, 0.00599757, 0.0040626 ,\n",
       "       0.00491123, 0.00579612, 0.00513453, 0.00477475, 0.00494356,\n",
       "       0.0047361 , 0.00455281, 0.00511961, 0.00842341, 0.00327267,\n",
       "       0.00473936, 0.00869313, 0.00786656, 0.00978317, 0.01113698,\n",
       "       0.00507933, 0.00441334, 0.00457665, 0.00455024, 0.00440937,\n",
       "       0.0052749 , 0.00327821, 0.00363029, 0.00449387, 0.00343324,\n",
       "       0.00395321, 0.00356648, 0.00336136, 0.002924  , 0.00441244,\n",
       "       0.00473627, 0.00352692, 0.00380508, 0.00429816, 0.0046683 ,\n",
       "       0.00550575, 0.00617599, 0.00481175, 0.00446937, 0.0055023 ,\n",
       "       0.00337904, 0.00318204, 0.00276743, 0.00335452, 0.00431626,\n",
       "       0.00382971, 0.00336605, 0.00535999, 0.00609571, 0.0054339 ,\n",
       "       0.00777575, 0.00790145, 0.00536692, 0.00515118, 0.00726855,\n",
       "       0.00530685, 0.00580004, 0.0046264 , 0.00370236, 0.00461823,\n",
       "       0.00279604, 0.00408331, 0.00373091, 0.00296632, 0.00344542,\n",
       "       0.00816679, 0.0074763 , 0.00611177, 0.00623448, 0.00484194,\n",
       "       0.00658358, 0.00498176, 0.00581819, 0.00347877, 0.00468557,\n",
       "       0.0041813 , 0.00540235, 0.00545135, 0.00934018, 0.00435784,\n",
       "       0.00467593, 0.00464992, 0.00411883, 0.0050949 , 0.00878072,\n",
       "       0.00696543, 0.00919955, 0.0080825 , 0.00589662, 0.00606781,\n",
       "       0.00995831, 0.00454702, 0.00432741, 0.00467525, 0.00420514,\n",
       "       0.00436955, 0.00588058, 0.00396836, 0.00578637, 0.00262522,\n",
       "       0.00340594, 0.00292568, 0.00477009, 0.00472945, 0.00377181,\n",
       "       0.00354243, 0.00464143, 0.00475365, 0.004356  , 0.00406198,\n",
       "       0.00494378, 0.00952456, 0.00917063, 0.0060738 , 0.00800282,\n",
       "       0.00769032, 0.00499652, 0.00667512, 0.00887879, 0.00753433,\n",
       "       0.00864944, 0.00880885, 0.00669682, 0.00598215, 0.00842124,\n",
       "       0.00846609, 0.00587188, 0.00655004, 0.0073732 , 0.00462559,\n",
       "       0.00965269, 0.01037183, 0.01083843, 0.01173776, 0.00911086,\n",
       "       0.00701338, 0.00581608, 0.00633842, 0.00632392, 0.00603583,\n",
       "       0.00560565, 0.00744905, 0.00577131, 0.00475567, 0.00582951,\n",
       "       0.00590631, 0.00339596, 0.00271122, 0.00350685, 0.00436421,\n",
       "       0.00340937, 0.00349137, 0.00292521, 0.00295275, 0.00458719,\n",
       "       0.0045553 , 0.00472452, 0.00398482, 0.00435524, 0.00622698,\n",
       "       0.00541283, 0.00334082, 0.00281063, 0.0035202 , 0.00426841,\n",
       "       0.00417211, 0.00462177, 0.00434115, 0.00421898, 0.00504404,\n",
       "       0.00681952, 0.00482755, 0.00475845, 0.00403101, 0.00707814,\n",
       "       0.00361883, 0.00435981, 0.00443838, 0.00722444, 0.00484565,\n",
       "       0.00461236, 0.00631854, 0.00792311, 0.00447066, 0.00366617,\n",
       "       0.00743215, 0.0042979 , 0.00403579, 0.00334401, 0.00336753,\n",
       "       0.00314337, 0.0061351 , 0.00248386, 0.00976107, 0.00364599,\n",
       "       0.00429259, 0.00408279, 0.00423164, 0.00617188, 0.00484701,\n",
       "       0.00475318, 0.00742937, 0.00512753, 0.00551342, 0.00705657,\n",
       "       0.00437698, 0.00698599, 0.00664736, 0.00742296, 0.0066935 ,\n",
       "       0.00415818, 0.00580641, 0.00738432, 0.00554806, 0.00419315,\n",
       "       0.00348617, 0.00322617, 0.00489526, 0.00534047, 0.00403275,\n",
       "       0.00372409, 0.00317566, 0.0035954 , 0.00658147, 0.00506391,\n",
       "       0.00494006, 0.00359731, 0.00431572, 0.00398443, 0.00641955,\n",
       "       0.00528628, 0.00295706, 0.00460199, 0.00388393, 0.0040143 ,\n",
       "       0.00274532, 0.00413975, 0.00532575, 0.00614975, 0.00377671,\n",
       "       0.00279784, 0.00289642, 0.00301359, 0.00253413, 0.00280526,\n",
       "       0.00383153, 0.00466871, 0.00654953, 0.00522853, 0.00594707,\n",
       "       0.00312704, 0.00374476, 0.00486931, 0.00486662, 0.00441807,\n",
       "       0.00501844, 0.00397079, 0.01109959, 0.00411988, 0.00321481,\n",
       "       0.00308811, 0.00167249, 0.00241209, 0.00226815, 0.00203448,\n",
       "       0.00279597, 0.00494242, 0.00336201, 0.00530123, 0.00360125,\n",
       "       0.00503304, 0.00434802, 0.00460083, 0.00506157, 0.00471112,\n",
       "       0.00375445, 0.0035285 , 0.00348165, 0.00507973, 0.00334364,\n",
       "       0.00627416, 0.00751974, 0.00797565, 0.00544164, 0.01056179,\n",
       "       0.00577874, 0.0088854 , 0.00888726, 0.00759196, 0.00820402,\n",
       "       0.00486335, 0.00594316, 0.00387912, 0.00385218, 0.00419471,\n",
       "       0.00460189, 0.00379934, 0.00374146, 0.00586356, 0.00498106,\n",
       "       0.00403153, 0.00433149, 0.00544026, 0.00551837, 0.0049801 ,\n",
       "       0.00587833, 0.00860816, 0.00697462, 0.00436562, 0.00334137,\n",
       "       0.00593181, 0.00484775, 0.00492361, 0.00559195, 0.00638743,\n",
       "       0.00650446, 0.0055574 , 0.00419127, 0.00721492, 0.00470176,\n",
       "       0.00590761, 0.00652311, 0.00674968, 0.00704251, 0.00731683,\n",
       "       0.00528085, 0.00555958, 0.00399682, 0.00358843, 0.00388399,\n",
       "       0.00729453, 0.00646593, 0.00630086, 0.00514556, 0.0073207 ,\n",
       "       0.00844743, 0.00708662, 0.00921414, 0.0068273 , 0.00448074,\n",
       "       0.00384284, 0.00307846, 0.00369669, 0.00517853, 0.00517905,\n",
       "       0.00715258, 0.00504853, 0.00511459, 0.00478809, 0.00546142,\n",
       "       0.00515016, 0.00466186, 0.0070136 , 0.00549816, 0.00528332,\n",
       "       0.00405706, 0.00333374, 0.00370563, 0.00619435, 0.00479539,\n",
       "       0.0039904 , 0.00466817, 0.00448322, 0.00325098, 0.00207585,\n",
       "       0.00304388, 0.00314674, 0.00296095, 0.0027456 , 0.00332121,\n",
       "       0.00315402, 0.0027538 , 0.00378537, 0.00231493, 0.00280419,\n",
       "       0.00268321, 0.00362731, 0.00389495, 0.0036841 , 0.00375615,\n",
       "       0.00355918, 0.00444675, 0.0029802 , 0.00225076, 0.00278869,\n",
       "       0.00386423, 0.00376596, 0.00425886, 0.00317926, 0.00292466,\n",
       "       0.00333627, 0.00244687, 0.00247101, 0.00314714, 0.00423972,\n",
       "       0.00397171, 0.00547537, 0.00341086, 0.00323127, 0.00484596,\n",
       "       0.00367951, 0.00552543, 0.00338063, 0.00374663, 0.0030854 ,\n",
       "       0.00276452, 0.00271373, 0.00334259, 0.00377164, 0.00433395,\n",
       "       0.00626709, 0.00691466, 0.00724938, 0.00490645, 0.00795006,\n",
       "       0.00575448, 0.00660904, 0.00534658, 0.00383038, 0.00476095,\n",
       "       0.00411467, 0.00258541, 0.00681021, 0.00324561, 0.00224237,\n",
       "       0.0032124 , 0.00237914, 0.00398173, 0.00313168, 0.00229303,\n",
       "       0.00235042, 0.00292743, 0.00269566, 0.00330724, 0.00331776,\n",
       "       0.00379678, 0.00429909, 0.0034489 , 0.00476918, 0.00448744,\n",
       "       0.00438918, 0.00454507, 0.00412034, 0.00391064, 0.00594709,\n",
       "       0.00332077, 0.00403225, 0.00418292, 0.00480233, 0.0039852 ,\n",
       "       0.00653025, 0.00542569, 0.00707845, 0.00613559, 0.00668753,\n",
       "       0.00694911, 0.00599917, 0.00620257, 0.00754447, 0.00812605,\n",
       "       0.01048692, 0.01057796, 0.01101718, 0.01091163, 0.01873107,\n",
       "       0.01792676, 0.00988742, 0.00682638, 0.00542791, 0.00695941,\n",
       "       0.00773419, 0.00635619, 0.00647374, 0.0044701 , 0.00724864,\n",
       "       0.00608617, 0.00551561, 0.00457736, 0.005232  , 0.00514156,\n",
       "       0.00447147, 0.0040316 , 0.00284023, 0.00272788, 0.00372441,\n",
       "       0.00459486, 0.00334984, 0.00399801, 0.0026844 , 0.00447247,\n",
       "       0.00348557, 0.00444792, 0.00266394, 0.00317956, 0.00216665,\n",
       "       0.00266115, 0.00512643, 0.0036534 , 0.00285519, 0.0046555 ,\n",
       "       0.003184  , 0.00503024, 0.00704032, 0.00753883, 0.00675279,\n",
       "       0.00823042, 0.01114173, 0.01154979, 0.01196978, 0.00737829,\n",
       "       0.00551315, 0.00397571, 0.00336816, 0.00216591, 0.00225017,\n",
       "       0.00243946, 0.00307131, 0.00508044, 0.00666579, 0.00737989,\n",
       "       0.00894815, 0.00794074, 0.00474238, 0.00715642, 0.00726526,\n",
       "       0.00887112, 0.01003733, 0.0101705 , 0.00787426, 0.00772247,\n",
       "       0.00811927, 0.00790335, 0.00558275, 0.00496127, 0.00808709,\n",
       "       0.00905119, 0.00871618, 0.00942924, 0.00992833, 0.00724107,\n",
       "       0.00701371, 0.00481917, 0.00634664, 0.00564682, 0.00509717,\n",
       "       0.00544469, 0.00387615, 0.00365662, 0.00350079, 0.00376229,\n",
       "       0.0035792 , 0.00524247, 0.00315403, 0.00358197, 0.00302625,\n",
       "       0.00376582, 0.00361006, 0.00284922, 0.00419154, 0.0050137 ,\n",
       "       0.00335368, 0.00611948, 0.00381872, 0.00609356, 0.00476576,\n",
       "       0.00394162, 0.00575005, 0.00448973, 0.00483154, 0.00748326,\n",
       "       0.00462884, 0.00391115, 0.00310281, 0.00429645, 0.00577124,\n",
       "       0.00717884, 0.00534168, 0.00456155, 0.00557886, 0.00678221,\n",
       "       0.0042969 , 0.0047733 , 0.00367589, 0.00579785, 0.00517814,\n",
       "       0.00286403, 0.00333672, 0.00439762, 0.00342269, 0.00381793,\n",
       "       0.00612668, 0.00410738, 0.00460572, 0.00465268, 0.00402996,\n",
       "       0.00368988, 0.00406554, 0.00458975, 0.00666237, 0.00691747,\n",
       "       0.00480374, 0.00342222, 0.00527971, 0.0062553 , 0.00522815,\n",
       "       0.0046737 , 0.00392298, 0.00616567, 0.00466772, 0.00395085,\n",
       "       0.00323632, 0.00244981, 0.003264  , 0.00379752, 0.00278331,\n",
       "       0.00299797, 0.00461403, 0.0037059 , 0.00371672, 0.00464481,\n",
       "       0.00560899, 0.00497254, 0.00466592, 0.00612026, 0.00483742,\n",
       "       0.00438794, 0.00454054, 0.00455163, 0.00382663, 0.00446474,\n",
       "       0.00616647, 0.0037959 , 0.00608607, 0.00439829, 0.00298682,\n",
       "       0.0041513 , 0.00298263, 0.00360216, 0.00400056, 0.00425043,\n",
       "       0.00720223, 0.0073736 , 0.0055117 , 0.0043469 , 0.00590857,\n",
       "       0.00755648, 0.00836905, 0.00763635, 0.00683293, 0.00406442,\n",
       "       0.00251792, 0.00362294, 0.00306654, 0.00264304, 0.00298792,\n",
       "       0.00310923, 0.00466774, 0.00379841, 0.00453278, 0.00559943,\n",
       "       0.00470559, 0.00553585, 0.00432347, 0.00421093, 0.00482436,\n",
       "       0.00482053, 0.00425093, 0.00462525, 0.00544858, 0.00409543,\n",
       "       0.00591336, 0.00682478, 0.00522977, 0.003781  , 0.00403489,\n",
       "       0.00399343, 0.00731349, 0.00798064, 0.01218059, 0.03464162,\n",
       "       0.01762054, 0.01995563, 0.01425343, 0.01004858, 0.0086008 ,\n",
       "       0.01573212, 0.01141331, 0.00933866, 0.0100202 , 0.008274  ,\n",
       "       0.0094348 , 0.01011088, 0.00690775, 0.00576055, 0.00571102,\n",
       "       0.00525431, 0.01206379, 0.00944169, 0.00719744, 0.00846897,\n",
       "       0.0063809 , 0.00880689, 0.00894694, 0.00945388, 0.01033463,\n",
       "       0.00897846, 0.00971238, 0.01068752, 0.00630844, 0.00725111,\n",
       "       0.00803515, 0.00730662, 0.00543934, 0.00414321, 0.00553566,\n",
       "       0.00619624, 0.00555976, 0.00438229, 0.00461195, 0.00468754,\n",
       "       0.00620771, 0.00635256, 0.0064566 , 0.00418864, 0.00466046,\n",
       "       0.00718356, 0.00457852, 0.00509159, 0.0036649 , 0.00390883,\n",
       "       0.0053136 , 0.00514274, 0.00581837, 0.00580819, 0.00535757,\n",
       "       0.00442274, 0.00617675, 0.00653434, 0.00660797, 0.00657393,\n",
       "       0.00589912, 0.00441383, 0.00373448, 0.00379129, 0.00535479,\n",
       "       0.00313715, 0.00294589, 0.00421557, 0.0046097 , 0.00504914,\n",
       "       0.00749693, 0.00641415, 0.00642912, 0.00813435, 0.00909599])"
      ]
     },
     "execution_count": 14,
     "metadata": {},
     "output_type": "execute_result"
    }
   ],
   "source": [
    "spx_rkth2[3200:4000]"
   ]
  },
  {
   "cell_type": "code",
   "execution_count": 15,
   "metadata": {},
   "outputs": [
    {
     "data": {
      "text/plain": [
       "((801, 100), (801, 100))"
      ]
     },
     "execution_count": 15,
     "metadata": {},
     "output_type": "execute_result"
    }
   ],
   "source": [
    "roughvol_result.shape,  nnet_result.shape"
   ]
  },
  {
   "cell_type": "code",
   "execution_count": 16,
   "metadata": {},
   "outputs": [],
   "source": [
    "true_result = np.array([spx_rkth2[ele:ele+101] for ele in range(3199,4000)])"
   ]
  },
  {
   "cell_type": "code",
   "execution_count": 17,
   "metadata": {},
   "outputs": [
    {
     "data": {
      "text/plain": [
       "(801, 101)"
      ]
     },
     "execution_count": 17,
     "metadata": {},
     "output_type": "execute_result"
    }
   ],
   "source": [
    "true_result.shape"
   ]
  },
  {
   "cell_type": "code",
   "execution_count": 18,
   "metadata": {},
   "outputs": [],
   "source": [
    "unconditional_var = np.mean((np.log(true_result[:,1:])-np.log(true_result[:,0][:,np.newaxis]))**2,axis=0)"
   ]
  },
  {
   "cell_type": "code",
   "execution_count": 19,
   "metadata": {},
   "outputs": [
    {
     "data": {
      "text/plain": [
       "<matplotlib.legend.Legend at 0x1a1cf74320>"
      ]
     },
     "execution_count": 19,
     "metadata": {},
     "output_type": "execute_result"
    },
    {
     "data": {
      "image/png": "[encoded data removed]",
      "text/plain": [
       "<Figure size 720x720 with 1 Axes>"
      ]
     },
     "metadata": {},
     "output_type": "display_data"
    }
   ],
   "source": [
    "plt.figure(figsize=(10,10))\n",
    "plt.scatter(np.arange(1,101),unconditional_var)\n",
    "plt.scatter(np.arange(1,101),np.mean((np.log(true_result[:,1:]) - np.log(roughvol_result))**2,axis=0))\n",
    "plt.scatter(np.arange(1,101),np.mean((np.log(true_result[:,1:]) - np.log(nnet_result))**2,axis=0))\n",
    "plt.legend(['unconditional_var', 'roughvol','nnet'])"
   ]
  },
  {
   "cell_type": "code",
   "execution_count": 20,
   "metadata": {},
   "outputs": [
    {
     "data": {
      "text/plain": [
       "array([0.07496728, 0.0979553 , 0.11661759, 0.13141799, 0.14052059,\n",
       "       0.14764065, 0.15746845, 0.15915918, 0.16316018, 0.16551518,\n",
       "       0.16737953, 0.17178582, 0.17243225, 0.1726361 , 0.17006023,\n",
       "       0.17089772, 0.17239242, 0.17409108, 0.17561224, 0.18008877,\n",
       "       0.18319615, 0.18651926, 0.18921839, 0.18970361, 0.19426814,\n",
       "       0.19750734, 0.19942067, 0.19944903, 0.19882119, 0.19836241,\n",
       "       0.19762474, 0.19626184, 0.1962724 , 0.19435842, 0.19460943,\n",
       "       0.19291879, 0.19236906, 0.19294603, 0.19152323, 0.19182472,\n",
       "       0.19263362, 0.19362135, 0.19533491, 0.19729188, 0.19713028,\n",
       "       0.19653794, 0.19600164, 0.19444741, 0.19503163, 0.19573921,\n",
       "       0.19346226, 0.19138585, 0.1891852 , 0.18802854, 0.18766708,\n",
       "       0.18673195, 0.18708342, 0.18606166, 0.18652672, 0.18665735,\n",
       "       0.18592558, 0.18492212, 0.18336958, 0.18143113, 0.18354076,\n",
       "       0.18353641, 0.18478433, 0.18607909, 0.18473032, 0.18453659,\n",
       "       0.18363023, 0.18287364, 0.18211085, 0.18250202, 0.18346852,\n",
       "       0.18410688, 0.18439961, 0.18580248, 0.1862979 , 0.18718865,\n",
       "       0.18943425, 0.18986668, 0.19061802, 0.19158918, 0.19136294,\n",
       "       0.19208515, 0.19022404, 0.18739766, 0.18638478, 0.18610832,\n",
       "       0.18567065, 0.18424547, 0.18333301, 0.18386582, 0.18200676,\n",
       "       0.1829236 , 0.18268457, 0.18080765, 0.18188299, 0.18122117])"
      ]
     },
     "execution_count": 20,
     "metadata": {},
     "output_type": "execute_result"
    }
   ],
   "source": [
    "np.mean((np.log(true_result[:,1:]) - np.log(roughvol_result))**2,axis=0)"
   ]
  },
  {
   "cell_type": "code",
   "execution_count": 21,
   "metadata": {},
   "outputs": [
    {
     "data": {
      "text/plain": [
       "array([0.07952704, 0.10405807, 0.12347857, 0.13731844, 0.14527755,\n",
       "       0.15103556, 0.1569826 , 0.15770912, 0.1615883 , 0.16264131,\n",
       "       0.1646006 , 0.16767492, 0.16783996, 0.16784816, 0.16547445,\n",
       "       0.16489175, 0.16623301, 0.16832656, 0.17084264, 0.17511359,\n",
       "       0.1771458 , 0.1806665 , 0.18316644, 0.18398422, 0.18805525,\n",
       "       0.19045002, 0.19238051, 0.19384567, 0.19349763, 0.19382116,\n",
       "       0.19313126, 0.19310783, 0.19475553, 0.19380077, 0.19436589,\n",
       "       0.1944115 , 0.19492811, 0.196395  , 0.19741416, 0.19832876,\n",
       "       0.19981738, 0.20155486, 0.20275584, 0.20428548, 0.2031868 ,\n",
       "       0.20204547, 0.20153962, 0.20033013, 0.20037033, 0.20058273,\n",
       "       0.19910651, 0.19796161, 0.19755328, 0.19866834, 0.19931708,\n",
       "       0.1987819 , 0.19995656, 0.20005348, 0.20035993, 0.20148944,\n",
       "       0.20102207, 0.19985672, 0.19993493, 0.19811104, 0.20080664,\n",
       "       0.20072776, 0.2024487 , 0.2047321 , 0.20398674, 0.20358857,\n",
       "       0.20361663, 0.20238532, 0.20298755, 0.20400914, 0.20473295,\n",
       "       0.20686249, 0.2081725 , 0.2103433 , 0.21110715, 0.2113062 ,\n",
       "       0.21377738, 0.21432981, 0.21436592, 0.21582894, 0.21543198,\n",
       "       0.21622368, 0.21587617, 0.21433244, 0.21472027, 0.21427461,\n",
       "       0.21485024, 0.21507558, 0.21482711, 0.21641849, 0.21617502,\n",
       "       0.21702593, 0.21793275, 0.21729421, 0.21929731, 0.22021134])"
      ]
     },
     "execution_count": 21,
     "metadata": {},
     "output_type": "execute_result"
    }
   ],
   "source": [
    "np.mean((np.log(true_result[:,1:]) - np.log(nnet_result))**2,axis=0)"
   ]
  },
  {
   "cell_type": "code",
   "execution_count": null,
   "metadata": {},
   "outputs": [],
   "source": []
  },
  {
   "cell_type": "code",
   "execution_count": null,
   "metadata": {},
   "outputs": [],
   "source": []
  }
 ],
 "metadata": {
  "kernelspec": {
   "display_name": "Python 3",
   "language": "python",
   "name": "python3"
  },
  "language_info": {
   "codemirror_mode": {
    "name": "ipython",
    "version": 3
   },
   "file_extension": ".py",
   "mimetype": "text/x-python",
   "name": "python",
   "nbconvert_exporter": "python",
   "pygments_lexer": "ipython3",
   "version": "3.6.7"
  },
  "toc": {
   "base_numbering": 1,
   "nav_menu": {},
   "number_sections": true,
   "sideBar": true,
   "skip_h1_title": false,
   "title_cell": "Table of Contents",
   "title_sidebar": "Contents",
   "toc_cell": false,
   "toc_position": {},
   "toc_section_display": true,
   "toc_window_display": false
  }
 },
 "nbformat": 4,
 "nbformat_minor": 2
}
