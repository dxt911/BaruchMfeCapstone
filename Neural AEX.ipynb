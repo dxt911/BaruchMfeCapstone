{
 "cells": [
  {
   "cell_type": "code",
   "execution_count": 1,
   "metadata": {},
   "outputs": [
    {
     "data": {
      "text/html": [
       "<style>.container { width:100% !important; }</style>"
      ],
      "text/plain": [
       "<IPython.core.display.HTML object>"
      ]
     },
     "metadata": {},
     "output_type": "display_data"
    }
   ],
   "source": [
    "from IPython.core.display import display, HTML\n",
    "display(HTML(\"<style>.container { width:100% !important; }</style>\"))"
   ]
  },
  {
   "cell_type": "code",
   "execution_count": 2,
   "metadata": {},
   "outputs": [],
   "source": [
    "from utils.neural_net import NeuralNetVol, ResNeuralNetVol, ResNeuralNetVolSd\n",
    "import pandas as pd\n",
    "import numpy as np\n",
    "import matplotlib.pyplot as plt\n",
    "from tqdm import tqdm_notebook as tqdm\n",
    "from utils.rough_vol import RoughVol"
   ]
  },
  {
   "cell_type": "code",
   "execution_count": 3,
   "metadata": {},
   "outputs": [],
   "source": [
    "data = pd.read_csv('oxfordmanrealizedvolatilityindices.csv')"
   ]
  },
  {
   "cell_type": "code",
   "execution_count": 4,
   "metadata": {},
   "outputs": [
    {
     "data": {
      "text/html": [
       "<div>\n",
       "<style scoped>\n",
       "    .dataframe tbody tr th:only-of-type {\n",
       "        vertical-align: middle;\n",
       "    }\n",
       "\n",
       "    .dataframe tbody tr th {\n",
       "        vertical-align: top;\n",
       "    }\n",
       "\n",
       "    .dataframe thead th {\n",
       "        text-align: right;\n",
       "    }\n",
       "</style>\n",
       "<table border=\"1\" class=\"dataframe\">\n",
       "  <thead>\n",
       "    <tr style=\"text-align: right;\">\n",
       "      <th></th>\n",
       "      <th>Unnamed: 0</th>\n",
       "      <th>Symbol</th>\n",
       "      <th>open_price</th>\n",
       "      <th>rk_twoscale</th>\n",
       "      <th>close_price</th>\n",
       "      <th>open_to_close</th>\n",
       "      <th>rv10_ss</th>\n",
       "      <th>rk_parzen</th>\n",
       "      <th>medrv</th>\n",
       "      <th>open_time</th>\n",
       "      <th>rv5</th>\n",
       "      <th>nobs</th>\n",
       "      <th>rv5_ss</th>\n",
       "      <th>rsv</th>\n",
       "      <th>rv10</th>\n",
       "      <th>bv</th>\n",
       "      <th>rk_th2</th>\n",
       "      <th>close_time</th>\n",
       "      <th>bv_ss</th>\n",
       "      <th>rsv_ss</th>\n",
       "    </tr>\n",
       "  </thead>\n",
       "  <tbody>\n",
       "    <tr>\n",
       "      <th>0</th>\n",
       "      <td>2000-01-03 00:00:00+00:00</td>\n",
       "      <td>.AEX</td>\n",
       "      <td>675.67</td>\n",
       "      <td>0.000103</td>\n",
       "      <td>675.44</td>\n",
       "      <td>-0.000340</td>\n",
       "      <td>0.000178</td>\n",
       "      <td>0.000179</td>\n",
       "      <td>0.000050</td>\n",
       "      <td>90101.0</td>\n",
       "      <td>0.000130</td>\n",
       "      <td>1795.0</td>\n",
       "      <td>0.000130</td>\n",
       "      <td>0.000046</td>\n",
       "      <td>0.000178</td>\n",
       "      <td>0.000100</td>\n",
       "      <td>0.000102</td>\n",
       "      <td>163015.0</td>\n",
       "      <td>0.000100</td>\n",
       "      <td>0.000046</td>\n",
       "    </tr>\n",
       "    <tr>\n",
       "      <th>1</th>\n",
       "      <td>2000-01-04 00:00:00+00:00</td>\n",
       "      <td>.AEX</td>\n",
       "      <td>664.20</td>\n",
       "      <td>0.000199</td>\n",
       "      <td>642.25</td>\n",
       "      <td>-0.033606</td>\n",
       "      <td>0.000261</td>\n",
       "      <td>0.000423</td>\n",
       "      <td>0.000075</td>\n",
       "      <td>90416.0</td>\n",
       "      <td>0.000201</td>\n",
       "      <td>1785.0</td>\n",
       "      <td>0.000201</td>\n",
       "      <td>0.000147</td>\n",
       "      <td>0.000261</td>\n",
       "      <td>0.000207</td>\n",
       "      <td>0.000201</td>\n",
       "      <td>163016.0</td>\n",
       "      <td>0.000207</td>\n",
       "      <td>0.000147</td>\n",
       "    </tr>\n",
       "    <tr>\n",
       "      <th>2</th>\n",
       "      <td>2000-01-05 00:00:00+00:00</td>\n",
       "      <td>.AEX</td>\n",
       "      <td>633.37</td>\n",
       "      <td>0.000325</td>\n",
       "      <td>632.31</td>\n",
       "      <td>-0.001675</td>\n",
       "      <td>0.000714</td>\n",
       "      <td>0.000324</td>\n",
       "      <td>0.000166</td>\n",
       "      <td>90016.0</td>\n",
       "      <td>0.000491</td>\n",
       "      <td>1801.0</td>\n",
       "      <td>0.000491</td>\n",
       "      <td>0.000328</td>\n",
       "      <td>0.000714</td>\n",
       "      <td>0.000361</td>\n",
       "      <td>0.000345</td>\n",
       "      <td>163016.0</td>\n",
       "      <td>0.000361</td>\n",
       "      <td>0.000328</td>\n",
       "    </tr>\n",
       "    <tr>\n",
       "      <th>3</th>\n",
       "      <td>2000-01-06 00:00:00+00:00</td>\n",
       "      <td>.AEX</td>\n",
       "      <td>632.46</td>\n",
       "      <td>0.000218</td>\n",
       "      <td>624.21</td>\n",
       "      <td>-0.013130</td>\n",
       "      <td>0.000182</td>\n",
       "      <td>0.000219</td>\n",
       "      <td>0.000152</td>\n",
       "      <td>90016.0</td>\n",
       "      <td>0.000225</td>\n",
       "      <td>1799.0</td>\n",
       "      <td>0.000225</td>\n",
       "      <td>0.000116</td>\n",
       "      <td>0.000182</td>\n",
       "      <td>0.000258</td>\n",
       "      <td>0.000221</td>\n",
       "      <td>163002.0</td>\n",
       "      <td>0.000258</td>\n",
       "      <td>0.000116</td>\n",
       "    </tr>\n",
       "    <tr>\n",
       "      <th>4</th>\n",
       "      <td>2000-01-07 00:00:00+00:00</td>\n",
       "      <td>.AEX</td>\n",
       "      <td>628.93</td>\n",
       "      <td>0.000126</td>\n",
       "      <td>644.86</td>\n",
       "      <td>0.025013</td>\n",
       "      <td>0.000157</td>\n",
       "      <td>0.000155</td>\n",
       "      <td>0.000039</td>\n",
       "      <td>90046.0</td>\n",
       "      <td>0.000138</td>\n",
       "      <td>1798.0</td>\n",
       "      <td>0.000138</td>\n",
       "      <td>0.000048</td>\n",
       "      <td>0.000157</td>\n",
       "      <td>0.000130</td>\n",
       "      <td>0.000123</td>\n",
       "      <td>163016.0</td>\n",
       "      <td>0.000130</td>\n",
       "      <td>0.000048</td>\n",
       "    </tr>\n",
       "  </tbody>\n",
       "</table>\n",
       "</div>"
      ],
      "text/plain": [
       "                  Unnamed: 0 Symbol  open_price  rk_twoscale  close_price  \\\n",
       "0  2000-01-03 00:00:00+00:00   .AEX      675.67     0.000103       675.44   \n",
       "1  2000-01-04 00:00:00+00:00   .AEX      664.20     0.000199       642.25   \n",
       "2  2000-01-05 00:00:00+00:00   .AEX      633.37     0.000325       632.31   \n",
       "3  2000-01-06 00:00:00+00:00   .AEX      632.46     0.000218       624.21   \n",
       "4  2000-01-07 00:00:00+00:00   .AEX      628.93     0.000126       644.86   \n",
       "\n",
       "   open_to_close   rv10_ss  rk_parzen     medrv  open_time       rv5    nobs  \\\n",
       "0      -0.000340  0.000178   0.000179  0.000050    90101.0  0.000130  1795.0   \n",
       "1      -0.033606  0.000261   0.000423  0.000075    90416.0  0.000201  1785.0   \n",
       "2      -0.001675  0.000714   0.000324  0.000166    90016.0  0.000491  1801.0   \n",
       "3      -0.013130  0.000182   0.000219  0.000152    90016.0  0.000225  1799.0   \n",
       "4       0.025013  0.000157   0.000155  0.000039    90046.0  0.000138  1798.0   \n",
       "\n",
       "     rv5_ss       rsv      rv10        bv    rk_th2  close_time     bv_ss  \\\n",
       "0  0.000130  0.000046  0.000178  0.000100  0.000102    163015.0  0.000100   \n",
       "1  0.000201  0.000147  0.000261  0.000207  0.000201    163016.0  0.000207   \n",
       "2  0.000491  0.000328  0.000714  0.000361  0.000345    163016.0  0.000361   \n",
       "3  0.000225  0.000116  0.000182  0.000258  0.000221    163002.0  0.000258   \n",
       "4  0.000138  0.000048  0.000157  0.000130  0.000123    163016.0  0.000130   \n",
       "\n",
       "     rsv_ss  \n",
       "0  0.000046  \n",
       "1  0.000147  \n",
       "2  0.000328  \n",
       "3  0.000116  \n",
       "4  0.000048  "
      ]
     },
     "execution_count": 4,
     "metadata": {},
     "output_type": "execute_result"
    }
   ],
   "source": [
    "data.head()"
   ]
  },
  {
   "cell_type": "code",
   "execution_count": 5,
   "metadata": {},
   "outputs": [],
   "source": [
    "spx_rkth2 = np.sqrt(data.query('Symbol==\".AEX\"').rk_th2.values)"
   ]
  },
  {
   "cell_type": "code",
   "execution_count": 6,
   "metadata": {},
   "outputs": [],
   "source": [
    "nnet_model = ResNeuralNetVol(hiddenlayer=[])\n",
    "roughvol_model = RoughVol(fit_period=200)"
   ]
  },
  {
   "cell_type": "code",
   "execution_count": 7,
   "metadata": {},
   "outputs": [
    {
     "data": {
      "text/plain": [
       "5043"
      ]
     },
     "execution_count": 7,
     "metadata": {},
     "output_type": "execute_result"
    }
   ],
   "source": [
    "spx_rkth2.__len__()"
   ]
  },
  {
   "cell_type": "code",
   "execution_count": 8,
   "metadata": {},
   "outputs": [
    {
     "data": {
      "application/vnd.jupyter.widget-view+json": {
       "model_id": "ccac9a74730448359ed6cfabdf76c291",
       "version_major": 2,
       "version_minor": 0
      },
      "text/plain": [
       "HBox(children=(IntProgress(value=0, max=30000), HTML(value='')))"
      ]
     },
     "metadata": {},
     "output_type": "display_data"
    },
    {
     "name": "stdout",
     "output_type": "stream",
     "text": [
      "\n"
     ]
    },
    {
     "data": {
      "image/png": "[encoded data removed]",
      "text/plain": [
       "<Figure size 576x576 with 1 Axes>"
      ]
     },
     "metadata": {},
     "output_type": "display_data"
    },
    {
     "data": {
      "text/plain": [
       "59.26588439941406"
      ]
     },
     "execution_count": 8,
     "metadata": {},
     "output_type": "execute_result"
    }
   ],
   "source": [
    "nnet_model.fit(spx_rkth2[:3000], draw_loss=True,steps=30000, lrs=[1e-3])"
   ]
  },
  {
   "cell_type": "code",
   "execution_count": 9,
   "metadata": {},
   "outputs": [
    {
     "data": {
      "text/plain": [
       "0.14858075132789958"
      ]
     },
     "execution_count": 9,
     "metadata": {},
     "output_type": "execute_result"
    }
   ],
   "source": [
    "roughvol_model.fit(spx_rkth2[:3000])"
   ]
  },
  {
   "cell_type": "code",
   "execution_count": 10,
   "metadata": {},
   "outputs": [
    {
     "data": {
      "text/plain": [
       "array([[0.00801687, 0.00840963, 0.00849147, ..., 0.0084882 , 0.00807182,\n",
       "        0.00816989],\n",
       "       [0.00852927, 0.0086413 , 0.00799833, ..., 0.00806102, 0.00815238,\n",
       "        0.00750617],\n",
       "       [0.00926344, 0.00844723, 0.00804905, ..., 0.0082732 , 0.00762948,\n",
       "        0.00734708],\n",
       "       ...,\n",
       "       [0.01216535, 0.01156159, 0.01067224, ..., 0.00938923, 0.01134115,\n",
       "        0.00956952],\n",
       "       [0.01049698, 0.00981747, 0.01075885, ..., 0.01118135, 0.00943256,\n",
       "        0.00890612],\n",
       "       [0.01082487, 0.01167274, 0.0122048 , ..., 0.00962832, 0.00908784,\n",
       "        0.01109412]])"
      ]
     },
     "execution_count": 10,
     "metadata": {},
     "output_type": "execute_result"
    }
   ],
   "source": [
    "nnet_model.predict(spx_rkth2[3000:4000])"
   ]
  },
  {
   "cell_type": "code",
   "execution_count": 11,
   "metadata": {},
   "outputs": [
    {
     "data": {
      "application/vnd.jupyter.widget-view+json": {
       "model_id": "58be64c513e14a37ace9fc9aa20d0f47",
       "version_major": 2,
       "version_minor": 0
      },
      "text/plain": [
       "HBox(children=(IntProgress(value=0), HTML(value='')))"
      ]
     },
     "metadata": {},
     "output_type": "display_data"
    },
    {
     "name": "stdout",
     "output_type": "stream",
     "text": [
      "\n"
     ]
    }
   ],
   "source": [
    "result=[]\n",
    "for i in tqdm(range(100)):\n",
    "    forward = i+1\n",
    "    roughvol_model.forward = forward\n",
    "    result.append(roughvol_model.predict(spx_rkth2[3000:4000]))\n",
    "roughvol_result = np.array(result).T"
   ]
  },
  {
   "cell_type": "code",
   "execution_count": 12,
   "metadata": {},
   "outputs": [],
   "source": [
    "nnet_result=nnet_model.predict(spx_rkth2[3000:4000])"
   ]
  },
  {
   "cell_type": "code",
   "execution_count": 13,
   "metadata": {},
   "outputs": [
    {
     "data": {
      "text/plain": [
       "array([0.00843382, 0.00982736, 0.01205017, 0.01009978, 0.00687738,\n",
       "       0.00846714, 0.00811546, 0.01771279, 0.00826701, 0.00654273,\n",
       "       0.00672313, 0.00650905, 0.00630477, 0.00657978, 0.00706028,\n",
       "       0.00605811, 0.00448297, 0.00430637, 0.00456107, 0.00487473,\n",
       "       0.00474831, 0.00565389, 0.00666878, 0.00661066, 0.00570432,\n",
       "       0.00615956, 0.00552225, 0.00565933, 0.00862979, 0.00627696,\n",
       "       0.00672402, 0.00830528, 0.00927419, 0.00751224, 0.00514504,\n",
       "       0.00607567, 0.00901907, 0.00516153, 0.00598005, 0.00506726,\n",
       "       0.00615949, 0.00546625, 0.00597088, 0.00587746, 0.00473322,\n",
       "       0.00537282, 0.00593204, 0.00665938, 0.00806252, 0.00802846,\n",
       "       0.00755194, 0.00687787, 0.00788306, 0.00575941, 0.00500151,\n",
       "       0.0073406 , 0.00589965, 0.00651096, 0.00674142, 0.00677035,\n",
       "       0.00649797, 0.00574001, 0.00561321, 0.00583186, 0.00578477,\n",
       "       0.00798163, 0.00785536, 0.00713126, 0.00758284, 0.00513399,\n",
       "       0.00507938, 0.00668048, 0.00597768, 0.00633431, 0.00525675,\n",
       "       0.00465001, 0.00721649, 0.00673744, 0.00854964, 0.00578368,\n",
       "       0.00740994, 0.00637336, 0.00721547, 0.00880685, 0.00528623,\n",
       "       0.00600583, 0.00565031, 0.00343886, 0.00420512, 0.00559295,\n",
       "       0.0057436 , 0.00560704, 0.00466428, 0.004749  , 0.00517189,\n",
       "       0.00492997, 0.00484678, 0.00507386, 0.00649897, 0.00464285,\n",
       "       0.00385423, 0.00421018, 0.0049534 , 0.00497503, 0.004319  ,\n",
       "       0.00363199, 0.0034954 , 0.00355633, 0.00614912, 0.00274066,\n",
       "       0.00467627, 0.00516278, 0.00459938, 0.00540592, 0.00438393,\n",
       "       0.00417697, 0.00378059, 0.0041778 , 0.00419234, 0.00443444,\n",
       "       0.00434809, 0.00905623, 0.00517737, 0.00448016, 0.00521328,\n",
       "       0.00449813, 0.00289571, 0.00597756, 0.00456428, 0.0049585 ,\n",
       "       0.00496567, 0.00405015, 0.00398704, 0.00437304, 0.00611344,\n",
       "       0.0055888 , 0.0065451 , 0.00630077, 0.00700319, 0.00690082,\n",
       "       0.00525592, 0.00550918, 0.00600538, 0.00538864, 0.00627129,\n",
       "       0.00568148, 0.00437372, 0.00579399, 0.0058243 , 0.00982555,\n",
       "       0.00666956, 0.009561  , 0.00845607, 0.00807581, 0.00591594,\n",
       "       0.00846113, 0.00673087, 0.00641916, 0.00542024, 0.0056264 ,\n",
       "       0.00520105, 0.00358816, 0.00442278, 0.0043322 , 0.00401594,\n",
       "       0.00457834, 0.00606374, 0.00676961, 0.00692921, 0.00702894,\n",
       "       0.00687284, 0.00789714, 0.00686314, 0.00792315, 0.00698886,\n",
       "       0.00640769, 0.00582518, 0.00816021, 0.0097466 , 0.00615408,\n",
       "       0.00647897, 0.00658829, 0.00589213, 0.00718217, 0.00728577,\n",
       "       0.00720011, 0.0111333 , 0.00880418, 0.00890596, 0.0085041 ,\n",
       "       0.00841645, 0.00709361, 0.00777347, 0.00755146, 0.00614673,\n",
       "       0.0055591 , 0.00941044, 0.0074821 , 0.0041465 , 0.00509845,\n",
       "       0.00563626, 0.00521717, 0.00684322, 0.00549994, 0.00505883,\n",
       "       0.00511683, 0.00568021, 0.00545674, 0.00435703, 0.00621948,\n",
       "       0.00611455, 0.00795432, 0.00726997, 0.00378026, 0.00501927,\n",
       "       0.00688518, 0.00613906, 0.00902156, 0.00900054, 0.00753394,\n",
       "       0.00835686, 0.00726033, 0.0090117 , 0.00794556, 0.00849887,\n",
       "       0.00800722, 0.00888025, 0.00755341, 0.00744817, 0.00766525,\n",
       "       0.00832059, 0.01049644, 0.0101015 , 0.0113113 , 0.01099767,\n",
       "       0.00887354, 0.00721894, 0.00873749, 0.00941776, 0.00787448,\n",
       "       0.00906067, 0.00828856, 0.01129211, 0.00700462, 0.00686927,\n",
       "       0.00681794, 0.00761351, 0.00624149, 0.00571313, 0.00636308,\n",
       "       0.00767188, 0.00498298, 0.00582903, 0.00541964, 0.00491136,\n",
       "       0.00599017, 0.00690985, 0.00680617, 0.00704022, 0.00573371,\n",
       "       0.00717793, 0.00608457, 0.00487341, 0.00456694, 0.00553181,\n",
       "       0.0072242 , 0.00606407, 0.00520958, 0.00554261, 0.00487653,\n",
       "       0.0048293 , 0.00612996, 0.00603392, 0.00634708, 0.00749702,\n",
       "       0.00617544, 0.00632185, 0.00703161, 0.00468198, 0.00951643,\n",
       "       0.00785296, 0.00703164, 0.0081228 , 0.00537207, 0.01001345,\n",
       "       0.00668256, 0.00826642, 0.01009878, 0.00604358, 0.00505737,\n",
       "       0.00492915, 0.00476042, 0.0045489 , 0.00455539, 0.00406965,\n",
       "       0.00432139, 0.00492863, 0.00419325, 0.0056508 , 0.00565789,\n",
       "       0.0061418 , 0.00530503, 0.0059774 , 0.00618085, 0.00574565,\n",
       "       0.00656515, 0.00563051, 0.00534972, 0.00598664, 0.00616893,\n",
       "       0.00651827, 0.00663974, 0.00470588, 0.0051386 , 0.00555143,\n",
       "       0.00498465, 0.00524364, 0.00451133, 0.00418071, 0.00508501,\n",
       "       0.00446723, 0.00446026, 0.00474876, 0.0042942 , 0.00398876,\n",
       "       0.00482516, 0.0050926 , 0.00470786, 0.003849  , 0.00526424,\n",
       "       0.00437471, 0.00994858, 0.00685223, 0.0035244 , 0.00434575,\n",
       "       0.0053291 , 0.00471658, 0.00440825, 0.00514184, 0.00457409,\n",
       "       0.00625608, 0.00523726, 0.00538832, 0.00341352, 0.00387186,\n",
       "       0.00357053, 0.00289853, 0.00301794, 0.00507255, 0.0055479 ,\n",
       "       0.00752069, 0.007102  , 0.00779735, 0.00539673, 0.00589461,\n",
       "       0.00613729, 0.00631589, 0.00566577, 0.00610964, 0.00543053,\n",
       "       0.00534083, 0.00432678, 0.00460898, 0.00327026, 0.00301521,\n",
       "       0.00323663, 0.00424674, 0.00171312, 0.00777929, 0.0044709 ,\n",
       "       0.0052333 , 0.00487892, 0.00376452, 0.00567316, 0.00644635,\n",
       "       0.00398135, 0.00536667, 0.00362716, 0.00417619, 0.00528283,\n",
       "       0.00325958, 0.00551832, 0.00554845, 0.00644256, 0.00933249,\n",
       "       0.00945368, 0.00743755, 0.01226366, 0.00920042, 0.01154818,\n",
       "       0.011598  , 0.00816005, 0.00925486, 0.00935369, 0.00918165,\n",
       "       0.00569095, 0.00576299, 0.00533575, 0.0062986 , 0.00493708,\n",
       "       0.00368195, 0.00598674, 0.00559123, 0.00647656, 0.00470666,\n",
       "       0.00528845, 0.00573979, 0.00496703, 0.00726109, 0.00595641,\n",
       "       0.00881223, 0.00774627, 0.005637  , 0.00589543, 0.00864683,\n",
       "       0.00753584, 0.0059262 , 0.00785578, 0.00726158, 0.00976706,\n",
       "       0.00667941, 0.00871931, 0.00641245, 0.00701175, 0.00632651,\n",
       "       0.00787854, 0.00650171, 0.00565099, 0.00630491, 0.00505296,\n",
       "       0.00540906, 0.00465167, 0.00434022, 0.00553328, 0.00468985,\n",
       "       0.00550839, 0.00630266, 0.00470688, 0.00677555, 0.00728404,\n",
       "       0.00679934, 0.00768842, 0.00604838, 0.0059796 , 0.0053466 ,\n",
       "       0.00451846, 0.00662244, 0.00618588, 0.00592956, 0.00591742,\n",
       "       0.00597683, 0.00551502, 0.00716116, 0.0052908 , 0.0063883 ,\n",
       "       0.00741283, 0.00400587, 0.00424749, 0.00417489, 0.00378007,\n",
       "       0.00592657, 0.00570008, 0.00628356, 0.00501311, 0.00544267,\n",
       "       0.00465691, 0.00378558, 0.00341611, 0.00354297, 0.00384868,\n",
       "       0.00387396, 0.00358906, 0.00404547, 0.00380781, 0.00426109,\n",
       "       0.00790997, 0.00458465, 0.00256961, 0.00318346, 0.00417416,\n",
       "       0.00355541, 0.00498586, 0.00436851, 0.00458978, 0.00346784,\n",
       "       0.00318737, 0.00345537, 0.00587585, 0.00402754, 0.00510495,\n",
       "       0.00559627, 0.00488651, 0.00524483, 0.003925  , 0.00367827,\n",
       "       0.00458354, 0.00226427, 0.00484267, 0.00529053, 0.00458348,\n",
       "       0.00849301, 0.00546132, 0.00505619, 0.00681902, 0.00551234,\n",
       "       0.00631675, 0.00591458, 0.00621759, 0.004868  , 0.00591747,\n",
       "       0.00622491, 0.0058359 , 0.00684634, 0.00569059, 0.00769051,\n",
       "       0.00848474, 0.01088988, 0.00735036, 0.00660074, 0.00854309,\n",
       "       0.00891195, 0.00838894, 0.00552297, 0.00594406, 0.00508077,\n",
       "       0.00567789, 0.00887325, 0.00414193, 0.00370019, 0.00462601,\n",
       "       0.00442219, 0.00675605, 0.00432094, 0.00384828, 0.00412902,\n",
       "       0.0054401 , 0.00515577, 0.00328829, 0.00481125, 0.00556579,\n",
       "       0.0070559 , 0.00542822, 0.00401927, 0.00384194, 0.00466926,\n",
       "       0.00532253, 0.0038225 , 0.00440942, 0.00418755, 0.00392276,\n",
       "       0.00401855, 0.00426213, 0.00398795, 0.00618694, 0.00547459,\n",
       "       0.00682102, 0.00660132, 0.00669075, 0.0061019 , 0.00629573,\n",
       "       0.00957333, 0.00651496, 0.00627649, 0.00803129, 0.00791507,\n",
       "       0.01032118, 0.01015724, 0.00930772, 0.01066439, 0.01518095,\n",
       "       0.02571137, 0.01351311, 0.01462854, 0.01144202, 0.0087257 ,\n",
       "       0.01180177, 0.00885831, 0.0122328 , 0.00747468, 0.00770791,\n",
       "       0.01281365, 0.00779509, 0.00794647, 0.00902313, 0.00723463,\n",
       "       0.01341779, 0.00936262, 0.00736522, 0.00533283, 0.00825578,\n",
       "       0.00789976, 0.00829002, 0.00814688, 0.00589507, 0.00572036,\n",
       "       0.00648412, 0.00581581, 0.00589801, 0.00653577, 0.00571947,\n",
       "       0.00379088, 0.00624189, 0.00798273, 0.00754438, 0.00606245,\n",
       "       0.01281195, 0.00635255, 0.005165  , 0.00828313, 0.00790481,\n",
       "       0.00865991, 0.00947036, 0.0118517 , 0.01873956, 0.0131894 ,\n",
       "       0.00887777, 0.01134412, 0.00763567, 0.00620747, 0.00292049,\n",
       "       0.00943922, 0.00595034, 0.00388272, 0.01142208, 0.01177788,\n",
       "       0.01222024, 0.01112693, 0.00820105, 0.01301878, 0.01190491,\n",
       "       0.01001697, 0.01376251, 0.02353247, 0.01029034, 0.00717626,\n",
       "       0.0078162 , 0.01245818, 0.01431596, 0.00967627, 0.00970077,\n",
       "       0.01101879, 0.00963038, 0.00964713, 0.0106598 , 0.00949796,\n",
       "       0.00779643, 0.00928917, 0.00840623, 0.00686881, 0.00986123,\n",
       "       0.00900584, 0.00647204, 0.00865543, 0.00662243, 0.00481741,\n",
       "       0.00857102, 0.00484409, 0.00855028, 0.00794077, 0.00521837,\n",
       "       0.00535173, 0.00455147, 0.00520697, 0.00613357, 0.00539977,\n",
       "       0.00570074, 0.00728702, 0.00668826, 0.00520197, 0.00583947,\n",
       "       0.00723929, 0.00631727, 0.00580214, 0.00561195, 0.00538183,\n",
       "       0.00716162, 0.00674249, 0.00618545, 0.0056796 , 0.00586276,\n",
       "       0.00605984, 0.00610861, 0.01019802, 0.00967786, 0.00734445,\n",
       "       0.00854622, 0.00898534, 0.00588259, 0.00602094, 0.00698666,\n",
       "       0.00532878, 0.00426737, 0.00479856, 0.00721709, 0.00546553,\n",
       "       0.00683033, 0.01195113, 0.00622989, 0.00871143, 0.00981597,\n",
       "       0.01010979, 0.00792206, 0.00996361, 0.00862207, 0.01192918,\n",
       "       0.01285806, 0.00966564, 0.01160297, 0.01323978, 0.01360799,\n",
       "       0.00953199, 0.00686754, 0.01037349, 0.00913781, 0.00941447,\n",
       "       0.00816244, 0.01020457, 0.00814527, 0.00601419, 0.00568022,\n",
       "       0.00545353, 0.00353233, 0.00950575, 0.00785867, 0.00702624,\n",
       "       0.00985469, 0.00963443, 0.0113824 , 0.00916591, 0.01235918,\n",
       "       0.0107365 , 0.00962   , 0.01015977, 0.00998219, 0.00949484,\n",
       "       0.01216932, 0.00995968, 0.01075086, 0.01045991, 0.01130047,\n",
       "       0.00973281, 0.01086245, 0.00608578, 0.01057305, 0.01069471,\n",
       "       0.00876066, 0.01183365, 0.01402515, 0.01291833, 0.00833167,\n",
       "       0.00895033, 0.01216848, 0.01125677, 0.01202255, 0.00962301,\n",
       "       0.00841414, 0.00787134, 0.00523559, 0.00514417, 0.005382  ,\n",
       "       0.00489848, 0.00524108, 0.00587089, 0.00562697, 0.00629347,\n",
       "       0.00668028, 0.00911231, 0.00769874, 0.00772393, 0.00821822,\n",
       "       0.00703955, 0.00713975, 0.00767025, 0.00645572, 0.00616677,\n",
       "       0.00637781, 0.00797861, 0.0071592 , 0.0114125 , 0.00972625,\n",
       "       0.00946713, 0.01162502, 0.00972205, 0.00940077, 0.00991148,\n",
       "       0.01322691, 0.03349879, 0.02176672, 0.02331962, 0.01478353,\n",
       "       0.01396975, 0.01133193, 0.0183751 , 0.01631856, 0.01250481,\n",
       "       0.01708844, 0.00943826, 0.01046919, 0.00974326, 0.01304644])"
      ]
     },
     "execution_count": 13,
     "metadata": {},
     "output_type": "execute_result"
    }
   ],
   "source": [
    "spx_rkth2[3200:4000]"
   ]
  },
  {
   "cell_type": "code",
   "execution_count": 14,
   "metadata": {},
   "outputs": [
    {
     "data": {
      "text/plain": [
       "((801, 100), (801, 100))"
      ]
     },
     "execution_count": 14,
     "metadata": {},
     "output_type": "execute_result"
    }
   ],
   "source": [
    "roughvol_result.shape,  nnet_result.shape"
   ]
  },
  {
   "cell_type": "code",
   "execution_count": 15,
   "metadata": {},
   "outputs": [],
   "source": [
    "true_result = np.array([spx_rkth2[ele:ele+101] for ele in range(3199,4000)])"
   ]
  },
  {
   "cell_type": "code",
   "execution_count": 16,
   "metadata": {},
   "outputs": [
    {
     "data": {
      "text/plain": [
       "(801, 101)"
      ]
     },
     "execution_count": 16,
     "metadata": {},
     "output_type": "execute_result"
    }
   ],
   "source": [
    "true_result.shape"
   ]
  },
  {
   "cell_type": "code",
   "execution_count": 17,
   "metadata": {},
   "outputs": [],
   "source": [
    "unconditional_var = np.mean((np.log(true_result[:,1:])-np.log(true_result[:,0][:,np.newaxis]))**2,axis=0)"
   ]
  },
  {
   "cell_type": "code",
   "execution_count": 18,
   "metadata": {},
   "outputs": [
    {
     "data": {
      "text/plain": [
       "<matplotlib.legend.Legend at 0x1a11946518>"
      ]
     },
     "execution_count": 18,
     "metadata": {},
     "output_type": "execute_result"
    },
    {
     "data": {
      "image/png": "[encoded data removed]",
      "text/plain": [
       "<Figure size 720x720 with 1 Axes>"
      ]
     },
     "metadata": {},
     "output_type": "display_data"
    }
   ],
   "source": [
    "plt.figure(figsize=(10,10))\n",
    "plt.scatter(np.arange(1,101),unconditional_var)\n",
    "plt.scatter(np.arange(1,101),np.mean((np.log(true_result[:,1:]) - np.log(roughvol_result))**2,axis=0))\n",
    "plt.scatter(np.arange(1,101),np.mean((np.log(true_result[:,1:]) - np.log(nnet_result))**2,axis=0))\n",
    "plt.title(\"AEX\")\n",
    "plt.legend(['unconditional_var', 'roughvol','nnet'])"
   ]
  },
  {
   "cell_type": "code",
   "execution_count": 19,
   "metadata": {},
   "outputs": [
    {
     "data": {
      "text/plain": [
       "array([0.05920122, 0.07021003, 0.07569251, 0.08678302, 0.09103793,\n",
       "       0.09840856, 0.1034599 , 0.10654464, 0.11221701, 0.11438481,\n",
       "       0.11789045, 0.11980368, 0.12042254, 0.12178288, 0.12214554,\n",
       "       0.12420099, 0.1270994 , 0.12722948, 0.12607716, 0.1284253 ,\n",
       "       0.13079186, 0.13253358, 0.13359135, 0.13417616, 0.13482317,\n",
       "       0.13468562, 0.13608019, 0.1364388 , 0.13509335, 0.13603343,\n",
       "       0.13577141, 0.13654209, 0.13582229, 0.13484085, 0.13547976,\n",
       "       0.13636395, 0.1346291 , 0.1348409 , 0.13322073, 0.13291608,\n",
       "       0.13304804, 0.13424588, 0.13346984, 0.13361865, 0.13267151,\n",
       "       0.13341086, 0.13327881, 0.13405645, 0.13281548, 0.1316385 ,\n",
       "       0.13131351, 0.13124344, 0.13073449, 0.13117595, 0.13344499,\n",
       "       0.13328247, 0.13458342, 0.13550333, 0.13619337, 0.13775792,\n",
       "       0.13953141, 0.13994812, 0.14065081, 0.14014354, 0.13997954,\n",
       "       0.14108274, 0.14247618, 0.14320972, 0.14337242, 0.14277629,\n",
       "       0.1449748 , 0.14548911, 0.1473719 , 0.15172277, 0.15433643,\n",
       "       0.15473016, 0.15637733, 0.15736605, 0.15915454, 0.15980985,\n",
       "       0.16185158, 0.16208739, 0.16287874, 0.16386811, 0.16492802,\n",
       "       0.1661468 , 0.16630448, 0.16663188, 0.16501105, 0.16452721,\n",
       "       0.16452375, 0.16470855, 0.16523423, 0.16468423, 0.16521988,\n",
       "       0.1645072 , 0.16305594, 0.16403466, 0.16318687, 0.16360145])"
      ]
     },
     "execution_count": 19,
     "metadata": {},
     "output_type": "execute_result"
    }
   ],
   "source": [
    "np.mean((np.log(true_result[:,1:]) - np.log(roughvol_result))**2,axis=0)"
   ]
  },
  {
   "cell_type": "code",
   "execution_count": 20,
   "metadata": {},
   "outputs": [
    {
     "data": {
      "text/plain": [
       "array([0.06161905, 0.0737142 , 0.08165204, 0.09174427, 0.09729711,\n",
       "       0.10421961, 0.10805056, 0.11105236, 0.11626685, 0.11774441,\n",
       "       0.1190755 , 0.11953829, 0.11965536, 0.12070575, 0.12026683,\n",
       "       0.12181567, 0.12340967, 0.1225421 , 0.12279928, 0.12476396,\n",
       "       0.12659562, 0.127427  , 0.12769719, 0.12946697, 0.13012448,\n",
       "       0.12948283, 0.13030445, 0.13047775, 0.12955135, 0.13018333,\n",
       "       0.12915204, 0.129498  , 0.12909572, 0.12886226, 0.12932357,\n",
       "       0.12945156, 0.12845512, 0.12871089, 0.12723119, 0.12753797,\n",
       "       0.12727045, 0.12711929, 0.12656168, 0.12606988, 0.12670965,\n",
       "       0.12754327, 0.127209  , 0.1269931 , 0.12556407, 0.12582174,\n",
       "       0.12478376, 0.12353783, 0.12368368, 0.12451149, 0.12654599,\n",
       "       0.12733364, 0.12956119, 0.1302414 , 0.1312433 , 0.13247871,\n",
       "       0.13381305, 0.13376758, 0.13371413, 0.13341849, 0.13363293,\n",
       "       0.13340002, 0.13380124, 0.13375684, 0.13382575, 0.13362918,\n",
       "       0.13568886, 0.13662158, 0.13874711, 0.14194778, 0.14441651,\n",
       "       0.14481832, 0.14653671, 0.14737373, 0.14868928, 0.14998679,\n",
       "       0.15116319, 0.15159264, 0.15234073, 0.15333753, 0.15438209,\n",
       "       0.15479346, 0.15469442, 0.15446007, 0.1535038 , 0.15359871,\n",
       "       0.15406705, 0.15437726, 0.15511782, 0.15483722, 0.15469629,\n",
       "       0.15389361, 0.15276458, 0.15306312, 0.15281674, 0.15273657])"
      ]
     },
     "execution_count": 20,
     "metadata": {},
     "output_type": "execute_result"
    }
   ],
   "source": [
    "np.mean((np.log(true_result[:,1:]) - np.log(nnet_result))**2,axis=0)"
   ]
  },
  {
   "cell_type": "code",
   "execution_count": null,
   "metadata": {},
   "outputs": [],
   "source": []
  },
  {
   "cell_type": "code",
   "execution_count": null,
   "metadata": {},
   "outputs": [],
   "source": []
  }
 ],
 "metadata": {
  "kernelspec": {
   "display_name": "Python 3",
   "language": "python",
   "name": "python3"
  },
  "language_info": {
   "codemirror_mode": {
    "name": "ipython",
    "version": 3
   },
   "file_extension": ".py",
   "mimetype": "text/x-python",
   "name": "python",
   "nbconvert_exporter": "python",
   "pygments_lexer": "ipython3",
   "version": "3.6.7"
  },
  "toc": {
   "base_numbering": 1,
   "nav_menu": {},
   "number_sections": true,
   "sideBar": true,
   "skip_h1_title": false,
   "title_cell": "Table of Contents",
   "title_sidebar": "Contents",
   "toc_cell": false,
   "toc_position": {},
   "toc_section_display": true,
   "toc_window_display": false
  }
 },
 "nbformat": 4,
 "nbformat_minor": 2
}
