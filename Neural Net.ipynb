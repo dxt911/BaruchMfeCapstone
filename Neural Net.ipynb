{
 "cells": [
  {
   "cell_type": "code",
   "execution_count": 1,
   "metadata": {},
   "outputs": [],
   "source": [
    "from IPython.core.display import display, HTML\n",
    "display(HTML(\"<style>.container { width:100% !important; }</style>\"))"
   ]
  },
  {
   "cell_type": "code",
   "execution_count": 2,
   "metadata": {},
   "outputs": [],
   "source": [
    "from utils.neural_net import NeuralNetVol, ResNeuralNetVol, ResNeuralNetVolSd\n",
    "import pandas as pd\n",
    "import numpy as np\n",
    "import matplotlib.pyplot as plt\n",
    "from tqdm import tqdm_notebook as tqdm\n",
    "from utils.rough_vol import RoughVol"
   ]
  },
  {
   "cell_type": "code",
   "execution_count": 3,
   "metadata": {},
   "outputs": [],
   "source": [
    "data = pd.read_csv('oxfordmanrealizedvolatilityindices.csv')"
   ]
  },
  {
   "cell_type": "code",
   "execution_count": 4,
   "metadata": {},
   "outputs": [
    {
     "data": {
      "text/html": [
       "<div>\n",
       "<style scoped>\n",
       "    .dataframe tbody tr th:only-of-type {\n",
       "        vertical-align: middle;\n",
       "    }\n",
       "\n",
       "    .dataframe tbody tr th {\n",
       "        vertical-align: top;\n",
       "    }\n",
       "\n",
       "    .dataframe thead th {\n",
       "        text-align: right;\n",
       "    }\n",
       "</style>\n",
       "<table border=\"1\" class=\"dataframe\">\n",
       "  <thead>\n",
       "    <tr style=\"text-align: right;\">\n",
       "      <th></th>\n",
       "      <th>Unnamed: 0</th>\n",
       "      <th>Symbol</th>\n",
       "      <th>open_price</th>\n",
       "      <th>rk_twoscale</th>\n",
       "      <th>close_price</th>\n",
       "      <th>open_to_close</th>\n",
       "      <th>rv10_ss</th>\n",
       "      <th>rk_parzen</th>\n",
       "      <th>medrv</th>\n",
       "      <th>open_time</th>\n",
       "      <th>rv5</th>\n",
       "      <th>nobs</th>\n",
       "      <th>rv5_ss</th>\n",
       "      <th>rsv</th>\n",
       "      <th>rv10</th>\n",
       "      <th>bv</th>\n",
       "      <th>rk_th2</th>\n",
       "      <th>close_time</th>\n",
       "      <th>bv_ss</th>\n",
       "      <th>rsv_ss</th>\n",
       "    </tr>\n",
       "  </thead>\n",
       "  <tbody>\n",
       "    <tr>\n",
       "      <th>0</th>\n",
       "      <td>2000-01-03 00:00:00+00:00</td>\n",
       "      <td>.AEX</td>\n",
       "      <td>675.67</td>\n",
       "      <td>0.000103</td>\n",
       "      <td>675.44</td>\n",
       "      <td>-0.000340</td>\n",
       "      <td>0.000178</td>\n",
       "      <td>0.000179</td>\n",
       "      <td>0.000050</td>\n",
       "      <td>90101.0</td>\n",
       "      <td>0.000130</td>\n",
       "      <td>1795.0</td>\n",
       "      <td>0.000130</td>\n",
       "      <td>0.000046</td>\n",
       "      <td>0.000178</td>\n",
       "      <td>0.000100</td>\n",
       "      <td>0.000102</td>\n",
       "      <td>163015.0</td>\n",
       "      <td>0.000100</td>\n",
       "      <td>0.000046</td>\n",
       "    </tr>\n",
       "    <tr>\n",
       "      <th>1</th>\n",
       "      <td>2000-01-04 00:00:00+00:00</td>\n",
       "      <td>.AEX</td>\n",
       "      <td>664.20</td>\n",
       "      <td>0.000199</td>\n",
       "      <td>642.25</td>\n",
       "      <td>-0.033606</td>\n",
       "      <td>0.000261</td>\n",
       "      <td>0.000423</td>\n",
       "      <td>0.000075</td>\n",
       "      <td>90416.0</td>\n",
       "      <td>0.000201</td>\n",
       "      <td>1785.0</td>\n",
       "      <td>0.000201</td>\n",
       "      <td>0.000147</td>\n",
       "      <td>0.000261</td>\n",
       "      <td>0.000207</td>\n",
       "      <td>0.000201</td>\n",
       "      <td>163016.0</td>\n",
       "      <td>0.000207</td>\n",
       "      <td>0.000147</td>\n",
       "    </tr>\n",
       "    <tr>\n",
       "      <th>2</th>\n",
       "      <td>2000-01-05 00:00:00+00:00</td>\n",
       "      <td>.AEX</td>\n",
       "      <td>633.37</td>\n",
       "      <td>0.000325</td>\n",
       "      <td>632.31</td>\n",
       "      <td>-0.001675</td>\n",
       "      <td>0.000714</td>\n",
       "      <td>0.000324</td>\n",
       "      <td>0.000166</td>\n",
       "      <td>90016.0</td>\n",
       "      <td>0.000491</td>\n",
       "      <td>1801.0</td>\n",
       "      <td>0.000491</td>\n",
       "      <td>0.000328</td>\n",
       "      <td>0.000714</td>\n",
       "      <td>0.000361</td>\n",
       "      <td>0.000345</td>\n",
       "      <td>163016.0</td>\n",
       "      <td>0.000361</td>\n",
       "      <td>0.000328</td>\n",
       "    </tr>\n",
       "    <tr>\n",
       "      <th>3</th>\n",
       "      <td>2000-01-06 00:00:00+00:00</td>\n",
       "      <td>.AEX</td>\n",
       "      <td>632.46</td>\n",
       "      <td>0.000218</td>\n",
       "      <td>624.21</td>\n",
       "      <td>-0.013130</td>\n",
       "      <td>0.000182</td>\n",
       "      <td>0.000219</td>\n",
       "      <td>0.000152</td>\n",
       "      <td>90016.0</td>\n",
       "      <td>0.000225</td>\n",
       "      <td>1799.0</td>\n",
       "      <td>0.000225</td>\n",
       "      <td>0.000116</td>\n",
       "      <td>0.000182</td>\n",
       "      <td>0.000258</td>\n",
       "      <td>0.000221</td>\n",
       "      <td>163002.0</td>\n",
       "      <td>0.000258</td>\n",
       "      <td>0.000116</td>\n",
       "    </tr>\n",
       "    <tr>\n",
       "      <th>4</th>\n",
       "      <td>2000-01-07 00:00:00+00:00</td>\n",
       "      <td>.AEX</td>\n",
       "      <td>628.93</td>\n",
       "      <td>0.000126</td>\n",
       "      <td>644.86</td>\n",
       "      <td>0.025013</td>\n",
       "      <td>0.000157</td>\n",
       "      <td>0.000155</td>\n",
       "      <td>0.000039</td>\n",
       "      <td>90046.0</td>\n",
       "      <td>0.000138</td>\n",
       "      <td>1798.0</td>\n",
       "      <td>0.000138</td>\n",
       "      <td>0.000048</td>\n",
       "      <td>0.000157</td>\n",
       "      <td>0.000130</td>\n",
       "      <td>0.000123</td>\n",
       "      <td>163016.0</td>\n",
       "      <td>0.000130</td>\n",
       "      <td>0.000048</td>\n",
       "    </tr>\n",
       "  </tbody>\n",
       "</table>\n",
       "</div>"
      ],
      "text/plain": [
       "                  Unnamed: 0 Symbol  open_price  rk_twoscale  close_price  \\\n",
       "0  2000-01-03 00:00:00+00:00   .AEX      675.67     0.000103       675.44   \n",
       "1  2000-01-04 00:00:00+00:00   .AEX      664.20     0.000199       642.25   \n",
       "2  2000-01-05 00:00:00+00:00   .AEX      633.37     0.000325       632.31   \n",
       "3  2000-01-06 00:00:00+00:00   .AEX      632.46     0.000218       624.21   \n",
       "4  2000-01-07 00:00:00+00:00   .AEX      628.93     0.000126       644.86   \n",
       "\n",
       "   open_to_close   rv10_ss  rk_parzen     medrv  open_time       rv5    nobs  \\\n",
       "0      -0.000340  0.000178   0.000179  0.000050    90101.0  0.000130  1795.0   \n",
       "1      -0.033606  0.000261   0.000423  0.000075    90416.0  0.000201  1785.0   \n",
       "2      -0.001675  0.000714   0.000324  0.000166    90016.0  0.000491  1801.0   \n",
       "3      -0.013130  0.000182   0.000219  0.000152    90016.0  0.000225  1799.0   \n",
       "4       0.025013  0.000157   0.000155  0.000039    90046.0  0.000138  1798.0   \n",
       "\n",
       "     rv5_ss       rsv      rv10        bv    rk_th2  close_time     bv_ss  \\\n",
       "0  0.000130  0.000046  0.000178  0.000100  0.000102    163015.0  0.000100   \n",
       "1  0.000201  0.000147  0.000261  0.000207  0.000201    163016.0  0.000207   \n",
       "2  0.000491  0.000328  0.000714  0.000361  0.000345    163016.0  0.000361   \n",
       "3  0.000225  0.000116  0.000182  0.000258  0.000221    163002.0  0.000258   \n",
       "4  0.000138  0.000048  0.000157  0.000130  0.000123    163016.0  0.000130   \n",
       "\n",
       "     rsv_ss  \n",
       "0  0.000046  \n",
       "1  0.000147  \n",
       "2  0.000328  \n",
       "3  0.000116  \n",
       "4  0.000048  "
      ]
     },
     "execution_count": 4,
     "metadata": {},
     "output_type": "execute_result"
    }
   ],
   "source": [
    "data.head()"
   ]
  },
  {
   "cell_type": "code",
   "execution_count": 5,
   "metadata": {},
   "outputs": [],
   "source": [
    "spx_rkth2 = np.sqrt(data.query('Symbol==\".SPX\"').rk_th2.values)"
   ]
  },
  {
   "cell_type": "code",
   "execution_count": 6,
   "metadata": {},
   "outputs": [],
   "source": [
    "nnet_model = ResNeuralNetVol(hiddenlayer=[5,10,10])\n",
    "roughvol_model = RoughVol(fit_period=200)"
   ]
  },
  {
   "cell_type": "code",
   "execution_count": 7,
   "metadata": {},
   "outputs": [
    {
     "data": {
      "text/plain": [
       "4963"
      ]
     },
     "execution_count": 7,
     "metadata": {},
     "output_type": "execute_result"
    }
   ],
   "source": [
    "spx_rkth2.__len__()"
   ]
  },
  {
   "cell_type": "code",
   "execution_count": 8,
   "metadata": {},
   "outputs": [
    {
     "data": {
      "application/vnd.jupyter.widget-view+json": {
       "model_id": "5c050955c2a341c9ba7345a942983869",
       "version_major": 2,
       "version_minor": 0
      },
      "text/plain": [
       "HBox(children=(IntProgress(value=0, max=30000), HTML(value='')))"
      ]
     },
     "metadata": {},
     "output_type": "display_data"
    },
    {
     "name": "stdout",
     "output_type": "stream",
     "text": [
      "\n"
     ]
    },
    {
     "data": {
      "image/png": "[encoded data removed]",
      "text/plain": [
       "<Figure size 576x576 with 1 Axes>"
      ]
     },
     "metadata": {},
     "output_type": "display_data"
    },
    {
     "data": {
      "text/plain": [
       "38.96678161621094"
      ]
     },
     "execution_count": 8,
     "metadata": {},
     "output_type": "execute_result"
    }
   ],
   "source": [
    "nnet_model.fit(spx_rkth2[:3000], draw_loss=True,steps=30000, lrs=[1e-3])"
   ]
  },
  {
   "cell_type": "code",
   "execution_count": 9,
   "metadata": {},
   "outputs": [
    {
     "data": {
      "text/plain": [
       "0.14648771963095852"
      ]
     },
     "execution_count": 9,
     "metadata": {},
     "output_type": "execute_result"
    }
   ],
   "source": [
    "roughvol_model.fit(spx_rkth2[:3000])"
   ]
  },
  {
   "cell_type": "code",
   "execution_count": 10,
   "metadata": {},
   "outputs": [
    {
     "data": {
      "text/plain": [
       "array([[0.00548187, 0.00547429, 0.00546393, ..., 0.00667314, 0.00666572,\n",
       "        0.0066462 ],\n",
       "       [0.00494772, 0.00490124, 0.00485621, ..., 0.00562054, 0.00561323,\n",
       "        0.00559075],\n",
       "       [0.00493655, 0.00492167, 0.00490718, ..., 0.00575166, 0.0057531 ,\n",
       "        0.00573916],\n",
       "       ...,\n",
       "       [0.0057732 , 0.00568198, 0.00559397, ..., 0.00614708, 0.00613823,\n",
       "        0.00610944],\n",
       "       [0.00650119, 0.0062573 , 0.00602823, ..., 0.00587163, 0.00584838,\n",
       "        0.00579956],\n",
       "       [0.00670008, 0.00635737, 0.00603192, ..., 0.00536328, 0.00533169,\n",
       "        0.00527594]])"
      ]
     },
     "execution_count": 10,
     "metadata": {},
     "output_type": "execute_result"
    }
   ],
   "source": [
    "nnet_model.predict(spx_rkth2[3000:4000])"
   ]
  },
  {
   "cell_type": "code",
   "execution_count": null,
   "metadata": {},
   "outputs": [
    {
     "data": {
      "application/vnd.jupyter.widget-view+json": {
       "model_id": "5e9bd64a87134a14a6c7971da76041a7",
       "version_major": 2,
       "version_minor": 0
      },
      "text/plain": [
       "HBox(children=(IntProgress(value=0), HTML(value='')))"
      ]
     },
     "metadata": {},
     "output_type": "display_data"
    }
   ],
   "source": [
    "result=[]\n",
    "for i in tqdm(range(100)):\n",
    "    forward = i+1\n",
    "    roughvol_model.forward = forward\n",
    "    result.append(roughvol_model.predict(spx_rkth2[3000:4000]))\n",
    "roughvol_result = np.array(result).T"
   ]
  },
  {
   "cell_type": "code",
   "execution_count": null,
   "metadata": {},
   "outputs": [],
   "source": [
    "nnet_result=nnet_model.predict(spx_rkth2[3000:4000])"
   ]
  },
  {
   "cell_type": "code",
   "execution_count": null,
   "metadata": {},
   "outputs": [],
   "source": [
    "spx_rkth2[3200:4000]"
   ]
  },
  {
   "cell_type": "code",
   "execution_count": null,
   "metadata": {},
   "outputs": [],
   "source": [
    "roughvol_result.shape,  nnet_result.shape"
   ]
  },
  {
   "cell_type": "code",
   "execution_count": null,
   "metadata": {},
   "outputs": [],
   "source": [
    "true_result = np.array([spx_rkth2[ele:ele+101] for ele in range(3199,4000)])"
   ]
  },
  {
   "cell_type": "code",
   "execution_count": null,
   "metadata": {},
   "outputs": [],
   "source": [
    "true_result.shape"
   ]
  },
  {
   "cell_type": "code",
   "execution_count": null,
   "metadata": {},
   "outputs": [],
   "source": [
    "unconditional_var = np.mean((np.log(true_result[:,1:])-np.log(true_result[:,0][:,np.newaxis]))**2,axis=0)"
   ]
  },
  {
   "cell_type": "code",
   "execution_count": null,
   "metadata": {},
   "outputs": [],
   "source": [
    "plt.figure(figsize=(10,10))\n",
    "plt.scatter(np.arange(1,101),unconditional_var)\n",
    "plt.scatter(np.arange(1,101),np.mean((np.log(true_result[:,1:]) - np.log(roughvol_result))**2,axis=0))\n",
    "plt.scatter(np.arange(1,101),np.mean((np.log(true_result[:,1:]) - np.log(nnet_result))**2,axis=0))\n",
    "plt.legend(['unconditional_var', 'roughvol','nnet'])"
   ]
  },
  {
   "cell_type": "code",
   "execution_count": null,
   "metadata": {},
   "outputs": [],
   "source": [
    "np.mean((np.log(true_result[:,1:]) - np.log(roughvol_result))**2,axis=0)"
   ]
  },
  {
   "cell_type": "code",
   "execution_count": null,
   "metadata": {},
   "outputs": [],
   "source": [
    "np.mean((np.log(true_result[:,1:]) - np.log(nnet_result))**2,axis=0)"
   ]
  },
  {
   "cell_type": "code",
   "execution_count": null,
   "metadata": {},
   "outputs": [],
   "source": []
  },
  {
   "cell_type": "code",
   "execution_count": null,
   "metadata": {},
   "outputs": [],
   "source": []
  }
 ],
 "metadata": {
  "kernelspec": {
   "display_name": "Python 3",
   "language": "python",
   "name": "python3"
  },
  "language_info": {
   "codemirror_mode": {
    "name": "ipython",
    "version": 3
   },
   "file_extension": ".py",
   "mimetype": "text/x-python",
   "name": "python",
   "nbconvert_exporter": "python",
   "pygments_lexer": "ipython3",
   "version": "3.6.7"
  },
  "toc": {
   "base_numbering": 1,
   "nav_menu": {},
   "number_sections": true,
   "sideBar": true,
   "skip_h1_title": false,
   "title_cell": "Table of Contents",
   "title_sidebar": "Contents",
   "toc_cell": false,
   "toc_position": {},
   "toc_section_display": true,
   "toc_window_display": false
  }
 },
 "nbformat": 4,
 "nbformat_minor": 2
}
