{
 "cells": [
  {
   "cell_type": "code",
   "execution_count": 1,
   "metadata": {},
   "outputs": [
    {
     "data": {
      "text/html": [
       "<style>.container { width:100% !important; }</style>"
      ],
      "text/plain": [
       "<IPython.core.display.HTML object>"
      ]
     },
     "metadata": {},
     "output_type": "display_data"
    }
   ],
   "source": [
    "from IPython.core.display import display, HTML\n",
    "display(HTML(\"<style>.container { width:100% !important; }</style>\"))"
   ]
  },
  {
   "cell_type": "code",
   "execution_count": 2,
   "metadata": {},
   "outputs": [],
   "source": [
    "from utils.ar_vol import ArVol\n",
    "from utils.rough_vol import RoughVol\n",
    "import pandas as pd\n",
    "import numpy as np\n",
    "import matplotlib.pyplot as plt"
   ]
  },
  {
   "cell_type": "code",
   "execution_count": 3,
   "metadata": {},
   "outputs": [],
   "source": [
    "data = pd.read_csv('oxfordmanrealizedvolatilityindices.csv')"
   ]
  },
  {
   "cell_type": "code",
   "execution_count": 4,
   "metadata": {},
   "outputs": [
    {
     "data": {
      "text/html": [
       "<div>\n",
       "<style scoped>\n",
       "    .dataframe tbody tr th:only-of-type {\n",
       "        vertical-align: middle;\n",
       "    }\n",
       "\n",
       "    .dataframe tbody tr th {\n",
       "        vertical-align: top;\n",
       "    }\n",
       "\n",
       "    .dataframe thead th {\n",
       "        text-align: right;\n",
       "    }\n",
       "</style>\n",
       "<table border=\"1\" class=\"dataframe\">\n",
       "  <thead>\n",
       "    <tr style=\"text-align: right;\">\n",
       "      <th></th>\n",
       "      <th>Unnamed: 0</th>\n",
       "      <th>Symbol</th>\n",
       "      <th>open_price</th>\n",
       "      <th>rk_twoscale</th>\n",
       "      <th>close_price</th>\n",
       "      <th>open_to_close</th>\n",
       "      <th>rv10_ss</th>\n",
       "      <th>rk_parzen</th>\n",
       "      <th>medrv</th>\n",
       "      <th>open_time</th>\n",
       "      <th>rv5</th>\n",
       "      <th>nobs</th>\n",
       "      <th>rv5_ss</th>\n",
       "      <th>rsv</th>\n",
       "      <th>rv10</th>\n",
       "      <th>bv</th>\n",
       "      <th>rk_th2</th>\n",
       "      <th>close_time</th>\n",
       "      <th>bv_ss</th>\n",
       "      <th>rsv_ss</th>\n",
       "    </tr>\n",
       "  </thead>\n",
       "  <tbody>\n",
       "    <tr>\n",
       "      <th>0</th>\n",
       "      <td>2000-01-03 00:00:00+00:00</td>\n",
       "      <td>.AEX</td>\n",
       "      <td>675.67</td>\n",
       "      <td>0.000103</td>\n",
       "      <td>675.44</td>\n",
       "      <td>-0.000340</td>\n",
       "      <td>0.000178</td>\n",
       "      <td>0.000179</td>\n",
       "      <td>0.000050</td>\n",
       "      <td>90101.0</td>\n",
       "      <td>0.000130</td>\n",
       "      <td>1795.0</td>\n",
       "      <td>0.000130</td>\n",
       "      <td>0.000046</td>\n",
       "      <td>0.000178</td>\n",
       "      <td>0.000100</td>\n",
       "      <td>0.000102</td>\n",
       "      <td>163015.0</td>\n",
       "      <td>0.000100</td>\n",
       "      <td>0.000046</td>\n",
       "    </tr>\n",
       "    <tr>\n",
       "      <th>1</th>\n",
       "      <td>2000-01-04 00:00:00+00:00</td>\n",
       "      <td>.AEX</td>\n",
       "      <td>664.20</td>\n",
       "      <td>0.000199</td>\n",
       "      <td>642.25</td>\n",
       "      <td>-0.033606</td>\n",
       "      <td>0.000261</td>\n",
       "      <td>0.000423</td>\n",
       "      <td>0.000075</td>\n",
       "      <td>90416.0</td>\n",
       "      <td>0.000201</td>\n",
       "      <td>1785.0</td>\n",
       "      <td>0.000201</td>\n",
       "      <td>0.000147</td>\n",
       "      <td>0.000261</td>\n",
       "      <td>0.000207</td>\n",
       "      <td>0.000201</td>\n",
       "      <td>163016.0</td>\n",
       "      <td>0.000207</td>\n",
       "      <td>0.000147</td>\n",
       "    </tr>\n",
       "    <tr>\n",
       "      <th>2</th>\n",
       "      <td>2000-01-05 00:00:00+00:00</td>\n",
       "      <td>.AEX</td>\n",
       "      <td>633.37</td>\n",
       "      <td>0.000325</td>\n",
       "      <td>632.31</td>\n",
       "      <td>-0.001675</td>\n",
       "      <td>0.000714</td>\n",
       "      <td>0.000324</td>\n",
       "      <td>0.000166</td>\n",
       "      <td>90016.0</td>\n",
       "      <td>0.000491</td>\n",
       "      <td>1801.0</td>\n",
       "      <td>0.000491</td>\n",
       "      <td>0.000328</td>\n",
       "      <td>0.000714</td>\n",
       "      <td>0.000361</td>\n",
       "      <td>0.000345</td>\n",
       "      <td>163016.0</td>\n",
       "      <td>0.000361</td>\n",
       "      <td>0.000328</td>\n",
       "    </tr>\n",
       "    <tr>\n",
       "      <th>3</th>\n",
       "      <td>2000-01-06 00:00:00+00:00</td>\n",
       "      <td>.AEX</td>\n",
       "      <td>632.46</td>\n",
       "      <td>0.000218</td>\n",
       "      <td>624.21</td>\n",
       "      <td>-0.013130</td>\n",
       "      <td>0.000182</td>\n",
       "      <td>0.000219</td>\n",
       "      <td>0.000152</td>\n",
       "      <td>90016.0</td>\n",
       "      <td>0.000225</td>\n",
       "      <td>1799.0</td>\n",
       "      <td>0.000225</td>\n",
       "      <td>0.000116</td>\n",
       "      <td>0.000182</td>\n",
       "      <td>0.000258</td>\n",
       "      <td>0.000221</td>\n",
       "      <td>163002.0</td>\n",
       "      <td>0.000258</td>\n",
       "      <td>0.000116</td>\n",
       "    </tr>\n",
       "    <tr>\n",
       "      <th>4</th>\n",
       "      <td>2000-01-07 00:00:00+00:00</td>\n",
       "      <td>.AEX</td>\n",
       "      <td>628.93</td>\n",
       "      <td>0.000126</td>\n",
       "      <td>644.86</td>\n",
       "      <td>0.025013</td>\n",
       "      <td>0.000157</td>\n",
       "      <td>0.000155</td>\n",
       "      <td>0.000039</td>\n",
       "      <td>90046.0</td>\n",
       "      <td>0.000138</td>\n",
       "      <td>1798.0</td>\n",
       "      <td>0.000138</td>\n",
       "      <td>0.000048</td>\n",
       "      <td>0.000157</td>\n",
       "      <td>0.000130</td>\n",
       "      <td>0.000123</td>\n",
       "      <td>163016.0</td>\n",
       "      <td>0.000130</td>\n",
       "      <td>0.000048</td>\n",
       "    </tr>\n",
       "    <tr>\n",
       "      <th>5</th>\n",
       "      <td>2000-01-10 00:00:00+00:00</td>\n",
       "      <td>.AEX</td>\n",
       "      <td>651.82</td>\n",
       "      <td>0.000074</td>\n",
       "      <td>655.14</td>\n",
       "      <td>0.005081</td>\n",
       "      <td>0.000126</td>\n",
       "      <td>0.000086</td>\n",
       "      <td>0.000032</td>\n",
       "      <td>90146.0</td>\n",
       "      <td>0.000109</td>\n",
       "      <td>1794.0</td>\n",
       "      <td>0.000109</td>\n",
       "      <td>0.000062</td>\n",
       "      <td>0.000126</td>\n",
       "      <td>0.000089</td>\n",
       "      <td>0.000073</td>\n",
       "      <td>163017.0</td>\n",
       "      <td>0.000089</td>\n",
       "      <td>0.000062</td>\n",
       "    </tr>\n",
       "    <tr>\n",
       "      <th>6</th>\n",
       "      <td>2000-01-11 00:00:00+00:00</td>\n",
       "      <td>.AEX</td>\n",
       "      <td>657.11</td>\n",
       "      <td>0.000100</td>\n",
       "      <td>648.94</td>\n",
       "      <td>-0.012511</td>\n",
       "      <td>0.000130</td>\n",
       "      <td>0.000118</td>\n",
       "      <td>0.000068</td>\n",
       "      <td>90033.0</td>\n",
       "      <td>0.000127</td>\n",
       "      <td>1795.0</td>\n",
       "      <td>0.000127</td>\n",
       "      <td>0.000079</td>\n",
       "      <td>0.000130</td>\n",
       "      <td>0.000124</td>\n",
       "      <td>0.000103</td>\n",
       "      <td>170656.0</td>\n",
       "      <td>0.000124</td>\n",
       "      <td>0.000079</td>\n",
       "    </tr>\n",
       "    <tr>\n",
       "      <th>7</th>\n",
       "      <td>2000-01-12 00:00:00+00:00</td>\n",
       "      <td>.AEX</td>\n",
       "      <td>643.12</td>\n",
       "      <td>0.000148</td>\n",
       "      <td>638.40</td>\n",
       "      <td>-0.007366</td>\n",
       "      <td>0.000150</td>\n",
       "      <td>0.000079</td>\n",
       "      <td>0.000085</td>\n",
       "      <td>90101.0</td>\n",
       "      <td>0.000166</td>\n",
       "      <td>1797.0</td>\n",
       "      <td>0.000166</td>\n",
       "      <td>0.000092</td>\n",
       "      <td>0.000150</td>\n",
       "      <td>0.000154</td>\n",
       "      <td>0.000150</td>\n",
       "      <td>163015.0</td>\n",
       "      <td>0.000154</td>\n",
       "      <td>0.000092</td>\n",
       "    </tr>\n",
       "    <tr>\n",
       "      <th>8</th>\n",
       "      <td>2000-01-13 00:00:00+00:00</td>\n",
       "      <td>.AEX</td>\n",
       "      <td>639.78</td>\n",
       "      <td>0.000138</td>\n",
       "      <td>642.21</td>\n",
       "      <td>0.003791</td>\n",
       "      <td>0.000104</td>\n",
       "      <td>0.000127</td>\n",
       "      <td>0.000033</td>\n",
       "      <td>90016.0</td>\n",
       "      <td>0.000154</td>\n",
       "      <td>1801.0</td>\n",
       "      <td>0.000154</td>\n",
       "      <td>0.000051</td>\n",
       "      <td>0.000104</td>\n",
       "      <td>0.000129</td>\n",
       "      <td>0.000138</td>\n",
       "      <td>163017.0</td>\n",
       "      <td>0.000129</td>\n",
       "      <td>0.000051</td>\n",
       "    </tr>\n",
       "    <tr>\n",
       "      <th>9</th>\n",
       "      <td>2000-01-14 00:00:00+00:00</td>\n",
       "      <td>.AEX</td>\n",
       "      <td>647.74</td>\n",
       "      <td>0.000104</td>\n",
       "      <td>655.60</td>\n",
       "      <td>0.012061</td>\n",
       "      <td>0.000071</td>\n",
       "      <td>0.000103</td>\n",
       "      <td>0.000050</td>\n",
       "      <td>90045.0</td>\n",
       "      <td>0.000097</td>\n",
       "      <td>1799.0</td>\n",
       "      <td>0.000097</td>\n",
       "      <td>0.000032</td>\n",
       "      <td>0.000071</td>\n",
       "      <td>0.000104</td>\n",
       "      <td>0.000104</td>\n",
       "      <td>163016.0</td>\n",
       "      <td>0.000104</td>\n",
       "      <td>0.000032</td>\n",
       "    </tr>\n",
       "  </tbody>\n",
       "</table>\n",
       "</div>"
      ],
      "text/plain": [
       "                  Unnamed: 0 Symbol  open_price  rk_twoscale  close_price  \\\n",
       "0  2000-01-03 00:00:00+00:00   .AEX      675.67     0.000103       675.44   \n",
       "1  2000-01-04 00:00:00+00:00   .AEX      664.20     0.000199       642.25   \n",
       "2  2000-01-05 00:00:00+00:00   .AEX      633.37     0.000325       632.31   \n",
       "3  2000-01-06 00:00:00+00:00   .AEX      632.46     0.000218       624.21   \n",
       "4  2000-01-07 00:00:00+00:00   .AEX      628.93     0.000126       644.86   \n",
       "5  2000-01-10 00:00:00+00:00   .AEX      651.82     0.000074       655.14   \n",
       "6  2000-01-11 00:00:00+00:00   .AEX      657.11     0.000100       648.94   \n",
       "7  2000-01-12 00:00:00+00:00   .AEX      643.12     0.000148       638.40   \n",
       "8  2000-01-13 00:00:00+00:00   .AEX      639.78     0.000138       642.21   \n",
       "9  2000-01-14 00:00:00+00:00   .AEX      647.74     0.000104       655.60   \n",
       "\n",
       "   open_to_close   rv10_ss  rk_parzen     medrv  open_time       rv5    nobs  \\\n",
       "0      -0.000340  0.000178   0.000179  0.000050    90101.0  0.000130  1795.0   \n",
       "1      -0.033606  0.000261   0.000423  0.000075    90416.0  0.000201  1785.0   \n",
       "2      -0.001675  0.000714   0.000324  0.000166    90016.0  0.000491  1801.0   \n",
       "3      -0.013130  0.000182   0.000219  0.000152    90016.0  0.000225  1799.0   \n",
       "4       0.025013  0.000157   0.000155  0.000039    90046.0  0.000138  1798.0   \n",
       "5       0.005081  0.000126   0.000086  0.000032    90146.0  0.000109  1794.0   \n",
       "6      -0.012511  0.000130   0.000118  0.000068    90033.0  0.000127  1795.0   \n",
       "7      -0.007366  0.000150   0.000079  0.000085    90101.0  0.000166  1797.0   \n",
       "8       0.003791  0.000104   0.000127  0.000033    90016.0  0.000154  1801.0   \n",
       "9       0.012061  0.000071   0.000103  0.000050    90045.0  0.000097  1799.0   \n",
       "\n",
       "     rv5_ss       rsv      rv10        bv    rk_th2  close_time     bv_ss  \\\n",
       "0  0.000130  0.000046  0.000178  0.000100  0.000102    163015.0  0.000100   \n",
       "1  0.000201  0.000147  0.000261  0.000207  0.000201    163016.0  0.000207   \n",
       "2  0.000491  0.000328  0.000714  0.000361  0.000345    163016.0  0.000361   \n",
       "3  0.000225  0.000116  0.000182  0.000258  0.000221    163002.0  0.000258   \n",
       "4  0.000138  0.000048  0.000157  0.000130  0.000123    163016.0  0.000130   \n",
       "5  0.000109  0.000062  0.000126  0.000089  0.000073    163017.0  0.000089   \n",
       "6  0.000127  0.000079  0.000130  0.000124  0.000103    170656.0  0.000124   \n",
       "7  0.000166  0.000092  0.000150  0.000154  0.000150    163015.0  0.000154   \n",
       "8  0.000154  0.000051  0.000104  0.000129  0.000138    163017.0  0.000129   \n",
       "9  0.000097  0.000032  0.000071  0.000104  0.000104    163016.0  0.000104   \n",
       "\n",
       "     rsv_ss  \n",
       "0  0.000046  \n",
       "1  0.000147  \n",
       "2  0.000328  \n",
       "3  0.000116  \n",
       "4  0.000048  \n",
       "5  0.000062  \n",
       "6  0.000079  \n",
       "7  0.000092  \n",
       "8  0.000051  \n",
       "9  0.000032  "
      ]
     },
     "execution_count": 4,
     "metadata": {},
     "output_type": "execute_result"
    }
   ],
   "source": [
    "data.head(10)"
   ]
  },
  {
   "cell_type": "code",
   "execution_count": 5,
   "metadata": {},
   "outputs": [],
   "source": [
    "spx_rkth2 = data.query('Symbol==\".SPX\"').rk_th2.values"
   ]
  },
  {
   "cell_type": "code",
   "execution_count": 6,
   "metadata": {},
   "outputs": [],
   "source": [
    "spx_rkth2_vol = np.sqrt(spx_rkth2)"
   ]
  },
  {
   "cell_type": "code",
   "execution_count": 7,
   "metadata": {},
   "outputs": [],
   "source": [
    "armodel = ArVol(p=200)"
   ]
  },
  {
   "cell_type": "code",
   "execution_count": 8,
   "metadata": {},
   "outputs": [],
   "source": [
    "armodel.fit(spx_rkth2_vol)"
   ]
  },
  {
   "cell_type": "code",
   "execution_count": 9,
   "metadata": {},
   "outputs": [],
   "source": [
    "roughmodel = RoughVol()"
   ]
  },
  {
   "cell_type": "code",
   "execution_count": 10,
   "metadata": {},
   "outputs": [
    {
     "data": {
      "text/plain": [
       "0.14818299271225976"
      ]
     },
     "execution_count": 10,
     "metadata": {},
     "output_type": "execute_result"
    }
   ],
   "source": [
    "roughmodel.fit(spx_rkth2_vol)"
   ]
  },
  {
   "cell_type": "code",
   "execution_count": 11,
   "metadata": {},
   "outputs": [
    {
     "data": {
      "text/plain": [
       "Text(0.5,1,'RoughVol vs AR')"
      ]
     },
     "execution_count": 11,
     "metadata": {},
     "output_type": "execute_result"
    },
    {
     "data": {
      "image/png": "[encoded data removed]",
      "text/plain": [
       "<Figure size 576x576 with 1 Axes>"
      ]
     },
     "metadata": {},
     "output_type": "display_data"
    }
   ],
   "source": [
    "plt.figure(figsize=(8,8))\n",
    "plt.plot(armodel.params(show_intercept=False))\n",
    "plt.plot(roughmodel.kernal())\n",
    "plt.legend([f'{armodel}',f'{roughmodel}'])\n",
    "plt.xlabel('lag')\n",
    "plt.ylabel('kernel')\n",
    "plt.title('RoughVol vs AR')"
   ]
  },
  {
   "cell_type": "code",
   "execution_count": 12,
   "metadata": {},
   "outputs": [
    {
     "data": {
      "text/plain": [
       "Text(0.5,1,'RoughVol vs AR')"
      ]
     },
     "execution_count": 12,
     "metadata": {},
     "output_type": "execute_result"
    },
    {
     "data": {
      "image/png": "[encoded data removed]",
      "text/plain": [
       "<Figure size 576x576 with 1 Axes>"
      ]
     },
     "metadata": {},
     "output_type": "display_data"
    }
   ],
   "source": [
    "plt.figure(figsize=(8,8))\n",
    "plt.plot(armodel.params(show_intercept=False)[:10])\n",
    "plt.plot(roughmodel.kernal()[:10])\n",
    "plt.legend([f'{armodel}',f'{roughmodel}'])\n",
    "plt.xlabel('lag')\n",
    "plt.ylabel('kernel')\n",
    "plt.title('RoughVol vs AR')"
   ]
  },
  {
   "cell_type": "code",
   "execution_count": null,
   "metadata": {},
   "outputs": [],
   "source": []
  }
 ],
 "metadata": {
  "kernelspec": {
   "display_name": "Python 3",
   "language": "python",
   "name": "python3"
  },
  "language_info": {
   "codemirror_mode": {
    "name": "ipython",
    "version": 3
   },
   "file_extension": ".py",
   "mimetype": "text/x-python",
   "name": "python",
   "nbconvert_exporter": "python",
   "pygments_lexer": "ipython3",
   "version": "3.6.7"
  },
  "toc": {
   "base_numbering": 1,
   "nav_menu": {},
   "number_sections": true,
   "sideBar": true,
   "skip_h1_title": false,
   "title_cell": "Table of Contents",
   "title_sidebar": "Contents",
   "toc_cell": false,
   "toc_position": {},
   "toc_section_display": true,
   "toc_window_display": false
  }
 },
 "nbformat": 4,
 "nbformat_minor": 2
}
