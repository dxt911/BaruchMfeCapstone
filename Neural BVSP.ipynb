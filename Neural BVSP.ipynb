{
 "cells": [
  {
   "cell_type": "code",
   "execution_count": 1,
   "metadata": {},
   "outputs": [
    {
     "data": {
      "text/html": [
       "<style>.container { width:100% !important; }</style>"
      ],
      "text/plain": [
       "<IPython.core.display.HTML object>"
      ]
     },
     "metadata": {},
     "output_type": "display_data"
    }
   ],
   "source": [
    "from IPython.core.display import display, HTML\n",
    "display(HTML(\"<style>.container { width:100% !important; }</style>\"))"
   ]
  },
  {
   "cell_type": "code",
   "execution_count": 2,
   "metadata": {},
   "outputs": [],
   "source": [
    "from utils.neural_net import NeuralNetVol, ResNeuralNetVol, ResNeuralNetVolSd\n",
    "import pandas as pd\n",
    "import numpy as np\n",
    "import matplotlib.pyplot as plt\n",
    "from tqdm import tqdm_notebook as tqdm\n",
    "from utils.rough_vol import RoughVol"
   ]
  },
  {
   "cell_type": "code",
   "execution_count": 3,
   "metadata": {},
   "outputs": [],
   "source": [
    "data = pd.read_csv('oxfordmanrealizedvolatilityindices.csv')"
   ]
  },
  {
   "cell_type": "code",
   "execution_count": 4,
   "metadata": {},
   "outputs": [
    {
     "data": {
      "text/html": [
       "<div>\n",
       "<style scoped>\n",
       "    .dataframe tbody tr th:only-of-type {\n",
       "        vertical-align: middle;\n",
       "    }\n",
       "\n",
       "    .dataframe tbody tr th {\n",
       "        vertical-align: top;\n",
       "    }\n",
       "\n",
       "    .dataframe thead th {\n",
       "        text-align: right;\n",
       "    }\n",
       "</style>\n",
       "<table border=\"1\" class=\"dataframe\">\n",
       "  <thead>\n",
       "    <tr style=\"text-align: right;\">\n",
       "      <th></th>\n",
       "      <th>Unnamed: 0</th>\n",
       "      <th>Symbol</th>\n",
       "      <th>open_price</th>\n",
       "      <th>rk_twoscale</th>\n",
       "      <th>close_price</th>\n",
       "      <th>open_to_close</th>\n",
       "      <th>rv10_ss</th>\n",
       "      <th>rk_parzen</th>\n",
       "      <th>medrv</th>\n",
       "      <th>open_time</th>\n",
       "      <th>rv5</th>\n",
       "      <th>nobs</th>\n",
       "      <th>rv5_ss</th>\n",
       "      <th>rsv</th>\n",
       "      <th>rv10</th>\n",
       "      <th>bv</th>\n",
       "      <th>rk_th2</th>\n",
       "      <th>close_time</th>\n",
       "      <th>bv_ss</th>\n",
       "      <th>rsv_ss</th>\n",
       "    </tr>\n",
       "  </thead>\n",
       "  <tbody>\n",
       "    <tr>\n",
       "      <th>0</th>\n",
       "      <td>2000-01-03 00:00:00+00:00</td>\n",
       "      <td>.AEX</td>\n",
       "      <td>675.67</td>\n",
       "      <td>0.000103</td>\n",
       "      <td>675.44</td>\n",
       "      <td>-0.000340</td>\n",
       "      <td>0.000178</td>\n",
       "      <td>0.000179</td>\n",
       "      <td>0.000050</td>\n",
       "      <td>90101.0</td>\n",
       "      <td>0.000130</td>\n",
       "      <td>1795.0</td>\n",
       "      <td>0.000130</td>\n",
       "      <td>0.000046</td>\n",
       "      <td>0.000178</td>\n",
       "      <td>0.000100</td>\n",
       "      <td>0.000102</td>\n",
       "      <td>163015.0</td>\n",
       "      <td>0.000100</td>\n",
       "      <td>0.000046</td>\n",
       "    </tr>\n",
       "    <tr>\n",
       "      <th>1</th>\n",
       "      <td>2000-01-04 00:00:00+00:00</td>\n",
       "      <td>.AEX</td>\n",
       "      <td>664.20</td>\n",
       "      <td>0.000199</td>\n",
       "      <td>642.25</td>\n",
       "      <td>-0.033606</td>\n",
       "      <td>0.000261</td>\n",
       "      <td>0.000423</td>\n",
       "      <td>0.000075</td>\n",
       "      <td>90416.0</td>\n",
       "      <td>0.000201</td>\n",
       "      <td>1785.0</td>\n",
       "      <td>0.000201</td>\n",
       "      <td>0.000147</td>\n",
       "      <td>0.000261</td>\n",
       "      <td>0.000207</td>\n",
       "      <td>0.000201</td>\n",
       "      <td>163016.0</td>\n",
       "      <td>0.000207</td>\n",
       "      <td>0.000147</td>\n",
       "    </tr>\n",
       "    <tr>\n",
       "      <th>2</th>\n",
       "      <td>2000-01-05 00:00:00+00:00</td>\n",
       "      <td>.AEX</td>\n",
       "      <td>633.37</td>\n",
       "      <td>0.000325</td>\n",
       "      <td>632.31</td>\n",
       "      <td>-0.001675</td>\n",
       "      <td>0.000714</td>\n",
       "      <td>0.000324</td>\n",
       "      <td>0.000166</td>\n",
       "      <td>90016.0</td>\n",
       "      <td>0.000491</td>\n",
       "      <td>1801.0</td>\n",
       "      <td>0.000491</td>\n",
       "      <td>0.000328</td>\n",
       "      <td>0.000714</td>\n",
       "      <td>0.000361</td>\n",
       "      <td>0.000345</td>\n",
       "      <td>163016.0</td>\n",
       "      <td>0.000361</td>\n",
       "      <td>0.000328</td>\n",
       "    </tr>\n",
       "    <tr>\n",
       "      <th>3</th>\n",
       "      <td>2000-01-06 00:00:00+00:00</td>\n",
       "      <td>.AEX</td>\n",
       "      <td>632.46</td>\n",
       "      <td>0.000218</td>\n",
       "      <td>624.21</td>\n",
       "      <td>-0.013130</td>\n",
       "      <td>0.000182</td>\n",
       "      <td>0.000219</td>\n",
       "      <td>0.000152</td>\n",
       "      <td>90016.0</td>\n",
       "      <td>0.000225</td>\n",
       "      <td>1799.0</td>\n",
       "      <td>0.000225</td>\n",
       "      <td>0.000116</td>\n",
       "      <td>0.000182</td>\n",
       "      <td>0.000258</td>\n",
       "      <td>0.000221</td>\n",
       "      <td>163002.0</td>\n",
       "      <td>0.000258</td>\n",
       "      <td>0.000116</td>\n",
       "    </tr>\n",
       "    <tr>\n",
       "      <th>4</th>\n",
       "      <td>2000-01-07 00:00:00+00:00</td>\n",
       "      <td>.AEX</td>\n",
       "      <td>628.93</td>\n",
       "      <td>0.000126</td>\n",
       "      <td>644.86</td>\n",
       "      <td>0.025013</td>\n",
       "      <td>0.000157</td>\n",
       "      <td>0.000155</td>\n",
       "      <td>0.000039</td>\n",
       "      <td>90046.0</td>\n",
       "      <td>0.000138</td>\n",
       "      <td>1798.0</td>\n",
       "      <td>0.000138</td>\n",
       "      <td>0.000048</td>\n",
       "      <td>0.000157</td>\n",
       "      <td>0.000130</td>\n",
       "      <td>0.000123</td>\n",
       "      <td>163016.0</td>\n",
       "      <td>0.000130</td>\n",
       "      <td>0.000048</td>\n",
       "    </tr>\n",
       "  </tbody>\n",
       "</table>\n",
       "</div>"
      ],
      "text/plain": [
       "                  Unnamed: 0 Symbol  open_price  rk_twoscale  close_price  \\\n",
       "0  2000-01-03 00:00:00+00:00   .AEX      675.67     0.000103       675.44   \n",
       "1  2000-01-04 00:00:00+00:00   .AEX      664.20     0.000199       642.25   \n",
       "2  2000-01-05 00:00:00+00:00   .AEX      633.37     0.000325       632.31   \n",
       "3  2000-01-06 00:00:00+00:00   .AEX      632.46     0.000218       624.21   \n",
       "4  2000-01-07 00:00:00+00:00   .AEX      628.93     0.000126       644.86   \n",
       "\n",
       "   open_to_close   rv10_ss  rk_parzen     medrv  open_time       rv5    nobs  \\\n",
       "0      -0.000340  0.000178   0.000179  0.000050    90101.0  0.000130  1795.0   \n",
       "1      -0.033606  0.000261   0.000423  0.000075    90416.0  0.000201  1785.0   \n",
       "2      -0.001675  0.000714   0.000324  0.000166    90016.0  0.000491  1801.0   \n",
       "3      -0.013130  0.000182   0.000219  0.000152    90016.0  0.000225  1799.0   \n",
       "4       0.025013  0.000157   0.000155  0.000039    90046.0  0.000138  1798.0   \n",
       "\n",
       "     rv5_ss       rsv      rv10        bv    rk_th2  close_time     bv_ss  \\\n",
       "0  0.000130  0.000046  0.000178  0.000100  0.000102    163015.0  0.000100   \n",
       "1  0.000201  0.000147  0.000261  0.000207  0.000201    163016.0  0.000207   \n",
       "2  0.000491  0.000328  0.000714  0.000361  0.000345    163016.0  0.000361   \n",
       "3  0.000225  0.000116  0.000182  0.000258  0.000221    163002.0  0.000258   \n",
       "4  0.000138  0.000048  0.000157  0.000130  0.000123    163016.0  0.000130   \n",
       "\n",
       "     rsv_ss  \n",
       "0  0.000046  \n",
       "1  0.000147  \n",
       "2  0.000328  \n",
       "3  0.000116  \n",
       "4  0.000048  "
      ]
     },
     "execution_count": 4,
     "metadata": {},
     "output_type": "execute_result"
    }
   ],
   "source": [
    "data.head()"
   ]
  },
  {
   "cell_type": "code",
   "execution_count": 5,
   "metadata": {},
   "outputs": [
    {
     "data": {
      "text/plain": [
       "array(['.AEX', '.AORD', '.BFX', '.BSESN', '.BVLG', '.BVSP', '.DJI',\n",
       "       '.FCHI', '.FTMIB', '.FTSE', '.GDAXI', '.GSPTSE', '.HSI', '.IBEX',\n",
       "       '.IXIC', '.KS11', '.KSE', '.MXX', '.N225', '.NSEI', '.OMXC20',\n",
       "       '.OMXHPI', '.OMXSPI', '.OSEAX', '.RUT', '.SMSI', '.SPX', '.SSEC',\n",
       "       '.SSMI', '.STI', '.STOXX50E'], dtype=object)"
      ]
     },
     "execution_count": 5,
     "metadata": {},
     "output_type": "execute_result"
    }
   ],
   "source": [
    "data.Symbol.unique()"
   ]
  },
  {
   "cell_type": "code",
   "execution_count": 22,
   "metadata": {},
   "outputs": [],
   "source": [
    "spx_rkth2 = np.sqrt(data.query('Symbol==\".BVSP\"').rk_th2.values)"
   ]
  },
  {
   "cell_type": "code",
   "execution_count": 23,
   "metadata": {},
   "outputs": [],
   "source": [
    "nnet_model = ResNeuralNetVol(hiddenlayer=[])\n",
    "roughvol_model = RoughVol(fit_period=200)"
   ]
  },
  {
   "cell_type": "code",
   "execution_count": 24,
   "metadata": {},
   "outputs": [
    {
     "data": {
      "text/plain": [
       "4873"
      ]
     },
     "execution_count": 24,
     "metadata": {},
     "output_type": "execute_result"
    }
   ],
   "source": [
    "spx_rkth2.__len__()"
   ]
  },
  {
   "cell_type": "code",
   "execution_count": 25,
   "metadata": {},
   "outputs": [
    {
     "data": {
      "application/vnd.jupyter.widget-view+json": {
       "model_id": "8202e1387f9a4bde8f323789019d3686",
       "version_major": 2,
       "version_minor": 0
      },
      "text/plain": [
       "HBox(children=(IntProgress(value=0, max=30000), HTML(value='')))"
      ]
     },
     "metadata": {},
     "output_type": "display_data"
    },
    {
     "name": "stdout",
     "output_type": "stream",
     "text": [
      "\n"
     ]
    },
    {
     "data": {
      "image/png": "[encoded data removed]",
      "text/plain": [
       "<Figure size 576x576 with 1 Axes>"
      ]
     },
     "metadata": {},
     "output_type": "display_data"
    },
    {
     "data": {
      "text/plain": [
       "82.90779113769531"
      ]
     },
     "execution_count": 25,
     "metadata": {},
     "output_type": "execute_result"
    }
   ],
   "source": [
    "nnet_model.fit(spx_rkth2[:3000], draw_loss=True,steps=30000, lrs=[1e-3])"
   ]
  },
  {
   "cell_type": "code",
   "execution_count": 26,
   "metadata": {},
   "outputs": [
    {
     "data": {
      "text/plain": [
       "0.1246913985612259"
      ]
     },
     "execution_count": 26,
     "metadata": {},
     "output_type": "execute_result"
    }
   ],
   "source": [
    "roughvol_model.fit(spx_rkth2[:3000])"
   ]
  },
  {
   "cell_type": "code",
   "execution_count": 27,
   "metadata": {},
   "outputs": [
    {
     "data": {
      "text/plain": [
       "array([[0.00770016, 0.00846388, 0.00774465, ..., 0.01255355, 0.01192901,\n",
       "        0.01132122],\n",
       "       [0.00736665, 0.00700711, 0.0069839 , ..., 0.01214952, 0.0111226 ,\n",
       "        0.01143272],\n",
       "       [0.0065567 , 0.00662724, 0.00678609, ..., 0.01108017, 0.01139262,\n",
       "        0.01161825],\n",
       "       ...,\n",
       "       [0.01091359, 0.00928909, 0.00965195, ..., 0.01040156, 0.01200435,\n",
       "        0.01067753],\n",
       "       [0.00838899, 0.00887975, 0.01016052, ..., 0.0119988 , 0.01059917,\n",
       "        0.01040091],\n",
       "       [0.00907546, 0.01035273, 0.01100119, ..., 0.01060874, 0.0104234 ,\n",
       "        0.01059595]])"
      ]
     },
     "execution_count": 27,
     "metadata": {},
     "output_type": "execute_result"
    }
   ],
   "source": [
    "nnet_model.predict(spx_rkth2[3000:4000])"
   ]
  },
  {
   "cell_type": "code",
   "execution_count": 28,
   "metadata": {},
   "outputs": [
    {
     "data": {
      "application/vnd.jupyter.widget-view+json": {
       "model_id": "866f07c04353417981e7f641e1f0eea8",
       "version_major": 2,
       "version_minor": 0
      },
      "text/plain": [
       "HBox(children=(IntProgress(value=0), HTML(value='')))"
      ]
     },
     "metadata": {},
     "output_type": "display_data"
    },
    {
     "name": "stdout",
     "output_type": "stream",
     "text": [
      "\n"
     ]
    }
   ],
   "source": [
    "result=[]\n",
    "for i in tqdm(range(100)):\n",
    "    forward = i+1\n",
    "    roughvol_model.forward = forward\n",
    "    result.append(roughvol_model.predict(spx_rkth2[3000:4000]))\n",
    "roughvol_result = np.array(result).T"
   ]
  },
  {
   "cell_type": "code",
   "execution_count": 29,
   "metadata": {},
   "outputs": [],
   "source": [
    "nnet_result=nnet_model.predict(spx_rkth2[3000:4000])"
   ]
  },
  {
   "cell_type": "code",
   "execution_count": 30,
   "metadata": {},
   "outputs": [
    {
     "data": {
      "text/plain": [
       "array([0.00579335, 0.00637025, 0.00621733, 0.00740418, 0.00828147,\n",
       "       0.00804944, 0.00789597, 0.00913655, 0.00629964, 0.00683252,\n",
       "       0.00539602, 0.00570529, 0.00577413, 0.00563416, 0.00329069,\n",
       "       0.00470649, 0.00535628, 0.01000427, 0.00901092, 0.00918161,\n",
       "       0.00951405, 0.00971575, 0.00769982, 0.00707569, 0.00715435,\n",
       "       0.00722801, 0.00859039, 0.00881216, 0.00776695, 0.00410978,\n",
       "       0.00643262, 0.00549719, 0.0066396 , 0.00894772, 0.01090572,\n",
       "       0.00931575, 0.0096033 , 0.01067291, 0.00973013, 0.00923797,\n",
       "       0.0105103 , 0.00713881, 0.00840263, 0.01056291, 0.01071181,\n",
       "       0.01026844, 0.00870878, 0.00785466, 0.01144174, 0.01095043,\n",
       "       0.00816971, 0.00825214, 0.00963421, 0.00693953, 0.00708547,\n",
       "       0.00753419, 0.00780086, 0.00755452, 0.00758363, 0.0061688 ,\n",
       "       0.00573343, 0.0077763 , 0.00978088, 0.00841525, 0.01277649,\n",
       "       0.01029021, 0.00919934, 0.0110469 , 0.00739921, 0.01602754,\n",
       "       0.01015415, 0.0118253 , 0.01223904, 0.01029543, 0.00907095,\n",
       "       0.00839936, 0.011006  , 0.00668583, 0.00939073, 0.00794982,\n",
       "       0.00978335, 0.00979038, 0.00965031, 0.0076811 , 0.00852473,\n",
       "       0.00851061, 0.00922314, 0.01071626, 0.00859386, 0.00683175,\n",
       "       0.00895489, 0.00815944, 0.00970436, 0.00639481, 0.00786216,\n",
       "       0.00799126, 0.01120061, 0.01040982, 0.00848735, 0.00443316,\n",
       "       0.00750184, 0.00884445, 0.0127379 , 0.01056381, 0.00808766,\n",
       "       0.01049242, 0.00897453, 0.01152746, 0.01221757, 0.01261503,\n",
       "       0.01341033, 0.01094593, 0.01117176, 0.01167948, 0.01210976,\n",
       "       0.01747765, 0.02286615, 0.01552484, 0.01586729, 0.01227169,\n",
       "       0.01028734, 0.01206043, 0.01186696, 0.01045055, 0.01440672,\n",
       "       0.01539084, 0.00905701, 0.01748217, 0.01246002, 0.01085001,\n",
       "       0.00933232, 0.00882864, 0.01129161, 0.00968987, 0.00957775,\n",
       "       0.01000032, 0.00693235, 0.00983766, 0.0084093 , 0.00871423,\n",
       "       0.01064118, 0.00939834, 0.00755032, 0.00783967, 0.0107211 ,\n",
       "       0.00815195, 0.0098037 , 0.00850109, 0.01024689, 0.00854266,\n",
       "       0.01390732, 0.01323877, 0.0132802 , 0.01249491, 0.01312618,\n",
       "       0.01252996, 0.0100999 , 0.01023743, 0.00928839, 0.01564269,\n",
       "       0.01078339, 0.01091569, 0.01001657, 0.00921908, 0.01124902,\n",
       "       0.01065567, 0.01233953, 0.00873711, 0.01091577, 0.01026007,\n",
       "       0.01106568, 0.01347791, 0.00901015, 0.01013036, 0.01071868,\n",
       "       0.00922752, 0.00915744, 0.00899149, 0.00919958, 0.01467142,\n",
       "       0.01052626, 0.00754939, 0.00823418, 0.0085233 , 0.00797716,\n",
       "       0.00936449, 0.00855311, 0.00890866, 0.00860136, 0.0096496 ,\n",
       "       0.00864939, 0.00756269, 0.00822943, 0.00831213, 0.01059755,\n",
       "       0.00960675, 0.0075534 , 0.00837256, 0.01104724, 0.0163245 ,\n",
       "       0.01135782, 0.00813518, 0.00992765, 0.00936022, 0.00945855,\n",
       "       0.01156631, 0.01213972, 0.00918497, 0.01150738, 0.01039008,\n",
       "       0.01172074, 0.00962011, 0.00576244, 0.00741076, 0.00687973,\n",
       "       0.01144397, 0.01291038, 0.00639273, 0.01072484, 0.00813402,\n",
       "       0.00874315, 0.00647673, 0.00771947, 0.00731315, 0.00805012,\n",
       "       0.00849304, 0.01047463, 0.00868604, 0.00908595, 0.00831876,\n",
       "       0.00892976, 0.01075637, 0.01031369, 0.0105127 , 0.01236434,\n",
       "       0.00572453, 0.00518554, 0.00705661, 0.0076892 , 0.006034  ,\n",
       "       0.00617036, 0.00706133, 0.00615917, 0.00827329, 0.00592121,\n",
       "       0.00598588, 0.0040254 , 0.00367768, 0.00709822, 0.00832061,\n",
       "       0.00932245, 0.00835148, 0.00934904, 0.00718001, 0.00804979,\n",
       "       0.01123991, 0.00771809, 0.00681897, 0.00691391, 0.00801743,\n",
       "       0.00646805, 0.00431658, 0.00681519, 0.00770757, 0.00984869,\n",
       "       0.0098321 , 0.01229692, 0.00818267, 0.00940084, 0.01056009,\n",
       "       0.00956754, 0.00965434, 0.00973602, 0.01089949, 0.01239385,\n",
       "       0.01407602, 0.00849643, 0.01138536, 0.00841647, 0.00869467,\n",
       "       0.00748254, 0.00610116, 0.00941602, 0.01422167, 0.01256354,\n",
       "       0.00992347, 0.00930071, 0.00869972, 0.01000474, 0.00933583,\n",
       "       0.00998976, 0.00842792, 0.00839743, 0.01004729, 0.00867774,\n",
       "       0.01010149, 0.0081163 , 0.00783084, 0.00874755, 0.0068091 ,\n",
       "       0.00828293, 0.01378785, 0.01300317, 0.01023889, 0.01008398,\n",
       "       0.00880043, 0.00624092, 0.0098102 , 0.01030134, 0.0063797 ,\n",
       "       0.00697549, 0.01204065, 0.01005183, 0.00995981, 0.00865833,\n",
       "       0.01399194, 0.01293765, 0.00942355, 0.01185529, 0.00832652,\n",
       "       0.0114319 , 0.00991532, 0.01075945, 0.00855497, 0.00721967,\n",
       "       0.00812339, 0.00718911, 0.00822791, 0.00674012, 0.00865533,\n",
       "       0.00839225, 0.00666348, 0.00813021, 0.00691596, 0.00825641,\n",
       "       0.00836387, 0.00524639, 0.00742316, 0.00547784, 0.00564916,\n",
       "       0.00540469, 0.00496414, 0.01140378, 0.00836931, 0.00956298,\n",
       "       0.00617178, 0.00448156, 0.00805362, 0.00781588, 0.00721089,\n",
       "       0.00674664, 0.00721471, 0.00517349, 0.00484969, 0.00583566,\n",
       "       0.00628822, 0.00695978, 0.00847775, 0.00658621, 0.00567303,\n",
       "       0.00531612, 0.00372625, 0.00834131, 0.00488962, 0.00356372,\n",
       "       0.00720613, 0.00743372, 0.00652704, 0.0063691 , 0.00654454,\n",
       "       0.00744559, 0.0072757 , 0.00725864, 0.0032188 , 0.00560838,\n",
       "       0.00509201, 0.00636915, 0.00650438, 0.00519114, 0.00544037,\n",
       "       0.0061604 , 0.01184073, 0.00689803, 0.00652598, 0.00641572,\n",
       "       0.00620679, 0.00675967, 0.00488291, 0.00643768, 0.00526399,\n",
       "       0.00768992, 0.00795213, 0.00824423, 0.00747712, 0.00827545,\n",
       "       0.008388  , 0.00858739, 0.00645691, 0.00577294, 0.00587355,\n",
       "       0.02345159, 0.00739283, 0.00822784, 0.00689085, 0.00628828,\n",
       "       0.00806054, 0.00720368, 0.00582991, 0.00580628, 0.00802097,\n",
       "       0.00650812, 0.00677877, 0.007041  , 0.00947089, 0.00906386,\n",
       "       0.0093997 , 0.00850987, 0.00781565, 0.01175416, 0.01195998,\n",
       "       0.00980305, 0.00955758, 0.01140197, 0.00956179, 0.01340118,\n",
       "       0.0133782 , 0.00989407, 0.00951681, 0.01034972, 0.01376194,\n",
       "       0.00910231, 0.01011711, 0.00837879, 0.01113226, 0.01094252,\n",
       "       0.01171863, 0.01544229, 0.01133258, 0.01477647, 0.01119533,\n",
       "       0.01688583, 0.01420367, 0.01323843, 0.01231763, 0.01344296,\n",
       "       0.01698652, 0.02099073, 0.01470895, 0.01467239, 0.01421138,\n",
       "       0.01391877, 0.0160644 , 0.02023252, 0.03711902, 0.01446158,\n",
       "       0.01452129, 0.01220854, 0.01475012, 0.01503604, 0.01364331,\n",
       "       0.01036778, 0.01131755, 0.01123044, 0.0086794 , 0.00864122,\n",
       "       0.01192266, 0.01072946, 0.01298411, 0.01132369, 0.01224555,\n",
       "       0.01279432, 0.01961687, 0.01713427, 0.01344434, 0.00995924,\n",
       "       0.01813035, 0.01041779, 0.01612008, 0.01451083, 0.01024032,\n",
       "       0.01237233, 0.01276816, 0.01105703, 0.01349371, 0.01144426,\n",
       "       0.01268221, 0.01358641, 0.01786942, 0.02222609, 0.01809707,\n",
       "       0.01711779, 0.01254358, 0.01513181, 0.01274605, 0.00914068,\n",
       "       0.01049425, 0.01035659, 0.01379454, 0.01117441, 0.01311876,\n",
       "       0.01165017, 0.01250097, 0.01262704, 0.01000967, 0.01343444,\n",
       "       0.01317321, 0.01215573, 0.01107197, 0.01167292, 0.01039098,\n",
       "       0.0129429 , 0.01642293, 0.01026148, 0.01024247, 0.01362045,\n",
       "       0.01219837, 0.01479666, 0.01143234, 0.01288005, 0.01139037,\n",
       "       0.0159534 , 0.01201841, 0.01075944, 0.00919996, 0.01157491,\n",
       "       0.01052672, 0.00873428, 0.00855883, 0.01222705, 0.00898234,\n",
       "       0.0095953 , 0.00990647, 0.0106555 , 0.00805664, 0.00867012,\n",
       "       0.01170151, 0.00925885, 0.00788792, 0.00896696, 0.00731094,\n",
       "       0.00782537, 0.00701527, 0.01107323, 0.00725424, 0.00883621,\n",
       "       0.01052999, 0.00715369, 0.00862222, 0.01157468, 0.01033376,\n",
       "       0.01009068, 0.00899121, 0.00868264, 0.00968872, 0.0095015 ,\n",
       "       0.01034444, 0.00675383, 0.00951125, 0.00766431, 0.00813167,\n",
       "       0.00760041, 0.00762465, 0.00985203, 0.00894082, 0.0071249 ,\n",
       "       0.00786756, 0.00829622, 0.0074704 , 0.00761497, 0.00756897,\n",
       "       0.00716299, 0.00636111, 0.0083526 , 0.00841528, 0.00880736,\n",
       "       0.00982613, 0.00850593, 0.00936829, 0.00703245, 0.00720357,\n",
       "       0.00961654, 0.00839087, 0.00801072, 0.00865917, 0.00719436,\n",
       "       0.00629287, 0.0087254 , 0.00666637, 0.00841956, 0.00771041,\n",
       "       0.00920379, 0.00833276, 0.00796823, 0.01053343, 0.0083976 ,\n",
       "       0.0086379 , 0.00831941, 0.00916496, 0.00796925, 0.00688104,\n",
       "       0.00849401, 0.00863589, 0.00685121, 0.00594618, 0.00687732,\n",
       "       0.00741145, 0.00597569, 0.00530445, 0.00629332, 0.01016997,\n",
       "       0.00802927, 0.0076997 , 0.00597594, 0.00489716, 0.00580166,\n",
       "       0.00816086, 0.00724811, 0.00857689, 0.009715  , 0.00773308,\n",
       "       0.00653348, 0.00640156, 0.00755097, 0.01015642, 0.009333  ,\n",
       "       0.00744041, 0.00672121, 0.00720345, 0.00695203, 0.00614196,\n",
       "       0.00710465, 0.00608555, 0.00797398, 0.00642286, 0.00902321,\n",
       "       0.00954826, 0.00950902, 0.01742428, 0.01101352, 0.00980995,\n",
       "       0.00942827, 0.00775521, 0.0064837 , 0.00832052, 0.01060389,\n",
       "       0.00840432, 0.00829709, 0.00908533, 0.01102051, 0.00847352,\n",
       "       0.00706383, 0.00784154, 0.01417764, 0.01184103, 0.01201092,\n",
       "       0.01185985, 0.01988882, 0.01348496, 0.0161998 , 0.01407998,\n",
       "       0.01517113, 0.01410847, 0.01398627, 0.01313754, 0.0152458 ,\n",
       "       0.01049494, 0.00890073, 0.01060269, 0.01263271, 0.00776105,\n",
       "       0.01095596, 0.01007735, 0.01090325, 0.01601958, 0.01273478,\n",
       "       0.01008031, 0.02387715, 0.01333704, 0.01702058, 0.01290352,\n",
       "       0.0105917 , 0.01181894, 0.01198532, 0.01202359, 0.01300411,\n",
       "       0.0113959 , 0.01111547, 0.01527961, 0.0114816 , 0.01060173,\n",
       "       0.00977378, 0.0141006 , 0.01366412, 0.01311719, 0.01129685,\n",
       "       0.01019983, 0.01000302, 0.00969836, 0.00963319, 0.00804234,\n",
       "       0.00925611, 0.01285681, 0.01089023, 0.01002415, 0.01401857,\n",
       "       0.01387491, 0.01151642, 0.0142505 , 0.0104085 , 0.0102564 ,\n",
       "       0.01235269, 0.01137307, 0.01119054, 0.00937398, 0.00988322,\n",
       "       0.00859129, 0.00951094, 0.00930056, 0.0119469 , 0.01028158,\n",
       "       0.00524421, 0.01026495, 0.01403634, 0.01003814, 0.01263932,\n",
       "       0.01261454, 0.0139409 , 0.01068081, 0.01032846, 0.01474641,\n",
       "       0.01103803, 0.01315108, 0.01043437, 0.009919  , 0.01522139,\n",
       "       0.01108612, 0.01031274, 0.01050134, 0.00913278, 0.00847338,\n",
       "       0.00627333, 0.0055245 , 0.00871041, 0.01018676, 0.0084305 ,\n",
       "       0.00817608, 0.01073665, 0.01008895, 0.01021951, 0.01052034,\n",
       "       0.01188247, 0.01347975, 0.01443306, 0.0059871 , 0.0106515 ,\n",
       "       0.01210653, 0.01411992, 0.00962235, 0.01054203, 0.01259269,\n",
       "       0.01786642, 0.01451556, 0.01301059, 0.01197392, 0.01450023,\n",
       "       0.01980838, 0.0121849 , 0.01484327, 0.01188406, 0.00928663,\n",
       "       0.00624694, 0.00963778, 0.01752108, 0.01144585, 0.01378867,\n",
       "       0.00948201, 0.01078245, 0.01125515, 0.01229953, 0.01161085,\n",
       "       0.01289356, 0.01191263, 0.01337698, 0.01834153, 0.02007805,\n",
       "       0.01501371, 0.01450415, 0.01444628, 0.02161342, 0.01436325,\n",
       "       0.01576258, 0.01928635, 0.0154252 , 0.01596566, 0.0123433 ,\n",
       "       0.00891452, 0.00756769, 0.00936186, 0.00877564, 0.00877494])"
      ]
     },
     "execution_count": 30,
     "metadata": {},
     "output_type": "execute_result"
    }
   ],
   "source": [
    "spx_rkth2[3200:4000]"
   ]
  },
  {
   "cell_type": "code",
   "execution_count": 31,
   "metadata": {},
   "outputs": [
    {
     "data": {
      "text/plain": [
       "((801, 100), (801, 100))"
      ]
     },
     "execution_count": 31,
     "metadata": {},
     "output_type": "execute_result"
    }
   ],
   "source": [
    "roughvol_result.shape,  nnet_result.shape"
   ]
  },
  {
   "cell_type": "code",
   "execution_count": 32,
   "metadata": {},
   "outputs": [],
   "source": [
    "true_result = np.array([spx_rkth2[ele:ele+101] for ele in range(3199,4000)])"
   ]
  },
  {
   "cell_type": "code",
   "execution_count": 33,
   "metadata": {},
   "outputs": [
    {
     "data": {
      "text/plain": [
       "(801, 101)"
      ]
     },
     "execution_count": 33,
     "metadata": {},
     "output_type": "execute_result"
    }
   ],
   "source": [
    "true_result.shape"
   ]
  },
  {
   "cell_type": "code",
   "execution_count": 34,
   "metadata": {},
   "outputs": [],
   "source": [
    "unconditional_var = np.mean((np.log(true_result[:,1:])-np.log(true_result[:,0][:,np.newaxis]))**2,axis=0)"
   ]
  },
  {
   "cell_type": "code",
   "execution_count": 35,
   "metadata": {},
   "outputs": [
    {
     "data": {
      "text/plain": [
       "<matplotlib.legend.Legend at 0x1a1ea9d048>"
      ]
     },
     "execution_count": 35,
     "metadata": {},
     "output_type": "execute_result"
    },
    {
     "data": {
      "image/png": "[encoded data removed]",
      "text/plain": [
       "<Figure size 720x720 with 1 Axes>"
      ]
     },
     "metadata": {},
     "output_type": "display_data"
    }
   ],
   "source": [
    "plt.figure(figsize=(10,10))\n",
    "plt.scatter(np.arange(1,101),unconditional_var)\n",
    "plt.scatter(np.arange(1,101),np.mean((np.log(true_result[:,1:]) - np.log(roughvol_result))**2,axis=0))\n",
    "plt.scatter(np.arange(1,101),np.mean((np.log(true_result[:,1:]) - np.log(nnet_result))**2,axis=0))\n",
    "plt.title('BVSP')\n",
    "plt.legend(['unconditional_var', 'roughvol','nnet'])"
   ]
  },
  {
   "cell_type": "code",
   "execution_count": 20,
   "metadata": {},
   "outputs": [
    {
     "data": {
      "text/plain": [
       "array([0.04916946, 0.06091254, 0.06858834, 0.07551569, 0.07898785,\n",
       "       0.0825369 , 0.08569849, 0.08748968, 0.08650466, 0.08826774,\n",
       "       0.08940363, 0.09071328, 0.0894018 , 0.08892317, 0.09150849,\n",
       "       0.09169691, 0.09240933, 0.09337488, 0.09345672, 0.0962137 ,\n",
       "       0.09946904, 0.10132555, 0.10248637, 0.10398794, 0.10542772,\n",
       "       0.10723669, 0.1094041 , 0.10919217, 0.11012155, 0.11096252,\n",
       "       0.1120402 , 0.11250712, 0.11179413, 0.11159325, 0.11160624,\n",
       "       0.11080575, 0.1099378 , 0.10974912, 0.10925728, 0.11079034,\n",
       "       0.11231121, 0.11307804, 0.11353321, 0.11343686, 0.11444239,\n",
       "       0.11615991, 0.11688718, 0.11640262, 0.11697576, 0.11706493,\n",
       "       0.11786698, 0.1185573 , 0.11781404, 0.11742843, 0.1180316 ,\n",
       "       0.11838617, 0.11901562, 0.11921843, 0.11884374, 0.11954541,\n",
       "       0.12029736, 0.12049245, 0.12089913, 0.12090382, 0.12173193,\n",
       "       0.12228692, 0.12237458, 0.12192129, 0.12139438, 0.12156892,\n",
       "       0.12193093, 0.12138366, 0.12134409, 0.12058363, 0.11977423,\n",
       "       0.11801817, 0.11623905, 0.11522509, 0.11466695, 0.11541774,\n",
       "       0.11511037, 0.11499451, 0.11541675, 0.1150422 , 0.11449448,\n",
       "       0.11448817, 0.1141943 , 0.11414323, 0.1147563 , 0.11474176,\n",
       "       0.11472912, 0.11370453, 0.11258076, 0.1120111 , 0.11147476,\n",
       "       0.11236407, 0.11316346, 0.11345037, 0.11278292, 0.11448218])"
      ]
     },
     "execution_count": 20,
     "metadata": {},
     "output_type": "execute_result"
    }
   ],
   "source": [
    "np.mean((np.log(true_result[:,1:]) - np.log(roughvol_result))**2,axis=0)"
   ]
  },
  {
   "cell_type": "code",
   "execution_count": 21,
   "metadata": {},
   "outputs": [
    {
     "data": {
      "text/plain": [
       "array([0.05443739, 0.06580053, 0.07400681, 0.08091564, 0.08418338,\n",
       "       0.08785258, 0.0908115 , 0.09207331, 0.09267833, 0.09466423,\n",
       "       0.09522541, 0.09661396, 0.09678394, 0.09682978, 0.09977573,\n",
       "       0.10116445, 0.10306465, 0.10481458, 0.10587525, 0.10915933,\n",
       "       0.1123285 , 0.11403865, 0.11566386, 0.11720754, 0.11870375,\n",
       "       0.1206148 , 0.1231601 , 0.12182147, 0.12391227, 0.12481681,\n",
       "       0.12613967, 0.12642798, 0.12636169, 0.12669568, 0.12716574,\n",
       "       0.12677876, 0.12676313, 0.12665157, 0.1267855 , 0.12761376,\n",
       "       0.12900674, 0.12992962, 0.13068862, 0.1311895 , 0.13214709,\n",
       "       0.13358236, 0.13453358, 0.1347971 , 0.13583601, 0.13664067,\n",
       "       0.13791373, 0.13924057, 0.14011106, 0.14085864, 0.14193035,\n",
       "       0.14362216, 0.14554206, 0.14647361, 0.1484283 , 0.14914375,\n",
       "       0.15255231, 0.15433427, 0.15353475, 0.15597265, 0.15755542,\n",
       "       0.15889313, 0.1599371 , 0.16066401, 0.16483043, 0.16262542,\n",
       "       0.16382897, 0.16519496, 0.16570747, 0.17075251, 0.16689574,\n",
       "       0.16737925, 0.1596741 , 0.16646854, 0.16813455, 0.16603598,\n",
       "       0.16996344, 0.17069847, 0.1718591 , 0.17300489, 0.17342078,\n",
       "       0.17613098, 0.17542286, 0.1759619 , 0.17702818, 0.18594061,\n",
       "       0.17813052, 0.17897123, 0.17925212, 0.18006835, 0.18365317,\n",
       "       0.18412915, 0.18576048, 0.18788206, 0.1904051 , 0.19163203])"
      ]
     },
     "execution_count": 21,
     "metadata": {},
     "output_type": "execute_result"
    }
   ],
   "source": [
    "np.mean((np.log(true_result[:,1:]) - np.log(nnet_result))**2,axis=0)"
   ]
  },
  {
   "cell_type": "code",
   "execution_count": null,
   "metadata": {},
   "outputs": [],
   "source": []
  },
  {
   "cell_type": "code",
   "execution_count": null,
   "metadata": {},
   "outputs": [],
   "source": []
  }
 ],
 "metadata": {
  "kernelspec": {
   "display_name": "Python 3",
   "language": "python",
   "name": "python3"
  },
  "language_info": {
   "codemirror_mode": {
    "name": "ipython",
    "version": 3
   },
   "file_extension": ".py",
   "mimetype": "text/x-python",
   "name": "python",
   "nbconvert_exporter": "python",
   "pygments_lexer": "ipython3",
   "version": "3.6.7"
  },
  "toc": {
   "base_numbering": 1,
   "nav_menu": {},
   "number_sections": true,
   "sideBar": true,
   "skip_h1_title": false,
   "title_cell": "Table of Contents",
   "title_sidebar": "Contents",
   "toc_cell": false,
   "toc_position": {},
   "toc_section_display": true,
   "toc_window_display": false
  }
 },
 "nbformat": 4,
 "nbformat_minor": 2
}
